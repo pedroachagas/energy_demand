{
 "cells": [
  {
   "cell_type": "code",
   "execution_count": 12,
   "metadata": {},
   "outputs": [],
   "source": [
    "import sys\n",
    "import os\n",
    "\n",
    "# Add the src directory to the system path\n",
    "sys.path.append(os.path.abspath(os.path.join('..', 'src')))\n",
    "\n",
    "# Now you can import the functions from utils.py\n",
    "from utils import load_predictions, get_gold_data, score_data\n",
    "import loguru as logging\n",
    "import pandas as pd\n",
    "import glob\n",
    "import joblib\n",
    "import os\n",
    "import numpy as np\n",
    "\n",
    "# Initialize the logger\n",
    "logger = logging.logger\n",
    "\n",
    "# set plotly as the default plotting library\n",
    "pd.options.plotting.backend = \"plotly\""
   ]
  },
  {
   "cell_type": "code",
   "execution_count": 5,
   "metadata": {},
   "outputs": [
    {
     "name": "stderr",
     "output_type": "stream",
     "text": [
      "\u001b[32m2024-08-23 16:01:20.727\u001b[0m | \u001b[1mINFO    \u001b[0m | \u001b[36mutils\u001b[0m:\u001b[36mload_predictions\u001b[0m:\u001b[36m317\u001b[0m - \u001b[1mLoading predictions\u001b[0m\n"
     ]
    },
    {
     "data": {
      "text/html": [
       "<div>\n",
       "<style scoped>\n",
       "    .dataframe tbody tr th:only-of-type {\n",
       "        vertical-align: middle;\n",
       "    }\n",
       "\n",
       "    .dataframe tbody tr th {\n",
       "        vertical-align: top;\n",
       "    }\n",
       "\n",
       "    .dataframe thead th {\n",
       "        text-align: right;\n",
       "    }\n",
       "</style>\n",
       "<table border=\"1\" class=\"dataframe\">\n",
       "  <thead>\n",
       "    <tr style=\"text-align: right;\">\n",
       "      <th></th>\n",
       "      <th>ds</th>\n",
       "      <th>y</th>\n",
       "      <th>CatBoostRegressor</th>\n",
       "    </tr>\n",
       "  </thead>\n",
       "  <tbody>\n",
       "    <tr>\n",
       "      <th>39</th>\n",
       "      <td>2024-07-24</td>\n",
       "      <td>886205.6555</td>\n",
       "      <td>828998.772973</td>\n",
       "    </tr>\n",
       "    <tr>\n",
       "      <th>40</th>\n",
       "      <td>2024-07-25</td>\n",
       "      <td>889648.5340</td>\n",
       "      <td>830907.164787</td>\n",
       "    </tr>\n",
       "    <tr>\n",
       "      <th>41</th>\n",
       "      <td>2024-07-26</td>\n",
       "      <td>887822.2490</td>\n",
       "      <td>819731.204509</td>\n",
       "    </tr>\n",
       "    <tr>\n",
       "      <th>42</th>\n",
       "      <td>2024-07-27</td>\n",
       "      <td>820912.4420</td>\n",
       "      <td>753376.137410</td>\n",
       "    </tr>\n",
       "    <tr>\n",
       "      <th>43</th>\n",
       "      <td>2024-07-28</td>\n",
       "      <td>727007.1985</td>\n",
       "      <td>665741.012019</td>\n",
       "    </tr>\n",
       "    <tr>\n",
       "      <th>...</th>\n",
       "      <td>...</td>\n",
       "      <td>...</td>\n",
       "      <td>...</td>\n",
       "    </tr>\n",
       "    <tr>\n",
       "      <th>124</th>\n",
       "      <td>2024-10-17</td>\n",
       "      <td>NaN</td>\n",
       "      <td>874489.045367</td>\n",
       "    </tr>\n",
       "    <tr>\n",
       "      <th>125</th>\n",
       "      <td>2024-10-18</td>\n",
       "      <td>NaN</td>\n",
       "      <td>862455.302638</td>\n",
       "    </tr>\n",
       "    <tr>\n",
       "      <th>126</th>\n",
       "      <td>2024-10-19</td>\n",
       "      <td>NaN</td>\n",
       "      <td>797766.763016</td>\n",
       "    </tr>\n",
       "    <tr>\n",
       "      <th>127</th>\n",
       "      <td>2024-10-20</td>\n",
       "      <td>NaN</td>\n",
       "      <td>693340.219806</td>\n",
       "    </tr>\n",
       "    <tr>\n",
       "      <th>128</th>\n",
       "      <td>2024-10-21</td>\n",
       "      <td>NaN</td>\n",
       "      <td>810555.671576</td>\n",
       "    </tr>\n",
       "  </tbody>\n",
       "</table>\n",
       "<p>90 rows × 3 columns</p>\n",
       "</div>"
      ],
      "text/plain": [
       "            ds            y  CatBoostRegressor\n",
       "39  2024-07-24  886205.6555      828998.772973\n",
       "40  2024-07-25  889648.5340      830907.164787\n",
       "41  2024-07-26  887822.2490      819731.204509\n",
       "42  2024-07-27  820912.4420      753376.137410\n",
       "43  2024-07-28  727007.1985      665741.012019\n",
       "..         ...          ...                ...\n",
       "124 2024-10-17          NaN      874489.045367\n",
       "125 2024-10-18          NaN      862455.302638\n",
       "126 2024-10-19          NaN      797766.763016\n",
       "127 2024-10-20          NaN      693340.219806\n",
       "128 2024-10-21          NaN      810555.671576\n",
       "\n",
       "[90 rows x 3 columns]"
      ]
     },
     "execution_count": 5,
     "metadata": {},
     "output_type": "execute_result"
    }
   ],
   "source": [
    "preds = load_predictions()\n",
    "preds.sort_values('ds')[['ds', 'y', 'CatBoostRegressor']].tail(90)"
   ]
  },
  {
   "cell_type": "code",
   "execution_count": 7,
   "metadata": {},
   "outputs": [
    {
     "data": {
      "application/vnd.plotly.v1+json": {
       "config": {
        "plotlyServerURL": "https://plot.ly"
       },
       "data": [
        {
         "hovertemplate": "variable=y<br>ds=%{x}<br>value=%{y}<extra></extra>",
         "legendgroup": "y",
         "line": {
          "color": "#636efa",
          "dash": "solid"
         },
         "marker": {
          "symbol": "circle"
         },
         "mode": "lines",
         "name": "y",
         "orientation": "v",
         "showlegend": true,
         "type": "scatter",
         "x": [
          "2024-06-15T00:00:00",
          "2024-06-16T00:00:00",
          "2024-06-17T00:00:00",
          "2024-06-18T00:00:00",
          "2024-06-19T00:00:00",
          "2024-06-20T00:00:00",
          "2024-06-21T00:00:00",
          "2024-06-22T00:00:00",
          "2024-06-23T00:00:00",
          "2024-06-24T00:00:00",
          "2024-06-25T00:00:00",
          "2024-06-26T00:00:00",
          "2024-06-27T00:00:00",
          "2024-06-28T00:00:00",
          "2024-06-29T00:00:00",
          "2024-06-30T00:00:00",
          "2024-07-01T00:00:00",
          "2024-07-02T00:00:00",
          "2024-07-03T00:00:00",
          "2024-07-04T00:00:00",
          "2024-07-05T00:00:00",
          "2024-07-06T00:00:00",
          "2024-07-07T00:00:00",
          "2024-07-08T00:00:00",
          "2024-07-09T00:00:00",
          "2024-07-10T00:00:00",
          "2024-07-11T00:00:00",
          "2024-07-12T00:00:00",
          "2024-07-13T00:00:00",
          "2024-07-14T00:00:00",
          "2024-07-15T00:00:00",
          "2024-07-16T00:00:00",
          "2024-07-17T00:00:00",
          "2024-07-18T00:00:00",
          "2024-07-19T00:00:00",
          "2024-07-20T00:00:00",
          "2024-07-21T00:00:00",
          "2024-07-22T00:00:00",
          "2024-07-23T00:00:00",
          "2024-07-24T00:00:00",
          "2024-07-25T00:00:00",
          "2024-07-26T00:00:00",
          "2024-07-27T00:00:00",
          "2024-07-28T00:00:00",
          "2024-07-29T00:00:00",
          "2024-07-30T00:00:00",
          "2024-07-31T00:00:00",
          "2024-08-01T00:00:00",
          "2024-08-02T00:00:00",
          "2024-08-03T00:00:00",
          "2024-08-04T00:00:00",
          "2024-08-05T00:00:00",
          "2024-08-06T00:00:00",
          "2024-08-07T00:00:00",
          "2024-08-08T00:00:00",
          "2024-08-09T00:00:00",
          "2024-08-10T00:00:00",
          "2024-08-11T00:00:00",
          "2024-08-12T00:00:00",
          "2024-08-13T00:00:00",
          "2024-08-14T00:00:00",
          "2024-08-15T00:00:00",
          "2024-08-16T00:00:00",
          "2024-08-17T00:00:00",
          "2024-08-18T00:00:00",
          "2024-08-19T00:00:00",
          "2024-08-20T00:00:00",
          "2024-08-21T00:00:00",
          "2024-08-22T00:00:00",
          "2024-08-23T00:00:00",
          "2024-08-24T00:00:00",
          "2024-08-25T00:00:00",
          "2024-08-26T00:00:00",
          "2024-08-27T00:00:00",
          "2024-08-28T00:00:00",
          "2024-08-29T00:00:00",
          "2024-08-30T00:00:00",
          "2024-08-31T00:00:00",
          "2024-09-01T00:00:00",
          "2024-09-02T00:00:00",
          "2024-09-03T00:00:00",
          "2024-09-04T00:00:00",
          "2024-09-05T00:00:00",
          "2024-09-06T00:00:00",
          "2024-09-07T00:00:00",
          "2024-09-08T00:00:00",
          "2024-09-09T00:00:00",
          "2024-09-10T00:00:00",
          "2024-09-11T00:00:00",
          "2024-09-12T00:00:00",
          "2024-09-13T00:00:00",
          "2024-09-14T00:00:00",
          "2024-09-15T00:00:00",
          "2024-09-16T00:00:00",
          "2024-09-17T00:00:00",
          "2024-09-18T00:00:00",
          "2024-09-19T00:00:00",
          "2024-09-20T00:00:00",
          "2024-09-21T00:00:00",
          "2024-09-22T00:00:00",
          "2024-09-23T00:00:00",
          "2024-09-24T00:00:00",
          "2024-09-25T00:00:00",
          "2024-09-26T00:00:00",
          "2024-09-27T00:00:00",
          "2024-09-28T00:00:00",
          "2024-09-29T00:00:00",
          "2024-09-30T00:00:00",
          "2024-10-01T00:00:00",
          "2024-10-02T00:00:00",
          "2024-10-03T00:00:00",
          "2024-10-04T00:00:00",
          "2024-10-05T00:00:00",
          "2024-10-06T00:00:00",
          "2024-10-07T00:00:00",
          "2024-10-08T00:00:00",
          "2024-10-09T00:00:00",
          "2024-10-10T00:00:00",
          "2024-10-11T00:00:00",
          "2024-10-12T00:00:00",
          "2024-10-13T00:00:00",
          "2024-10-14T00:00:00",
          "2024-10-15T00:00:00",
          "2024-10-16T00:00:00",
          "2024-10-17T00:00:00",
          "2024-10-18T00:00:00",
          "2024-10-19T00:00:00",
          "2024-10-20T00:00:00",
          "2024-10-21T00:00:00"
         ],
         "xaxis": "x",
         "y": [
          0,
          0,
          0,
          0,
          0,
          0,
          0,
          0,
          0,
          0,
          0,
          0,
          0,
          0,
          0,
          0,
          0,
          0,
          0,
          0,
          0,
          0,
          0,
          0,
          0,
          0,
          0,
          0,
          0,
          0,
          0,
          0,
          0,
          0,
          0,
          0,
          0,
          0,
          0,
          0,
          0,
          0,
          0,
          0,
          0,
          0,
          0,
          0,
          0,
          0,
          0,
          0,
          0,
          0,
          0,
          0,
          0,
          0,
          0,
          0,
          0,
          0,
          0,
          0,
          0,
          0,
          0,
          0,
          0,
          1,
          1,
          1,
          1,
          1,
          1,
          1,
          1,
          1,
          1,
          1,
          1,
          1,
          1,
          1,
          1,
          1,
          1,
          1,
          1,
          1,
          1,
          1,
          1,
          1,
          1,
          1,
          1,
          1,
          1,
          1,
          1,
          1,
          1,
          1,
          1,
          1,
          1,
          1,
          1,
          1,
          1,
          1,
          1,
          1,
          1,
          1,
          1,
          1,
          1,
          1,
          1,
          1,
          1,
          1,
          1,
          1,
          1,
          1,
          1
         ],
         "yaxis": "y"
        }
       ],
       "layout": {
        "legend": {
         "title": {
          "text": "variable"
         },
         "tracegroupgap": 0
        },
        "margin": {
         "t": 60
        },
        "template": {
         "data": {
          "bar": [
           {
            "error_x": {
             "color": "#2a3f5f"
            },
            "error_y": {
             "color": "#2a3f5f"
            },
            "marker": {
             "line": {
              "color": "#E5ECF6",
              "width": 0.5
             },
             "pattern": {
              "fillmode": "overlay",
              "size": 10,
              "solidity": 0.2
             }
            },
            "type": "bar"
           }
          ],
          "barpolar": [
           {
            "marker": {
             "line": {
              "color": "#E5ECF6",
              "width": 0.5
             },
             "pattern": {
              "fillmode": "overlay",
              "size": 10,
              "solidity": 0.2
             }
            },
            "type": "barpolar"
           }
          ],
          "carpet": [
           {
            "aaxis": {
             "endlinecolor": "#2a3f5f",
             "gridcolor": "white",
             "linecolor": "white",
             "minorgridcolor": "white",
             "startlinecolor": "#2a3f5f"
            },
            "baxis": {
             "endlinecolor": "#2a3f5f",
             "gridcolor": "white",
             "linecolor": "white",
             "minorgridcolor": "white",
             "startlinecolor": "#2a3f5f"
            },
            "type": "carpet"
           }
          ],
          "choropleth": [
           {
            "colorbar": {
             "outlinewidth": 0,
             "ticks": ""
            },
            "type": "choropleth"
           }
          ],
          "contour": [
           {
            "colorbar": {
             "outlinewidth": 0,
             "ticks": ""
            },
            "colorscale": [
             [
              0,
              "#0d0887"
             ],
             [
              0.1111111111111111,
              "#46039f"
             ],
             [
              0.2222222222222222,
              "#7201a8"
             ],
             [
              0.3333333333333333,
              "#9c179e"
             ],
             [
              0.4444444444444444,
              "#bd3786"
             ],
             [
              0.5555555555555556,
              "#d8576b"
             ],
             [
              0.6666666666666666,
              "#ed7953"
             ],
             [
              0.7777777777777778,
              "#fb9f3a"
             ],
             [
              0.8888888888888888,
              "#fdca26"
             ],
             [
              1,
              "#f0f921"
             ]
            ],
            "type": "contour"
           }
          ],
          "contourcarpet": [
           {
            "colorbar": {
             "outlinewidth": 0,
             "ticks": ""
            },
            "type": "contourcarpet"
           }
          ],
          "heatmap": [
           {
            "colorbar": {
             "outlinewidth": 0,
             "ticks": ""
            },
            "colorscale": [
             [
              0,
              "#0d0887"
             ],
             [
              0.1111111111111111,
              "#46039f"
             ],
             [
              0.2222222222222222,
              "#7201a8"
             ],
             [
              0.3333333333333333,
              "#9c179e"
             ],
             [
              0.4444444444444444,
              "#bd3786"
             ],
             [
              0.5555555555555556,
              "#d8576b"
             ],
             [
              0.6666666666666666,
              "#ed7953"
             ],
             [
              0.7777777777777778,
              "#fb9f3a"
             ],
             [
              0.8888888888888888,
              "#fdca26"
             ],
             [
              1,
              "#f0f921"
             ]
            ],
            "type": "heatmap"
           }
          ],
          "heatmapgl": [
           {
            "colorbar": {
             "outlinewidth": 0,
             "ticks": ""
            },
            "colorscale": [
             [
              0,
              "#0d0887"
             ],
             [
              0.1111111111111111,
              "#46039f"
             ],
             [
              0.2222222222222222,
              "#7201a8"
             ],
             [
              0.3333333333333333,
              "#9c179e"
             ],
             [
              0.4444444444444444,
              "#bd3786"
             ],
             [
              0.5555555555555556,
              "#d8576b"
             ],
             [
              0.6666666666666666,
              "#ed7953"
             ],
             [
              0.7777777777777778,
              "#fb9f3a"
             ],
             [
              0.8888888888888888,
              "#fdca26"
             ],
             [
              1,
              "#f0f921"
             ]
            ],
            "type": "heatmapgl"
           }
          ],
          "histogram": [
           {
            "marker": {
             "pattern": {
              "fillmode": "overlay",
              "size": 10,
              "solidity": 0.2
             }
            },
            "type": "histogram"
           }
          ],
          "histogram2d": [
           {
            "colorbar": {
             "outlinewidth": 0,
             "ticks": ""
            },
            "colorscale": [
             [
              0,
              "#0d0887"
             ],
             [
              0.1111111111111111,
              "#46039f"
             ],
             [
              0.2222222222222222,
              "#7201a8"
             ],
             [
              0.3333333333333333,
              "#9c179e"
             ],
             [
              0.4444444444444444,
              "#bd3786"
             ],
             [
              0.5555555555555556,
              "#d8576b"
             ],
             [
              0.6666666666666666,
              "#ed7953"
             ],
             [
              0.7777777777777778,
              "#fb9f3a"
             ],
             [
              0.8888888888888888,
              "#fdca26"
             ],
             [
              1,
              "#f0f921"
             ]
            ],
            "type": "histogram2d"
           }
          ],
          "histogram2dcontour": [
           {
            "colorbar": {
             "outlinewidth": 0,
             "ticks": ""
            },
            "colorscale": [
             [
              0,
              "#0d0887"
             ],
             [
              0.1111111111111111,
              "#46039f"
             ],
             [
              0.2222222222222222,
              "#7201a8"
             ],
             [
              0.3333333333333333,
              "#9c179e"
             ],
             [
              0.4444444444444444,
              "#bd3786"
             ],
             [
              0.5555555555555556,
              "#d8576b"
             ],
             [
              0.6666666666666666,
              "#ed7953"
             ],
             [
              0.7777777777777778,
              "#fb9f3a"
             ],
             [
              0.8888888888888888,
              "#fdca26"
             ],
             [
              1,
              "#f0f921"
             ]
            ],
            "type": "histogram2dcontour"
           }
          ],
          "mesh3d": [
           {
            "colorbar": {
             "outlinewidth": 0,
             "ticks": ""
            },
            "type": "mesh3d"
           }
          ],
          "parcoords": [
           {
            "line": {
             "colorbar": {
              "outlinewidth": 0,
              "ticks": ""
             }
            },
            "type": "parcoords"
           }
          ],
          "pie": [
           {
            "automargin": true,
            "type": "pie"
           }
          ],
          "scatter": [
           {
            "fillpattern": {
             "fillmode": "overlay",
             "size": 10,
             "solidity": 0.2
            },
            "type": "scatter"
           }
          ],
          "scatter3d": [
           {
            "line": {
             "colorbar": {
              "outlinewidth": 0,
              "ticks": ""
             }
            },
            "marker": {
             "colorbar": {
              "outlinewidth": 0,
              "ticks": ""
             }
            },
            "type": "scatter3d"
           }
          ],
          "scattercarpet": [
           {
            "marker": {
             "colorbar": {
              "outlinewidth": 0,
              "ticks": ""
             }
            },
            "type": "scattercarpet"
           }
          ],
          "scattergeo": [
           {
            "marker": {
             "colorbar": {
              "outlinewidth": 0,
              "ticks": ""
             }
            },
            "type": "scattergeo"
           }
          ],
          "scattergl": [
           {
            "marker": {
             "colorbar": {
              "outlinewidth": 0,
              "ticks": ""
             }
            },
            "type": "scattergl"
           }
          ],
          "scattermapbox": [
           {
            "marker": {
             "colorbar": {
              "outlinewidth": 0,
              "ticks": ""
             }
            },
            "type": "scattermapbox"
           }
          ],
          "scatterpolar": [
           {
            "marker": {
             "colorbar": {
              "outlinewidth": 0,
              "ticks": ""
             }
            },
            "type": "scatterpolar"
           }
          ],
          "scatterpolargl": [
           {
            "marker": {
             "colorbar": {
              "outlinewidth": 0,
              "ticks": ""
             }
            },
            "type": "scatterpolargl"
           }
          ],
          "scatterternary": [
           {
            "marker": {
             "colorbar": {
              "outlinewidth": 0,
              "ticks": ""
             }
            },
            "type": "scatterternary"
           }
          ],
          "surface": [
           {
            "colorbar": {
             "outlinewidth": 0,
             "ticks": ""
            },
            "colorscale": [
             [
              0,
              "#0d0887"
             ],
             [
              0.1111111111111111,
              "#46039f"
             ],
             [
              0.2222222222222222,
              "#7201a8"
             ],
             [
              0.3333333333333333,
              "#9c179e"
             ],
             [
              0.4444444444444444,
              "#bd3786"
             ],
             [
              0.5555555555555556,
              "#d8576b"
             ],
             [
              0.6666666666666666,
              "#ed7953"
             ],
             [
              0.7777777777777778,
              "#fb9f3a"
             ],
             [
              0.8888888888888888,
              "#fdca26"
             ],
             [
              1,
              "#f0f921"
             ]
            ],
            "type": "surface"
           }
          ],
          "table": [
           {
            "cells": {
             "fill": {
              "color": "#EBF0F8"
             },
             "line": {
              "color": "white"
             }
            },
            "header": {
             "fill": {
              "color": "#C8D4E3"
             },
             "line": {
              "color": "white"
             }
            },
            "type": "table"
           }
          ]
         },
         "layout": {
          "annotationdefaults": {
           "arrowcolor": "#2a3f5f",
           "arrowhead": 0,
           "arrowwidth": 1
          },
          "autotypenumbers": "strict",
          "coloraxis": {
           "colorbar": {
            "outlinewidth": 0,
            "ticks": ""
           }
          },
          "colorscale": {
           "diverging": [
            [
             0,
             "#8e0152"
            ],
            [
             0.1,
             "#c51b7d"
            ],
            [
             0.2,
             "#de77ae"
            ],
            [
             0.3,
             "#f1b6da"
            ],
            [
             0.4,
             "#fde0ef"
            ],
            [
             0.5,
             "#f7f7f7"
            ],
            [
             0.6,
             "#e6f5d0"
            ],
            [
             0.7,
             "#b8e186"
            ],
            [
             0.8,
             "#7fbc41"
            ],
            [
             0.9,
             "#4d9221"
            ],
            [
             1,
             "#276419"
            ]
           ],
           "sequential": [
            [
             0,
             "#0d0887"
            ],
            [
             0.1111111111111111,
             "#46039f"
            ],
            [
             0.2222222222222222,
             "#7201a8"
            ],
            [
             0.3333333333333333,
             "#9c179e"
            ],
            [
             0.4444444444444444,
             "#bd3786"
            ],
            [
             0.5555555555555556,
             "#d8576b"
            ],
            [
             0.6666666666666666,
             "#ed7953"
            ],
            [
             0.7777777777777778,
             "#fb9f3a"
            ],
            [
             0.8888888888888888,
             "#fdca26"
            ],
            [
             1,
             "#f0f921"
            ]
           ],
           "sequentialminus": [
            [
             0,
             "#0d0887"
            ],
            [
             0.1111111111111111,
             "#46039f"
            ],
            [
             0.2222222222222222,
             "#7201a8"
            ],
            [
             0.3333333333333333,
             "#9c179e"
            ],
            [
             0.4444444444444444,
             "#bd3786"
            ],
            [
             0.5555555555555556,
             "#d8576b"
            ],
            [
             0.6666666666666666,
             "#ed7953"
            ],
            [
             0.7777777777777778,
             "#fb9f3a"
            ],
            [
             0.8888888888888888,
             "#fdca26"
            ],
            [
             1,
             "#f0f921"
            ]
           ]
          },
          "colorway": [
           "#636efa",
           "#EF553B",
           "#00cc96",
           "#ab63fa",
           "#FFA15A",
           "#19d3f3",
           "#FF6692",
           "#B6E880",
           "#FF97FF",
           "#FECB52"
          ],
          "font": {
           "color": "#2a3f5f"
          },
          "geo": {
           "bgcolor": "white",
           "lakecolor": "white",
           "landcolor": "#E5ECF6",
           "showlakes": true,
           "showland": true,
           "subunitcolor": "white"
          },
          "hoverlabel": {
           "align": "left"
          },
          "hovermode": "closest",
          "mapbox": {
           "style": "light"
          },
          "paper_bgcolor": "white",
          "plot_bgcolor": "#E5ECF6",
          "polar": {
           "angularaxis": {
            "gridcolor": "white",
            "linecolor": "white",
            "ticks": ""
           },
           "bgcolor": "#E5ECF6",
           "radialaxis": {
            "gridcolor": "white",
            "linecolor": "white",
            "ticks": ""
           }
          },
          "scene": {
           "xaxis": {
            "backgroundcolor": "#E5ECF6",
            "gridcolor": "white",
            "gridwidth": 2,
            "linecolor": "white",
            "showbackground": true,
            "ticks": "",
            "zerolinecolor": "white"
           },
           "yaxis": {
            "backgroundcolor": "#E5ECF6",
            "gridcolor": "white",
            "gridwidth": 2,
            "linecolor": "white",
            "showbackground": true,
            "ticks": "",
            "zerolinecolor": "white"
           },
           "zaxis": {
            "backgroundcolor": "#E5ECF6",
            "gridcolor": "white",
            "gridwidth": 2,
            "linecolor": "white",
            "showbackground": true,
            "ticks": "",
            "zerolinecolor": "white"
           }
          },
          "shapedefaults": {
           "line": {
            "color": "#2a3f5f"
           }
          },
          "ternary": {
           "aaxis": {
            "gridcolor": "white",
            "linecolor": "white",
            "ticks": ""
           },
           "baxis": {
            "gridcolor": "white",
            "linecolor": "white",
            "ticks": ""
           },
           "bgcolor": "#E5ECF6",
           "caxis": {
            "gridcolor": "white",
            "linecolor": "white",
            "ticks": ""
           }
          },
          "title": {
           "x": 0.05
          },
          "xaxis": {
           "automargin": true,
           "gridcolor": "white",
           "linecolor": "white",
           "ticks": "",
           "title": {
            "standoff": 15
           },
           "zerolinecolor": "white",
           "zerolinewidth": 2
          },
          "yaxis": {
           "automargin": true,
           "gridcolor": "white",
           "linecolor": "white",
           "ticks": "",
           "title": {
            "standoff": 15
           },
           "zerolinecolor": "white",
           "zerolinewidth": 2
          }
         }
        },
        "xaxis": {
         "anchor": "y",
         "domain": [
          0,
          1
         ],
         "title": {
          "text": "ds"
         }
        },
        "yaxis": {
         "anchor": "x",
         "domain": [
          0,
          1
         ],
         "title": {
          "text": "value"
         }
        }
       }
      }
     },
     "metadata": {},
     "output_type": "display_data"
    }
   ],
   "source": [
    "preds.groupby('ds')['y'].apply(lambda x: pd.isna(x).sum()).plot()"
   ]
  },
  {
   "cell_type": "code",
   "execution_count": 165,
   "metadata": {},
   "outputs": [
    {
     "name": "stderr",
     "output_type": "stream",
     "text": [
      "\u001b[32m2024-08-23 15:40:37.818\u001b[0m | \u001b[1mINFO    \u001b[0m | \u001b[36mutils\u001b[0m:\u001b[36mget_gold_data\u001b[0m:\u001b[36m181\u001b[0m - \u001b[1mFetching data from Gold layer for date\u001b[0m\n"
     ]
    },
    {
     "data": {
      "text/html": [
       "<div>\n",
       "<style scoped>\n",
       "    .dataframe tbody tr th:only-of-type {\n",
       "        vertical-align: middle;\n",
       "    }\n",
       "\n",
       "    .dataframe tbody tr th {\n",
       "        vertical-align: top;\n",
       "    }\n",
       "\n",
       "    .dataframe thead th {\n",
       "        text-align: right;\n",
       "    }\n",
       "</style>\n",
       "<table border=\"1\" class=\"dataframe\">\n",
       "  <thead>\n",
       "    <tr style=\"text-align: right;\">\n",
       "      <th></th>\n",
       "      <th>ds</th>\n",
       "      <th>y</th>\n",
       "      <th>unique_id</th>\n",
       "    </tr>\n",
       "  </thead>\n",
       "  <tbody>\n",
       "    <tr>\n",
       "      <th>0</th>\n",
       "      <td>2021-01-01</td>\n",
       "      <td>517292.1985</td>\n",
       "      <td>0</td>\n",
       "    </tr>\n",
       "    <tr>\n",
       "      <th>1</th>\n",
       "      <td>2021-01-02</td>\n",
       "      <td>663260.0435</td>\n",
       "      <td>0</td>\n",
       "    </tr>\n",
       "    <tr>\n",
       "      <th>2</th>\n",
       "      <td>2021-01-03</td>\n",
       "      <td>656525.3775</td>\n",
       "      <td>0</td>\n",
       "    </tr>\n",
       "    <tr>\n",
       "      <th>3</th>\n",
       "      <td>2021-01-04</td>\n",
       "      <td>796937.2295</td>\n",
       "      <td>0</td>\n",
       "    </tr>\n",
       "    <tr>\n",
       "      <th>4</th>\n",
       "      <td>2021-01-05</td>\n",
       "      <td>875973.0590</td>\n",
       "      <td>0</td>\n",
       "    </tr>\n",
       "    <tr>\n",
       "      <th>...</th>\n",
       "      <td>...</td>\n",
       "      <td>...</td>\n",
       "      <td>...</td>\n",
       "    </tr>\n",
       "    <tr>\n",
       "      <th>1325</th>\n",
       "      <td>2024-08-18</td>\n",
       "      <td>744501.7770</td>\n",
       "      <td>0</td>\n",
       "    </tr>\n",
       "    <tr>\n",
       "      <th>1326</th>\n",
       "      <td>2024-08-19</td>\n",
       "      <td>880713.2220</td>\n",
       "      <td>0</td>\n",
       "    </tr>\n",
       "    <tr>\n",
       "      <th>1327</th>\n",
       "      <td>2024-08-20</td>\n",
       "      <td>927637.6410</td>\n",
       "      <td>0</td>\n",
       "    </tr>\n",
       "    <tr>\n",
       "      <th>1328</th>\n",
       "      <td>2024-08-21</td>\n",
       "      <td>931550.5060</td>\n",
       "      <td>0</td>\n",
       "    </tr>\n",
       "    <tr>\n",
       "      <th>1329</th>\n",
       "      <td>2024-08-22</td>\n",
       "      <td>929876.4890</td>\n",
       "      <td>0</td>\n",
       "    </tr>\n",
       "  </tbody>\n",
       "</table>\n",
       "<p>1330 rows × 3 columns</p>\n",
       "</div>"
      ],
      "text/plain": [
       "             ds            y  unique_id\n",
       "0    2021-01-01  517292.1985          0\n",
       "1    2021-01-02  663260.0435          0\n",
       "2    2021-01-03  656525.3775          0\n",
       "3    2021-01-04  796937.2295          0\n",
       "4    2021-01-05  875973.0590          0\n",
       "...         ...          ...        ...\n",
       "1325 2024-08-18  744501.7770          0\n",
       "1326 2024-08-19  880713.2220          0\n",
       "1327 2024-08-20  927637.6410          0\n",
       "1328 2024-08-21  931550.5060          0\n",
       "1329 2024-08-22  929876.4890          0\n",
       "\n",
       "[1330 rows x 3 columns]"
      ]
     },
     "execution_count": 165,
     "metadata": {},
     "output_type": "execute_result"
    }
   ],
   "source": [
    "df_hist = get_gold_data()\n",
    "df_hist"
   ]
  },
  {
   "cell_type": "code",
   "execution_count": 166,
   "metadata": {},
   "outputs": [
    {
     "name": "stderr",
     "output_type": "stream",
     "text": [
      "\u001b[32m2024-08-23 15:40:51.062\u001b[0m | \u001b[1mINFO    \u001b[0m | \u001b[36m__main__\u001b[0m:\u001b[36m<module>\u001b[0m:\u001b[36m11\u001b[0m - \u001b[1mModel loaded successfully from ../model_folder/local_model.joblib\u001b[0m\n"
     ]
    }
   ],
   "source": [
    "# Find the extracted joblib file\n",
    "joblib_files = glob.glob(\"../model_folder/*.joblib\")\n",
    "if not joblib_files:\n",
    "    logger.error(\"No .joblib file found. Unable to proceed with scoring.\")\n",
    "\n",
    "model_path = joblib_files[0]\n",
    "\n",
    "# Load the trained model\n",
    "try:\n",
    "    model = joblib.load(model_path)\n",
    "    logger.info(f\"Model loaded successfully from {model_path}\")\n",
    "except Exception as e:\n",
    "    logger.error(f\"Error loading model: {str(e)}\")\n",
    "    raise\n"
   ]
  },
  {
   "cell_type": "code",
   "execution_count": 167,
   "metadata": {},
   "outputs": [
    {
     "data": {
      "text/html": [
       "<div>\n",
       "<style scoped>\n",
       "    .dataframe tbody tr th:only-of-type {\n",
       "        vertical-align: middle;\n",
       "    }\n",
       "\n",
       "    .dataframe tbody tr th {\n",
       "        vertical-align: top;\n",
       "    }\n",
       "\n",
       "    .dataframe thead th {\n",
       "        text-align: right;\n",
       "    }\n",
       "</style>\n",
       "<table border=\"1\" class=\"dataframe\">\n",
       "  <thead>\n",
       "    <tr style=\"text-align: right;\">\n",
       "      <th></th>\n",
       "      <th>unique_id</th>\n",
       "      <th>ds</th>\n",
       "      <th>CatBoostRegressor</th>\n",
       "      <th>LGBMRegressor</th>\n",
       "      <th>XGBRegressor</th>\n",
       "      <th>RandomForestRegressor</th>\n",
       "    </tr>\n",
       "  </thead>\n",
       "  <tbody>\n",
       "    <tr>\n",
       "      <th>0</th>\n",
       "      <td>0</td>\n",
       "      <td>2024-08-13</td>\n",
       "      <td>859596.398764</td>\n",
       "      <td>850939.848937</td>\n",
       "      <td>839761.3125</td>\n",
       "      <td>851227.58824</td>\n",
       "    </tr>\n",
       "  </tbody>\n",
       "</table>\n",
       "</div>"
      ],
      "text/plain": [
       "   unique_id         ds  CatBoostRegressor  LGBMRegressor  XGBRegressor  \\\n",
       "0          0 2024-08-13      859596.398764  850939.848937   839761.3125   \n",
       "\n",
       "   RandomForestRegressor  \n",
       "0           851227.58824  "
      ]
     },
     "execution_count": 167,
     "metadata": {},
     "output_type": "execute_result"
    }
   ],
   "source": [
    "preds = model.predict(1)\n",
    "preds"
   ]
  },
  {
   "cell_type": "code",
   "execution_count": 168,
   "metadata": {},
   "outputs": [
    {
     "data": {
      "text/html": [
       "<div>\n",
       "<style scoped>\n",
       "    .dataframe tbody tr th:only-of-type {\n",
       "        vertical-align: middle;\n",
       "    }\n",
       "\n",
       "    .dataframe tbody tr th {\n",
       "        vertical-align: top;\n",
       "    }\n",
       "\n",
       "    .dataframe thead th {\n",
       "        text-align: right;\n",
       "    }\n",
       "</style>\n",
       "<table border=\"1\" class=\"dataframe\">\n",
       "  <thead>\n",
       "    <tr style=\"text-align: right;\">\n",
       "      <th></th>\n",
       "      <th>ds</th>\n",
       "      <th>y</th>\n",
       "      <th>unique_id</th>\n",
       "      <th>CatBoostRegressor</th>\n",
       "      <th>LGBMRegressor</th>\n",
       "      <th>XGBRegressor</th>\n",
       "      <th>RandomForestRegressor</th>\n",
       "    </tr>\n",
       "  </thead>\n",
       "  <tbody>\n",
       "    <tr>\n",
       "      <th>0</th>\n",
       "      <td>2024-08-13</td>\n",
       "      <td>844564.07</td>\n",
       "      <td>0</td>\n",
       "      <td>859596.398764</td>\n",
       "      <td>850939.848937</td>\n",
       "      <td>839761.3125</td>\n",
       "      <td>851227.58824</td>\n",
       "    </tr>\n",
       "  </tbody>\n",
       "</table>\n",
       "</div>"
      ],
      "text/plain": [
       "          ds          y  unique_id  CatBoostRegressor  LGBMRegressor  \\\n",
       "0 2024-08-13  844564.07          0      859596.398764  850939.848937   \n",
       "\n",
       "   XGBRegressor  RandomForestRegressor  \n",
       "0   839761.3125           851227.58824  "
      ]
     },
     "execution_count": 168,
     "metadata": {},
     "output_type": "execute_result"
    }
   ],
   "source": [
    "results = df_hist.merge(preds, on=['unique_id', 'ds'])\n",
    "results"
   ]
  },
  {
   "cell_type": "markdown",
   "metadata": {},
   "source": [
    "Backfill"
   ]
  },
  {
   "cell_type": "code",
   "execution_count": 151,
   "metadata": {},
   "outputs": [
    {
     "name": "stderr",
     "output_type": "stream",
     "text": [
      "\u001b[32m2024-08-23 15:32:36.461\u001b[0m | \u001b[1mINFO    \u001b[0m | \u001b[36mutils\u001b[0m:\u001b[36mget_gold_data\u001b[0m:\u001b[36m181\u001b[0m - \u001b[1mFetching data from Gold layer for date\u001b[0m\n"
     ]
    },
    {
     "name": "stdout",
     "output_type": "stream",
     "text": [
      "Dates:\n",
      "\n",
      "MODEL_START_DATE: 2021-02-01\n",
      "MODEL_SPLIT_DATE: 2024-08-13\n"
     ]
    },
    {
     "name": "stderr",
     "output_type": "stream",
     "text": [
      "\u001b[32m2024-08-23 15:32:38.516\u001b[0m | \u001b[1mINFO    \u001b[0m | \u001b[36mutils\u001b[0m:\u001b[36mtrain_model\u001b[0m:\u001b[36m243\u001b[0m - \u001b[1mTraining model\u001b[0m\n"
     ]
    },
    {
     "name": "stdout",
     "output_type": "stream",
     "text": [
      "Learning rate set to 0.275978\n",
      "0:\tlearn: 70774.6686066\ttotal: 1.05ms\tremaining: 104ms\n",
      "1:\tlearn: 58068.3323165\ttotal: 1.52ms\tremaining: 74.7ms\n",
      "2:\tlearn: 50160.6278422\ttotal: 2.19ms\tremaining: 70.9ms\n",
      "3:\tlearn: 43511.3050968\ttotal: 2.88ms\tremaining: 69.1ms\n",
      "4:\tlearn: 38833.1035645\ttotal: 3.57ms\tremaining: 67.9ms\n",
      "5:\tlearn: 35419.0805799\ttotal: 4.26ms\tremaining: 66.8ms\n",
      "6:\tlearn: 33237.4263180\ttotal: 5.34ms\tremaining: 71ms\n",
      "7:\tlearn: 31375.5576179\ttotal: 6.19ms\tremaining: 71.2ms\n",
      "8:\tlearn: 29826.4886356\ttotal: 6.84ms\tremaining: 69.2ms\n",
      "9:\tlearn: 28855.5233298\ttotal: 7.47ms\tremaining: 67.3ms\n",
      "10:\tlearn: 27963.6056265\ttotal: 8.18ms\tremaining: 66.2ms\n",
      "11:\tlearn: 27308.4279913\ttotal: 9.35ms\tremaining: 68.6ms\n",
      "12:\tlearn: 26763.3891598\ttotal: 9.98ms\tremaining: 66.8ms\n",
      "13:\tlearn: 26327.5390211\ttotal: 10.6ms\tremaining: 65.3ms\n",
      "14:\tlearn: 26027.7827140\ttotal: 11.5ms\tremaining: 64.9ms\n",
      "15:\tlearn: 25626.6781128\ttotal: 12.6ms\tremaining: 66ms\n",
      "16:\tlearn: 25290.1811191\ttotal: 13.3ms\tremaining: 64.8ms\n",
      "17:\tlearn: 24954.8842590\ttotal: 13.8ms\tremaining: 63ms\n",
      "18:\tlearn: 24640.0188271\ttotal: 14.4ms\tremaining: 61.5ms\n",
      "19:\tlearn: 24390.7807783\ttotal: 15ms\tremaining: 60ms\n",
      "20:\tlearn: 24087.4533528\ttotal: 15.7ms\tremaining: 59ms\n",
      "21:\tlearn: 23714.9650847\ttotal: 16.4ms\tremaining: 58.1ms\n",
      "22:\tlearn: 23400.0020182\ttotal: 17ms\tremaining: 56.8ms\n",
      "23:\tlearn: 23224.0348040\ttotal: 17.6ms\tremaining: 55.7ms\n",
      "24:\tlearn: 23084.3353730\ttotal: 18.1ms\tremaining: 54.4ms\n",
      "25:\tlearn: 22960.4068535\ttotal: 18.9ms\tremaining: 53.8ms\n",
      "26:\tlearn: 22670.7101361\ttotal: 19.6ms\tremaining: 53ms\n",
      "27:\tlearn: 22502.2041259\ttotal: 20.3ms\tremaining: 52.1ms\n",
      "28:\tlearn: 22157.2991746\ttotal: 20.9ms\tremaining: 51.1ms\n",
      "29:\tlearn: 21933.0392996\ttotal: 21.6ms\tremaining: 50.3ms\n",
      "30:\tlearn: 21732.3008972\ttotal: 22.6ms\tremaining: 50.2ms\n",
      "31:\tlearn: 21639.9777717\ttotal: 23.3ms\tremaining: 49.6ms\n",
      "32:\tlearn: 21420.8238321\ttotal: 24ms\tremaining: 48.6ms\n",
      "33:\tlearn: 21240.3841701\ttotal: 24.6ms\tremaining: 47.7ms\n",
      "34:\tlearn: 21051.6487960\ttotal: 25.5ms\tremaining: 47.4ms\n",
      "35:\tlearn: 20819.7557730\ttotal: 26.1ms\tremaining: 46.5ms\n",
      "36:\tlearn: 20610.9164996\ttotal: 26.7ms\tremaining: 45.5ms\n",
      "37:\tlearn: 20219.6990064\ttotal: 27.4ms\tremaining: 44.7ms\n",
      "38:\tlearn: 20046.3982367\ttotal: 28.2ms\tremaining: 44ms\n",
      "39:\tlearn: 19689.8187018\ttotal: 28.9ms\tremaining: 43.3ms\n",
      "40:\tlearn: 19411.5900873\ttotal: 29.5ms\tremaining: 42.5ms\n",
      "41:\tlearn: 19169.5097087\ttotal: 30.1ms\tremaining: 41.6ms\n",
      "42:\tlearn: 19022.4226257\ttotal: 30.7ms\tremaining: 40.7ms\n",
      "43:\tlearn: 18805.8525419\ttotal: 31.4ms\tremaining: 40ms\n",
      "44:\tlearn: 18562.8564417\ttotal: 32.2ms\tremaining: 39.4ms\n",
      "45:\tlearn: 18305.1827927\ttotal: 32.9ms\tremaining: 38.6ms\n",
      "46:\tlearn: 18195.2563629\ttotal: 33.4ms\tremaining: 37.7ms\n",
      "47:\tlearn: 18020.1060664\ttotal: 34.2ms\tremaining: 37ms\n",
      "48:\tlearn: 17967.4716326\ttotal: 35ms\tremaining: 36.4ms\n",
      "49:\tlearn: 17777.8599761\ttotal: 35.7ms\tremaining: 35.7ms\n",
      "50:\tlearn: 17545.9807431\ttotal: 36.3ms\tremaining: 34.9ms\n",
      "51:\tlearn: 17330.1374081\ttotal: 36.9ms\tremaining: 34.1ms\n",
      "52:\tlearn: 17238.7887720\ttotal: 37.7ms\tremaining: 33.4ms\n",
      "53:\tlearn: 17074.3302999\ttotal: 38.3ms\tremaining: 32.7ms\n",
      "54:\tlearn: 16807.3713299\ttotal: 38.9ms\tremaining: 31.9ms\n",
      "55:\tlearn: 16694.2696386\ttotal: 39.5ms\tremaining: 31.1ms\n",
      "56:\tlearn: 16642.3258924\ttotal: 40.3ms\tremaining: 30.4ms\n",
      "57:\tlearn: 16468.7992315\ttotal: 40.9ms\tremaining: 29.6ms\n",
      "58:\tlearn: 16349.1882802\ttotal: 41.6ms\tremaining: 28.9ms\n",
      "59:\tlearn: 16203.9394848\ttotal: 42.1ms\tremaining: 28.1ms\n",
      "60:\tlearn: 16030.4538149\ttotal: 42.7ms\tremaining: 27.3ms\n",
      "61:\tlearn: 15859.8630104\ttotal: 43.3ms\tremaining: 26.5ms\n",
      "62:\tlearn: 15704.7251245\ttotal: 44.2ms\tremaining: 25.9ms\n",
      "63:\tlearn: 15383.9554425\ttotal: 44.9ms\tremaining: 25.2ms\n",
      "64:\tlearn: 15261.9741456\ttotal: 45.6ms\tremaining: 24.6ms\n",
      "65:\tlearn: 15159.9882313\ttotal: 46.2ms\tremaining: 23.8ms\n",
      "66:\tlearn: 15024.0800297\ttotal: 46.8ms\tremaining: 23.1ms\n",
      "67:\tlearn: 14914.9136694\ttotal: 47.4ms\tremaining: 22.3ms\n",
      "68:\tlearn: 14685.5807230\ttotal: 48.1ms\tremaining: 21.6ms\n",
      "69:\tlearn: 14652.1745654\ttotal: 49ms\tremaining: 21ms\n",
      "70:\tlearn: 14536.6545835\ttotal: 49.7ms\tremaining: 20.3ms\n",
      "71:\tlearn: 14326.8744803\ttotal: 50.3ms\tremaining: 19.6ms\n",
      "72:\tlearn: 14177.0018928\ttotal: 50.9ms\tremaining: 18.8ms\n",
      "73:\tlearn: 14019.6435515\ttotal: 51.5ms\tremaining: 18.1ms\n",
      "74:\tlearn: 13886.6566456\ttotal: 52ms\tremaining: 17.3ms\n",
      "75:\tlearn: 13757.5359396\ttotal: 52.8ms\tremaining: 16.7ms\n",
      "76:\tlearn: 13551.2040482\ttotal: 53.5ms\tremaining: 16ms\n",
      "77:\tlearn: 13528.3810671\ttotal: 54.1ms\tremaining: 15.3ms\n",
      "78:\tlearn: 13431.4591352\ttotal: 54.7ms\tremaining: 14.5ms\n",
      "79:\tlearn: 13351.6361553\ttotal: 55.2ms\tremaining: 13.8ms\n",
      "80:\tlearn: 13276.7218255\ttotal: 55.8ms\tremaining: 13.1ms\n",
      "81:\tlearn: 13113.1922275\ttotal: 56.6ms\tremaining: 12.4ms\n",
      "82:\tlearn: 12992.4323088\ttotal: 57.2ms\tremaining: 11.7ms\n",
      "83:\tlearn: 12883.4219167\ttotal: 57.8ms\tremaining: 11ms\n",
      "84:\tlearn: 12766.8026763\ttotal: 58.5ms\tremaining: 10.3ms\n",
      "85:\tlearn: 12731.9503267\ttotal: 59.2ms\tremaining: 9.64ms\n",
      "86:\tlearn: 12630.5290716\ttotal: 60ms\tremaining: 8.96ms\n",
      "87:\tlearn: 12539.6833070\ttotal: 60.6ms\tremaining: 8.26ms\n",
      "88:\tlearn: 12403.0007126\ttotal: 61.2ms\tremaining: 7.57ms\n",
      "89:\tlearn: 12357.5532624\ttotal: 62.2ms\tremaining: 6.91ms\n",
      "90:\tlearn: 12276.9013597\ttotal: 63ms\tremaining: 6.23ms\n",
      "91:\tlearn: 12168.0042812\ttotal: 63.5ms\tremaining: 5.53ms\n",
      "92:\tlearn: 12043.1786055\ttotal: 64.1ms\tremaining: 4.82ms\n",
      "93:\tlearn: 11928.3136720\ttotal: 64.7ms\tremaining: 4.13ms\n",
      "94:\tlearn: 11902.5154190\ttotal: 65.3ms\tremaining: 3.43ms\n",
      "95:\tlearn: 11782.7336240\ttotal: 66.1ms\tremaining: 2.75ms\n",
      "96:\tlearn: 11763.0666165\ttotal: 66.7ms\tremaining: 2.06ms\n",
      "97:\tlearn: 11730.0974066\ttotal: 67.3ms\tremaining: 1.37ms\n",
      "98:\tlearn: 11653.4187052\ttotal: 67.8ms\tremaining: 685us\n",
      "99:\tlearn: 11533.7968554\ttotal: 68.5ms\tremaining: 0us\n",
      "[LightGBM] [Info] Auto-choosing col-wise multi-threading, the overhead of testing was 0.000316 seconds.\n",
      "You can set `force_col_wise=true` to remove the overhead.\n",
      "[LightGBM] [Info] Total Bins 4190\n",
      "[LightGBM] [Info] Number of data points in the train set: 1257, number of used features: 21\n",
      "[LightGBM] [Info] Start training from score 836358.248956\n",
      "Learning rate set to 0.276082\n",
      "0:\tlearn: 70755.4481705\ttotal: 899us\tremaining: 89.1ms\n",
      "1:\tlearn: 58054.1599355\ttotal: 1.41ms\tremaining: 69.2ms\n",
      "2:\tlearn: 50110.9153638\ttotal: 2.04ms\tremaining: 66ms\n",
      "3:\tlearn: 43437.9561411\ttotal: 2.69ms\tremaining: 64.5ms\n",
      "4:\tlearn: 38758.0443221\ttotal: 3.45ms\tremaining: 65.5ms\n",
      "5:\tlearn: 35357.7712964\ttotal: 4.45ms\tremaining: 69.8ms\n",
      "6:\tlearn: 32856.9901526\ttotal: 5.26ms\tremaining: 69.8ms\n",
      "7:\tlearn: 31053.9047377\ttotal: 5.97ms\tremaining: 68.7ms\n",
      "8:\tlearn: 29576.1252048\ttotal: 6.76ms\tremaining: 68.4ms\n",
      "9:\tlearn: 28596.8025100\ttotal: 7.7ms\tremaining: 69.3ms\n",
      "10:\tlearn: 27722.1953761\ttotal: 8.42ms\tremaining: 68.1ms\n",
      "11:\tlearn: 27084.7637002\ttotal: 9.09ms\tremaining: 66.6ms\n",
      "12:\tlearn: 26512.0095138\ttotal: 10.3ms\tremaining: 68.7ms\n",
      "13:\tlearn: 26180.5533129\ttotal: 11.2ms\tremaining: 68.7ms\n",
      "14:\tlearn: 25700.1069770\ttotal: 11.9ms\tremaining: 67.3ms\n",
      "15:\tlearn: 25303.5353709\ttotal: 12.5ms\tremaining: 65.7ms\n",
      "16:\tlearn: 24952.7922395\ttotal: 13.2ms\tremaining: 64.5ms\n",
      "17:\tlearn: 24501.8613254\ttotal: 14.1ms\tremaining: 64.4ms\n",
      "18:\tlearn: 24199.1712431\ttotal: 14.8ms\tremaining: 63.3ms\n",
      "19:\tlearn: 23985.0754685\ttotal: 15.5ms\tremaining: 62.2ms\n",
      "20:\tlearn: 23661.5113112\ttotal: 16.3ms\tremaining: 61.3ms\n",
      "21:\tlearn: 23423.4499619\ttotal: 17.7ms\tremaining: 62.6ms\n",
      "22:\tlearn: 23208.9662822\ttotal: 18.4ms\tremaining: 61.5ms\n",
      "23:\tlearn: 23041.7251313\ttotal: 19ms\tremaining: 60.2ms\n",
      "24:\tlearn: 22811.5695208\ttotal: 19.7ms\tremaining: 59ms\n",
      "25:\tlearn: 22428.5527015\ttotal: 20.3ms\tremaining: 57.7ms\n",
      "26:\tlearn: 22207.3140159\ttotal: 21.1ms\tremaining: 56.9ms\n",
      "27:\tlearn: 22027.6314437\ttotal: 21.9ms\tremaining: 56.4ms\n",
      "28:\tlearn: 21828.9325589\ttotal: 22.7ms\tremaining: 55.5ms\n",
      "29:\tlearn: 21577.4683806\ttotal: 23.3ms\tremaining: 54.4ms\n",
      "30:\tlearn: 21343.2478531\ttotal: 24ms\tremaining: 53.5ms\n",
      "31:\tlearn: 21224.3226921\ttotal: 24.9ms\tremaining: 52.8ms\n",
      "32:\tlearn: 21000.6354005\ttotal: 25.5ms\tremaining: 51.7ms\n",
      "33:\tlearn: 20923.8714727\ttotal: 26.1ms\tremaining: 50.6ms\n",
      "34:\tlearn: 20739.4027612\ttotal: 27.1ms\tremaining: 50.3ms\n",
      "35:\tlearn: 20557.1361997\ttotal: 27.9ms\tremaining: 49.5ms\n",
      "36:\tlearn: 20359.1722736\ttotal: 28.6ms\tremaining: 48.7ms\n",
      "37:\tlearn: 20082.2679405\ttotal: 29.5ms\tremaining: 48.1ms\n",
      "38:\tlearn: 19934.2482668\ttotal: 30.3ms\tremaining: 47.4ms\n",
      "39:\tlearn: 19587.4089371\ttotal: 31.1ms\tremaining: 46.7ms\n",
      "40:\tlearn: 19529.4260536\ttotal: 31.8ms\tremaining: 45.7ms\n",
      "41:\tlearn: 19368.1253132\ttotal: 32.4ms\tremaining: 44.8ms\n",
      "42:\tlearn: 19174.1207421\ttotal: 33.2ms\tremaining: 44ms\n",
      "43:\tlearn: 19090.5955483\ttotal: 34ms\tremaining: 43.2ms\n",
      "44:\tlearn: 18899.3259498\ttotal: 34.6ms\tremaining: 42.3ms\n",
      "45:\tlearn: 18619.3596986\ttotal: 35.2ms\tremaining: 41.3ms\n",
      "46:\tlearn: 18321.0280953\ttotal: 35.9ms\tremaining: 40.5ms\n",
      "47:\tlearn: 18160.3065235\ttotal: 36.8ms\tremaining: 39.9ms\n",
      "48:\tlearn: 17985.6302150\ttotal: 37.4ms\tremaining: 38.9ms\n",
      "49:\tlearn: 17780.3552069\ttotal: 38ms\tremaining: 38ms\n",
      "50:\tlearn: 17632.5345282\ttotal: 38.6ms\tremaining: 37.1ms\n",
      "51:\tlearn: 17488.6431904\ttotal: 39.3ms\tremaining: 36.2ms\n",
      "52:\tlearn: 17268.8389089\ttotal: 40ms\tremaining: 35.5ms\n",
      "53:\tlearn: 17171.0432267\ttotal: 40.6ms\tremaining: 34.6ms\n",
      "54:\tlearn: 16984.2521651\ttotal: 41.3ms\tremaining: 33.8ms\n",
      "55:\tlearn: 16813.2490377\ttotal: 42.2ms\tremaining: 33.2ms\n",
      "56:\tlearn: 16651.2986373\ttotal: 42.9ms\tremaining: 32.4ms\n",
      "57:\tlearn: 16473.8199940\ttotal: 43.5ms\tremaining: 31.5ms\n",
      "58:\tlearn: 16267.6204113\ttotal: 44.1ms\tremaining: 30.7ms\n",
      "59:\tlearn: 15986.5696670\ttotal: 44.7ms\tremaining: 29.8ms\n",
      "60:\tlearn: 15865.3845040\ttotal: 45.3ms\tremaining: 29ms\n",
      "61:\tlearn: 15768.2908746\ttotal: 46.2ms\tremaining: 28.3ms\n",
      "62:\tlearn: 15564.8778934\ttotal: 46.8ms\tremaining: 27.5ms\n",
      "63:\tlearn: 15516.0791052\ttotal: 47.4ms\tremaining: 26.7ms\n",
      "64:\tlearn: 15332.3363060\ttotal: 48ms\tremaining: 25.9ms\n",
      "65:\tlearn: 15177.0508404\ttotal: 48.7ms\tremaining: 25.1ms\n",
      "66:\tlearn: 14998.3174568\ttotal: 49.6ms\tremaining: 24.4ms\n",
      "67:\tlearn: 14790.1207590\ttotal: 50.4ms\tremaining: 23.7ms\n",
      "68:\tlearn: 14621.2229055\ttotal: 51.1ms\tremaining: 23ms\n",
      "69:\tlearn: 14593.7963094\ttotal: 51.7ms\tremaining: 22.2ms\n",
      "70:\tlearn: 14495.1642432\ttotal: 52.4ms\tremaining: 21.4ms\n",
      "71:\tlearn: 14401.3166961\ttotal: 53.1ms\tremaining: 20.6ms\n",
      "72:\tlearn: 14288.9180876\ttotal: 53.8ms\tremaining: 19.9ms\n",
      "73:\tlearn: 14213.4593296\ttotal: 54.6ms\tremaining: 19.2ms\n",
      "74:\tlearn: 14131.2151107\ttotal: 55.2ms\tremaining: 18.4ms\n",
      "75:\tlearn: 13946.3163174\ttotal: 55.8ms\tremaining: 17.6ms\n",
      "76:\tlearn: 13770.3350035\ttotal: 56.7ms\tremaining: 16.9ms\n",
      "77:\tlearn: 13608.3291354\ttotal: 57.3ms\tremaining: 16.2ms\n",
      "78:\tlearn: 13552.5262758\ttotal: 57.9ms\tremaining: 15.4ms\n",
      "79:\tlearn: 13423.2733533\ttotal: 58.4ms\tremaining: 14.6ms\n",
      "80:\tlearn: 13326.0541205\ttotal: 59ms\tremaining: 13.8ms\n",
      "81:\tlearn: 13245.2524227\ttotal: 60ms\tremaining: 13.2ms\n",
      "82:\tlearn: 13127.7072011\ttotal: 60.8ms\tremaining: 12.4ms\n",
      "83:\tlearn: 12991.9643709\ttotal: 61.4ms\tremaining: 11.7ms\n",
      "84:\tlearn: 12861.8532945\ttotal: 62ms\tremaining: 10.9ms\n",
      "85:\tlearn: 12757.2723398\ttotal: 62.6ms\tremaining: 10.2ms\n",
      "86:\tlearn: 12623.3762333\ttotal: 63.3ms\tremaining: 9.46ms\n",
      "87:\tlearn: 12525.4724625\ttotal: 64ms\tremaining: 8.72ms\n",
      "88:\tlearn: 12494.1281269\ttotal: 64.6ms\tremaining: 7.98ms\n",
      "89:\tlearn: 12373.7235990\ttotal: 65.2ms\tremaining: 7.25ms\n",
      "90:\tlearn: 12238.2016946\ttotal: 65.8ms\tremaining: 6.51ms\n",
      "91:\tlearn: 12157.5982957\ttotal: 66.5ms\tremaining: 5.79ms\n",
      "92:\tlearn: 12077.1808103\ttotal: 67.3ms\tremaining: 5.06ms\n",
      "93:\tlearn: 11982.1104687\ttotal: 67.9ms\tremaining: 4.33ms\n",
      "94:\tlearn: 11839.4672057\ttotal: 68.5ms\tremaining: 3.61ms\n",
      "95:\tlearn: 11698.5738171\ttotal: 69.3ms\tremaining: 2.89ms\n",
      "96:\tlearn: 11596.0141964\ttotal: 69.9ms\tremaining: 2.16ms\n",
      "97:\tlearn: 11536.5323102\ttotal: 70.5ms\tremaining: 1.44ms\n",
      "98:\tlearn: 11524.9614786\ttotal: 71ms\tremaining: 717us\n",
      "99:\tlearn: 11449.1540512\ttotal: 72ms\tremaining: 0us\n",
      "[LightGBM] [Info] Auto-choosing col-wise multi-threading, the overhead of testing was 0.000235 seconds.\n",
      "You can set `force_col_wise=true` to remove the overhead.\n",
      "[LightGBM] [Info] Total Bins 4190\n",
      "[LightGBM] [Info] Number of data points in the train set: 1260, number of used features: 21\n",
      "[LightGBM] [Info] Start training from score 836191.301042\n"
     ]
    }
   ],
   "source": [
    "from utils import get_gold_data, train_model, split_data\n",
    "from catboost import CatBoostRegressor\n",
    "from lightgbm import LGBMRegressor\n",
    "from xgboost import XGBRegressor\n",
    "from sklearn.ensemble import RandomForestRegressor\n",
    "from load_dotenv import load_dotenv\n",
    "\n",
    "import joblib\n",
    "\n",
    "# Initialize logger\n",
    "logger = logging.logger\n",
    "\n",
    "# Load environment variables\n",
    "load_dotenv()\n",
    "\n",
    "LEVELS = [10, 20, 30, 40, 50, 60, 70, 80, 90, 95, 99]\n",
    "RANDOM_STATE = 0\n",
    "N_ESTIMATORS = 100\n",
    "\n",
    "# Load environment variables\n",
    "MODEL_START_DATE = os.environ[\"MODEL_START_DATE\"]\n",
    "MODEL_SPLIT_DATE = '2024-08-13'\n",
    "\n",
    "print('Dates:\\n')\n",
    "print(f'MODEL_START_DATE: {MODEL_START_DATE}')\n",
    "print(f'MODEL_SPLIT_DATE: {MODEL_SPLIT_DATE}')\n",
    "\n",
    "data = get_gold_data()\n",
    "df_train, df_oot = split_data(data, MODEL_START_DATE, MODEL_SPLIT_DATE)\n",
    "models = [\n",
    "        CatBoostRegressor(random_state=RANDOM_STATE, n_estimators=N_ESTIMATORS),\n",
    "        LGBMRegressor(random_state=RANDOM_STATE, n_estimators=N_ESTIMATORS),\n",
    "        XGBRegressor(random_state=RANDOM_STATE, n_estimators=N_ESTIMATORS),\n",
    "        RandomForestRegressor(random_state=RANDOM_STATE, n_estimators=N_ESTIMATORS)\n",
    "    ]\n",
    "\n",
    "def create_model(data, models):\n",
    "    # Train the models\n",
    "    model_path = \"../model_folder/local_model.joblib\"\n",
    "    model = train_model(data, models)\n",
    "    joblib.dump(model, model_path)\n",
    "\n",
    "    return model_path\n",
    "\n",
    "model_path = create_model(df_train, models)"
   ]
  },
  {
   "cell_type": "code",
   "execution_count": 169,
   "metadata": {},
   "outputs": [
    {
     "data": {
      "text/html": [
       "<div>\n",
       "<style scoped>\n",
       "    .dataframe tbody tr th:only-of-type {\n",
       "        vertical-align: middle;\n",
       "    }\n",
       "\n",
       "    .dataframe tbody tr th {\n",
       "        vertical-align: top;\n",
       "    }\n",
       "\n",
       "    .dataframe thead th {\n",
       "        text-align: right;\n",
       "    }\n",
       "</style>\n",
       "<table border=\"1\" class=\"dataframe\">\n",
       "  <thead>\n",
       "    <tr style=\"text-align: right;\">\n",
       "      <th></th>\n",
       "      <th>unique_id</th>\n",
       "      <th>ds</th>\n",
       "      <th>CatBoostRegressor</th>\n",
       "      <th>LGBMRegressor</th>\n",
       "      <th>XGBRegressor</th>\n",
       "      <th>RandomForestRegressor</th>\n",
       "    </tr>\n",
       "  </thead>\n",
       "  <tbody>\n",
       "    <tr>\n",
       "      <th>0</th>\n",
       "      <td>0</td>\n",
       "      <td>2024-08-13</td>\n",
       "      <td>859596.398764</td>\n",
       "      <td>850939.848937</td>\n",
       "      <td>839761.3125</td>\n",
       "      <td>851227.58824</td>\n",
       "    </tr>\n",
       "  </tbody>\n",
       "</table>\n",
       "</div>"
      ],
      "text/plain": [
       "   unique_id         ds  CatBoostRegressor  LGBMRegressor  XGBRegressor  \\\n",
       "0          0 2024-08-13      859596.398764  850939.848937   839761.3125   \n",
       "\n",
       "   RandomForestRegressor  \n",
       "0           851227.58824  "
      ]
     },
     "execution_count": 169,
     "metadata": {},
     "output_type": "execute_result"
    }
   ],
   "source": [
    "# load the model\n",
    "\n",
    "model = joblib.load(model_path)\n",
    "model.predict(1)"
   ]
  },
  {
   "cell_type": "code",
   "execution_count": 170,
   "metadata": {},
   "outputs": [
    {
     "name": "stderr",
     "output_type": "stream",
     "text": [
      "/home/pedro/my_project_dir/energy_demand/.venv/lib/python3.10/site-packages/mlforecast/forecast.py:742: UserWarning:\n",
      "\n",
      "Prediction intervals are calculated using 1-step ahead cross-validation, with a constant width for all horizons. To vary the error by horizon, pass PredictionIntervals(h=h) to the `prediction_intervals` argument when refitting the model.\n",
      "\n"
     ]
    },
    {
     "data": {
      "text/html": [
       "<div>\n",
       "<style scoped>\n",
       "    .dataframe tbody tr th:only-of-type {\n",
       "        vertical-align: middle;\n",
       "    }\n",
       "\n",
       "    .dataframe tbody tr th {\n",
       "        vertical-align: top;\n",
       "    }\n",
       "\n",
       "    .dataframe thead th {\n",
       "        text-align: right;\n",
       "    }\n",
       "</style>\n",
       "<table border=\"1\" class=\"dataframe\">\n",
       "  <thead>\n",
       "    <tr style=\"text-align: right;\">\n",
       "      <th></th>\n",
       "      <th>unique_id</th>\n",
       "      <th>ds</th>\n",
       "      <th>CatBoostRegressor</th>\n",
       "      <th>LGBMRegressor</th>\n",
       "      <th>XGBRegressor</th>\n",
       "      <th>RandomForestRegressor</th>\n",
       "      <th>CatBoostRegressor-lo-99</th>\n",
       "      <th>CatBoostRegressor-lo-95</th>\n",
       "      <th>CatBoostRegressor-lo-90</th>\n",
       "      <th>CatBoostRegressor-lo-80</th>\n",
       "      <th>...</th>\n",
       "      <th>RandomForestRegressor-hi-20</th>\n",
       "      <th>RandomForestRegressor-hi-30</th>\n",
       "      <th>RandomForestRegressor-hi-40</th>\n",
       "      <th>RandomForestRegressor-hi-50</th>\n",
       "      <th>RandomForestRegressor-hi-60</th>\n",
       "      <th>RandomForestRegressor-hi-70</th>\n",
       "      <th>RandomForestRegressor-hi-80</th>\n",
       "      <th>RandomForestRegressor-hi-90</th>\n",
       "      <th>RandomForestRegressor-hi-95</th>\n",
       "      <th>RandomForestRegressor-hi-99</th>\n",
       "    </tr>\n",
       "  </thead>\n",
       "  <tbody>\n",
       "    <tr>\n",
       "      <th>65</th>\n",
       "      <td>0</td>\n",
       "      <td>2024-10-17</td>\n",
       "      <td>858991.309612</td>\n",
       "      <td>879583.937713</td>\n",
       "      <td>890627.3125</td>\n",
       "      <td>854607.656700</td>\n",
       "      <td>805668.795821</td>\n",
       "      <td>809752.234631</td>\n",
       "      <td>814856.533144</td>\n",
       "      <td>825065.130171</td>\n",
       "      <td>...</td>\n",
       "      <td>863665.149595</td>\n",
       "      <td>865440.224629</td>\n",
       "      <td>867215.299663</td>\n",
       "      <td>868990.374696</td>\n",
       "      <td>870765.449730</td>\n",
       "      <td>877752.777755</td>\n",
       "      <td>884740.105780</td>\n",
       "      <td>891727.433805</td>\n",
       "      <td>895221.097818</td>\n",
       "      <td>898016.029028</td>\n",
       "    </tr>\n",
       "    <tr>\n",
       "      <th>66</th>\n",
       "      <td>0</td>\n",
       "      <td>2024-10-18</td>\n",
       "      <td>853125.584179</td>\n",
       "      <td>878743.933666</td>\n",
       "      <td>847202.2500</td>\n",
       "      <td>846168.152935</td>\n",
       "      <td>799803.070387</td>\n",
       "      <td>803886.509198</td>\n",
       "      <td>808990.807711</td>\n",
       "      <td>819199.404737</td>\n",
       "      <td>...</td>\n",
       "      <td>855225.645830</td>\n",
       "      <td>857000.720864</td>\n",
       "      <td>858775.795897</td>\n",
       "      <td>860550.870931</td>\n",
       "      <td>862325.945965</td>\n",
       "      <td>869313.273990</td>\n",
       "      <td>876300.602015</td>\n",
       "      <td>883287.930040</td>\n",
       "      <td>886781.594053</td>\n",
       "      <td>889576.525263</td>\n",
       "    </tr>\n",
       "    <tr>\n",
       "      <th>67</th>\n",
       "      <td>0</td>\n",
       "      <td>2024-10-19</td>\n",
       "      <td>785450.320603</td>\n",
       "      <td>812396.759735</td>\n",
       "      <td>762026.0625</td>\n",
       "      <td>778798.941015</td>\n",
       "      <td>732127.806811</td>\n",
       "      <td>736211.245621</td>\n",
       "      <td>741315.544135</td>\n",
       "      <td>751524.141161</td>\n",
       "      <td>...</td>\n",
       "      <td>787856.433910</td>\n",
       "      <td>789631.508944</td>\n",
       "      <td>791406.583977</td>\n",
       "      <td>793181.659011</td>\n",
       "      <td>794956.734045</td>\n",
       "      <td>801944.062070</td>\n",
       "      <td>808931.390095</td>\n",
       "      <td>815918.718120</td>\n",
       "      <td>819412.382133</td>\n",
       "      <td>822207.313343</td>\n",
       "    </tr>\n",
       "    <tr>\n",
       "      <th>68</th>\n",
       "      <td>0</td>\n",
       "      <td>2024-10-20</td>\n",
       "      <td>686881.813122</td>\n",
       "      <td>725197.904769</td>\n",
       "      <td>679103.6250</td>\n",
       "      <td>691933.229565</td>\n",
       "      <td>633559.299331</td>\n",
       "      <td>637642.738141</td>\n",
       "      <td>642747.036654</td>\n",
       "      <td>652955.633681</td>\n",
       "      <td>...</td>\n",
       "      <td>700990.722460</td>\n",
       "      <td>702765.797494</td>\n",
       "      <td>704540.872527</td>\n",
       "      <td>706315.947561</td>\n",
       "      <td>708091.022595</td>\n",
       "      <td>715078.350620</td>\n",
       "      <td>722065.678645</td>\n",
       "      <td>729053.006670</td>\n",
       "      <td>732546.670683</td>\n",
       "      <td>735341.601892</td>\n",
       "    </tr>\n",
       "    <tr>\n",
       "      <th>69</th>\n",
       "      <td>0</td>\n",
       "      <td>2024-10-21</td>\n",
       "      <td>793725.514859</td>\n",
       "      <td>842669.989038</td>\n",
       "      <td>826241.5000</td>\n",
       "      <td>806390.139435</td>\n",
       "      <td>740403.001067</td>\n",
       "      <td>744486.439877</td>\n",
       "      <td>749590.738391</td>\n",
       "      <td>759799.335417</td>\n",
       "      <td>...</td>\n",
       "      <td>815447.632330</td>\n",
       "      <td>817222.707364</td>\n",
       "      <td>818997.782397</td>\n",
       "      <td>820772.857431</td>\n",
       "      <td>822547.932465</td>\n",
       "      <td>829535.260490</td>\n",
       "      <td>836522.588515</td>\n",
       "      <td>843509.916540</td>\n",
       "      <td>847003.580553</td>\n",
       "      <td>849798.511763</td>\n",
       "    </tr>\n",
       "  </tbody>\n",
       "</table>\n",
       "<p>5 rows × 94 columns</p>\n",
       "</div>"
      ],
      "text/plain": [
       "    unique_id         ds  CatBoostRegressor  LGBMRegressor  XGBRegressor  \\\n",
       "65          0 2024-10-17      858991.309612  879583.937713   890627.3125   \n",
       "66          0 2024-10-18      853125.584179  878743.933666   847202.2500   \n",
       "67          0 2024-10-19      785450.320603  812396.759735   762026.0625   \n",
       "68          0 2024-10-20      686881.813122  725197.904769   679103.6250   \n",
       "69          0 2024-10-21      793725.514859  842669.989038   826241.5000   \n",
       "\n",
       "    RandomForestRegressor  CatBoostRegressor-lo-99  CatBoostRegressor-lo-95  \\\n",
       "65          854607.656700            805668.795821            809752.234631   \n",
       "66          846168.152935            799803.070387            803886.509198   \n",
       "67          778798.941015            732127.806811            736211.245621   \n",
       "68          691933.229565            633559.299331            637642.738141   \n",
       "69          806390.139435            740403.001067            744486.439877   \n",
       "\n",
       "    CatBoostRegressor-lo-90  CatBoostRegressor-lo-80  ...  \\\n",
       "65            814856.533144            825065.130171  ...   \n",
       "66            808990.807711            819199.404737  ...   \n",
       "67            741315.544135            751524.141161  ...   \n",
       "68            642747.036654            652955.633681  ...   \n",
       "69            749590.738391            759799.335417  ...   \n",
       "\n",
       "    RandomForestRegressor-hi-20  RandomForestRegressor-hi-30  \\\n",
       "65                863665.149595                865440.224629   \n",
       "66                855225.645830                857000.720864   \n",
       "67                787856.433910                789631.508944   \n",
       "68                700990.722460                702765.797494   \n",
       "69                815447.632330                817222.707364   \n",
       "\n",
       "    RandomForestRegressor-hi-40  RandomForestRegressor-hi-50  \\\n",
       "65                867215.299663                868990.374696   \n",
       "66                858775.795897                860550.870931   \n",
       "67                791406.583977                793181.659011   \n",
       "68                704540.872527                706315.947561   \n",
       "69                818997.782397                820772.857431   \n",
       "\n",
       "    RandomForestRegressor-hi-60  RandomForestRegressor-hi-70  \\\n",
       "65                870765.449730                877752.777755   \n",
       "66                862325.945965                869313.273990   \n",
       "67                794956.734045                801944.062070   \n",
       "68                708091.022595                715078.350620   \n",
       "69                822547.932465                829535.260490   \n",
       "\n",
       "    RandomForestRegressor-hi-80  RandomForestRegressor-hi-90  \\\n",
       "65                884740.105780                891727.433805   \n",
       "66                876300.602015                883287.930040   \n",
       "67                808931.390095                815918.718120   \n",
       "68                722065.678645                729053.006670   \n",
       "69                836522.588515                843509.916540   \n",
       "\n",
       "    RandomForestRegressor-hi-95  RandomForestRegressor-hi-99  \n",
       "65                895221.097818                898016.029028  \n",
       "66                886781.594053                889576.525263  \n",
       "67                819412.382133                822207.313343  \n",
       "68                732546.670683                735341.601892  \n",
       "69                847003.580553                849798.511763  \n",
       "\n",
       "[5 rows x 94 columns]"
      ]
     },
     "execution_count": 170,
     "metadata": {},
     "output_type": "execute_result"
    }
   ],
   "source": [
    "levels = [10, 20, 30, 40, 50, 60, 70, 80, 90, 95, 99]\n",
    "forecasts = model.predict(len(df_oot)+60, level=levels)\n",
    "forecasts.tail()"
   ]
  },
  {
   "cell_type": "code",
   "execution_count": 171,
   "metadata": {},
   "outputs": [
    {
     "data": {
      "text/html": [
       "<div>\n",
       "<style scoped>\n",
       "    .dataframe tbody tr th:only-of-type {\n",
       "        vertical-align: middle;\n",
       "    }\n",
       "\n",
       "    .dataframe tbody tr th {\n",
       "        vertical-align: top;\n",
       "    }\n",
       "\n",
       "    .dataframe thead th {\n",
       "        text-align: right;\n",
       "    }\n",
       "</style>\n",
       "<table border=\"1\" class=\"dataframe\">\n",
       "  <thead>\n",
       "    <tr style=\"text-align: right;\">\n",
       "      <th></th>\n",
       "      <th>unique_id</th>\n",
       "      <th>ds</th>\n",
       "      <th>CatBoostRegressor</th>\n",
       "      <th>LGBMRegressor</th>\n",
       "      <th>XGBRegressor</th>\n",
       "      <th>RandomForestRegressor</th>\n",
       "      <th>CatBoostRegressor-lo-99</th>\n",
       "      <th>CatBoostRegressor-lo-95</th>\n",
       "      <th>CatBoostRegressor-lo-90</th>\n",
       "      <th>CatBoostRegressor-lo-80</th>\n",
       "      <th>...</th>\n",
       "      <th>RandomForestRegressor-hi-30</th>\n",
       "      <th>RandomForestRegressor-hi-40</th>\n",
       "      <th>RandomForestRegressor-hi-50</th>\n",
       "      <th>RandomForestRegressor-hi-60</th>\n",
       "      <th>RandomForestRegressor-hi-70</th>\n",
       "      <th>RandomForestRegressor-hi-80</th>\n",
       "      <th>RandomForestRegressor-hi-90</th>\n",
       "      <th>RandomForestRegressor-hi-95</th>\n",
       "      <th>RandomForestRegressor-hi-99</th>\n",
       "      <th>y</th>\n",
       "    </tr>\n",
       "  </thead>\n",
       "  <tbody>\n",
       "    <tr>\n",
       "      <th>65</th>\n",
       "      <td>0</td>\n",
       "      <td>2024-10-17</td>\n",
       "      <td>858991.309612</td>\n",
       "      <td>879583.937713</td>\n",
       "      <td>890627.3125</td>\n",
       "      <td>854607.656700</td>\n",
       "      <td>805668.795821</td>\n",
       "      <td>809752.234631</td>\n",
       "      <td>814856.533144</td>\n",
       "      <td>825065.130171</td>\n",
       "      <td>...</td>\n",
       "      <td>865440.224629</td>\n",
       "      <td>867215.299663</td>\n",
       "      <td>868990.374696</td>\n",
       "      <td>870765.449730</td>\n",
       "      <td>877752.777755</td>\n",
       "      <td>884740.105780</td>\n",
       "      <td>891727.433805</td>\n",
       "      <td>895221.097818</td>\n",
       "      <td>898016.029028</td>\n",
       "      <td>NaN</td>\n",
       "    </tr>\n",
       "    <tr>\n",
       "      <th>66</th>\n",
       "      <td>0</td>\n",
       "      <td>2024-10-18</td>\n",
       "      <td>853125.584179</td>\n",
       "      <td>878743.933666</td>\n",
       "      <td>847202.2500</td>\n",
       "      <td>846168.152935</td>\n",
       "      <td>799803.070387</td>\n",
       "      <td>803886.509198</td>\n",
       "      <td>808990.807711</td>\n",
       "      <td>819199.404737</td>\n",
       "      <td>...</td>\n",
       "      <td>857000.720864</td>\n",
       "      <td>858775.795897</td>\n",
       "      <td>860550.870931</td>\n",
       "      <td>862325.945965</td>\n",
       "      <td>869313.273990</td>\n",
       "      <td>876300.602015</td>\n",
       "      <td>883287.930040</td>\n",
       "      <td>886781.594053</td>\n",
       "      <td>889576.525263</td>\n",
       "      <td>NaN</td>\n",
       "    </tr>\n",
       "    <tr>\n",
       "      <th>67</th>\n",
       "      <td>0</td>\n",
       "      <td>2024-10-19</td>\n",
       "      <td>785450.320603</td>\n",
       "      <td>812396.759735</td>\n",
       "      <td>762026.0625</td>\n",
       "      <td>778798.941015</td>\n",
       "      <td>732127.806811</td>\n",
       "      <td>736211.245621</td>\n",
       "      <td>741315.544135</td>\n",
       "      <td>751524.141161</td>\n",
       "      <td>...</td>\n",
       "      <td>789631.508944</td>\n",
       "      <td>791406.583977</td>\n",
       "      <td>793181.659011</td>\n",
       "      <td>794956.734045</td>\n",
       "      <td>801944.062070</td>\n",
       "      <td>808931.390095</td>\n",
       "      <td>815918.718120</td>\n",
       "      <td>819412.382133</td>\n",
       "      <td>822207.313343</td>\n",
       "      <td>NaN</td>\n",
       "    </tr>\n",
       "    <tr>\n",
       "      <th>68</th>\n",
       "      <td>0</td>\n",
       "      <td>2024-10-20</td>\n",
       "      <td>686881.813122</td>\n",
       "      <td>725197.904769</td>\n",
       "      <td>679103.6250</td>\n",
       "      <td>691933.229565</td>\n",
       "      <td>633559.299331</td>\n",
       "      <td>637642.738141</td>\n",
       "      <td>642747.036654</td>\n",
       "      <td>652955.633681</td>\n",
       "      <td>...</td>\n",
       "      <td>702765.797494</td>\n",
       "      <td>704540.872527</td>\n",
       "      <td>706315.947561</td>\n",
       "      <td>708091.022595</td>\n",
       "      <td>715078.350620</td>\n",
       "      <td>722065.678645</td>\n",
       "      <td>729053.006670</td>\n",
       "      <td>732546.670683</td>\n",
       "      <td>735341.601892</td>\n",
       "      <td>NaN</td>\n",
       "    </tr>\n",
       "    <tr>\n",
       "      <th>69</th>\n",
       "      <td>0</td>\n",
       "      <td>2024-10-21</td>\n",
       "      <td>793725.514859</td>\n",
       "      <td>842669.989038</td>\n",
       "      <td>826241.5000</td>\n",
       "      <td>806390.139435</td>\n",
       "      <td>740403.001067</td>\n",
       "      <td>744486.439877</td>\n",
       "      <td>749590.738391</td>\n",
       "      <td>759799.335417</td>\n",
       "      <td>...</td>\n",
       "      <td>817222.707364</td>\n",
       "      <td>818997.782397</td>\n",
       "      <td>820772.857431</td>\n",
       "      <td>822547.932465</td>\n",
       "      <td>829535.260490</td>\n",
       "      <td>836522.588515</td>\n",
       "      <td>843509.916540</td>\n",
       "      <td>847003.580553</td>\n",
       "      <td>849798.511763</td>\n",
       "      <td>NaN</td>\n",
       "    </tr>\n",
       "  </tbody>\n",
       "</table>\n",
       "<p>5 rows × 95 columns</p>\n",
       "</div>"
      ],
      "text/plain": [
       "    unique_id         ds  CatBoostRegressor  LGBMRegressor  XGBRegressor  \\\n",
       "65          0 2024-10-17      858991.309612  879583.937713   890627.3125   \n",
       "66          0 2024-10-18      853125.584179  878743.933666   847202.2500   \n",
       "67          0 2024-10-19      785450.320603  812396.759735   762026.0625   \n",
       "68          0 2024-10-20      686881.813122  725197.904769   679103.6250   \n",
       "69          0 2024-10-21      793725.514859  842669.989038   826241.5000   \n",
       "\n",
       "    RandomForestRegressor  CatBoostRegressor-lo-99  CatBoostRegressor-lo-95  \\\n",
       "65          854607.656700            805668.795821            809752.234631   \n",
       "66          846168.152935            799803.070387            803886.509198   \n",
       "67          778798.941015            732127.806811            736211.245621   \n",
       "68          691933.229565            633559.299331            637642.738141   \n",
       "69          806390.139435            740403.001067            744486.439877   \n",
       "\n",
       "    CatBoostRegressor-lo-90  CatBoostRegressor-lo-80  ...  \\\n",
       "65            814856.533144            825065.130171  ...   \n",
       "66            808990.807711            819199.404737  ...   \n",
       "67            741315.544135            751524.141161  ...   \n",
       "68            642747.036654            652955.633681  ...   \n",
       "69            749590.738391            759799.335417  ...   \n",
       "\n",
       "    RandomForestRegressor-hi-30  RandomForestRegressor-hi-40  \\\n",
       "65                865440.224629                867215.299663   \n",
       "66                857000.720864                858775.795897   \n",
       "67                789631.508944                791406.583977   \n",
       "68                702765.797494                704540.872527   \n",
       "69                817222.707364                818997.782397   \n",
       "\n",
       "    RandomForestRegressor-hi-50  RandomForestRegressor-hi-60  \\\n",
       "65                868990.374696                870765.449730   \n",
       "66                860550.870931                862325.945965   \n",
       "67                793181.659011                794956.734045   \n",
       "68                706315.947561                708091.022595   \n",
       "69                820772.857431                822547.932465   \n",
       "\n",
       "    RandomForestRegressor-hi-70  RandomForestRegressor-hi-80  \\\n",
       "65                877752.777755                884740.105780   \n",
       "66                869313.273990                876300.602015   \n",
       "67                801944.062070                808931.390095   \n",
       "68                715078.350620                722065.678645   \n",
       "69                829535.260490                836522.588515   \n",
       "\n",
       "    RandomForestRegressor-hi-90  RandomForestRegressor-hi-95  \\\n",
       "65                891727.433805                895221.097818   \n",
       "66                883287.930040                886781.594053   \n",
       "67                815918.718120                819412.382133   \n",
       "68                729053.006670                732546.670683   \n",
       "69                843509.916540                847003.580553   \n",
       "\n",
       "    RandomForestRegressor-hi-99   y  \n",
       "65                898016.029028 NaN  \n",
       "66                889576.525263 NaN  \n",
       "67                822207.313343 NaN  \n",
       "68                735341.601892 NaN  \n",
       "69                849798.511763 NaN  \n",
       "\n",
       "[5 rows x 95 columns]"
      ]
     },
     "execution_count": 171,
     "metadata": {},
     "output_type": "execute_result"
    }
   ],
   "source": [
    "test = forecasts.merge(df_oot, how='left', on=['unique_id', 'ds'])\n",
    "test.tail()"
   ]
  },
  {
   "cell_type": "code",
   "execution_count": 172,
   "metadata": {},
   "outputs": [
    {
     "data": {
      "text/html": [
       "<style type=\"text/css\">\n",
       "#T_8378c_row0_col0, #T_8378c_row0_col1, #T_8378c_row0_col2, #T_8378c_row0_col3 {\n",
       "  background-color: #08306b;\n",
       "  color: #f1f1f1;\n",
       "}\n",
       "#T_8378c_row1_col0 {\n",
       "  background-color: #2c7cba;\n",
       "  color: #f1f1f1;\n",
       "}\n",
       "#T_8378c_row1_col1 {\n",
       "  background-color: #3b8bc2;\n",
       "  color: #f1f1f1;\n",
       "}\n",
       "#T_8378c_row1_col2 {\n",
       "  background-color: #2d7dbb;\n",
       "  color: #f1f1f1;\n",
       "}\n",
       "#T_8378c_row1_col3 {\n",
       "  background-color: #2e7ebc;\n",
       "  color: #f1f1f1;\n",
       "}\n",
       "#T_8378c_row2_col0, #T_8378c_row2_col1, #T_8378c_row2_col2, #T_8378c_row2_col3 {\n",
       "  background-color: #f7fbff;\n",
       "  color: #000000;\n",
       "}\n",
       "#T_8378c_row3_col0 {\n",
       "  background-color: #abd0e6;\n",
       "  color: #000000;\n",
       "}\n",
       "#T_8378c_row3_col1 {\n",
       "  background-color: #cfe1f2;\n",
       "  color: #000000;\n",
       "}\n",
       "#T_8378c_row3_col2 {\n",
       "  background-color: #a6cee4;\n",
       "  color: #000000;\n",
       "}\n",
       "#T_8378c_row3_col3 {\n",
       "  background-color: #a9cfe5;\n",
       "  color: #000000;\n",
       "}\n",
       "</style>\n",
       "<table id=\"T_8378c\">\n",
       "  <thead>\n",
       "    <tr>\n",
       "      <th class=\"index_name level0\" >metric</th>\n",
       "      <th id=\"T_8378c_level0_col0\" class=\"col_heading level0 col0\" >mae</th>\n",
       "      <th id=\"T_8378c_level0_col1\" class=\"col_heading level0 col1\" >rmse</th>\n",
       "      <th id=\"T_8378c_level0_col2\" class=\"col_heading level0 col2\" >mape</th>\n",
       "      <th id=\"T_8378c_level0_col3\" class=\"col_heading level0 col3\" >smape</th>\n",
       "    </tr>\n",
       "  </thead>\n",
       "  <tbody>\n",
       "    <tr>\n",
       "      <th id=\"T_8378c_level0_row0\" class=\"row_heading level0 row0\" >CatBoostRegressor</th>\n",
       "      <td id=\"T_8378c_row0_col0\" class=\"data row0 col0\" >56712.447746</td>\n",
       "      <td id=\"T_8378c_row0_col1\" class=\"data row0 col1\" >66735.357218</td>\n",
       "      <td id=\"T_8378c_row0_col2\" class=\"data row0 col2\" >0.064860</td>\n",
       "      <td id=\"T_8378c_row0_col3\" class=\"data row0 col3\" >0.033908</td>\n",
       "    </tr>\n",
       "    <tr>\n",
       "      <th id=\"T_8378c_level0_row1\" class=\"row_heading level0 row1\" >LGBMRegressor</th>\n",
       "      <td id=\"T_8378c_row1_col0\" class=\"data row1 col0\" >50623.972591</td>\n",
       "      <td id=\"T_8378c_row1_col1\" class=\"data row1 col1\" >58955.889124</td>\n",
       "      <td id=\"T_8378c_row1_col2\" class=\"data row1 col2\" >0.057602</td>\n",
       "      <td id=\"T_8378c_row1_col3\" class=\"data row1 col3\" >0.029957</td>\n",
       "    </tr>\n",
       "    <tr>\n",
       "      <th id=\"T_8378c_level0_row2\" class=\"row_heading level0 row2\" >XGBRegressor</th>\n",
       "      <td id=\"T_8378c_row2_col0\" class=\"data row2 col0\" >35714.474500</td>\n",
       "      <td id=\"T_8378c_row2_col1\" class=\"data row2 col1\" >44487.871381</td>\n",
       "      <td id=\"T_8378c_row2_col2\" class=\"data row2 col2\" >0.040180</td>\n",
       "      <td id=\"T_8378c_row2_col3\" class=\"data row2 col3\" >0.020720</td>\n",
       "    </tr>\n",
       "    <tr>\n",
       "      <th id=\"T_8378c_level0_row3\" class=\"row_heading level0 row3\" >RandomForestRegressor</th>\n",
       "      <td id=\"T_8378c_row3_col0\" class=\"data row3 col0\" >42730.386444</td>\n",
       "      <td id=\"T_8378c_row3_col1\" class=\"data row3 col1\" >49012.313178</td>\n",
       "      <td id=\"T_8378c_row3_col2\" class=\"data row3 col2\" >0.048817</td>\n",
       "      <td id=\"T_8378c_row3_col3\" class=\"data row3 col3\" >0.025212</td>\n",
       "    </tr>\n",
       "  </tbody>\n",
       "</table>\n"
      ],
      "text/plain": [
       "<pandas.io.formats.style.Styler at 0x7ec3b1a80ac0>"
      ]
     },
     "execution_count": 172,
     "metadata": {},
     "output_type": "execute_result"
    }
   ],
   "source": [
    "from utilsforecast.losses import mae, mape, rmse, smape\n",
    "from utilsforecast.evaluation import evaluate\n",
    "\n",
    "# Metrics to be used for evaluation\n",
    "metrics = [\n",
    "    mae,\n",
    "    rmse,\n",
    "    mape,\n",
    "    smape\n",
    "]\n",
    "\n",
    "\n",
    "evals = evaluate(\n",
    "    df = test.dropna(subset=['y']),\n",
    "    metrics=metrics,\n",
    "    models=['CatBoostRegressor', 'LGBMRegressor', 'XGBRegressor', 'RandomForestRegressor']\n",
    ")\n",
    "\n",
    "evals.drop(columns=['unique_id']).set_index('metric').T.style.background_gradient(cmap='Blues')"
   ]
  },
  {
   "cell_type": "code",
   "execution_count": 173,
   "metadata": {},
   "outputs": [
    {
     "data": {
      "text/html": [
       "<div>\n",
       "<style scoped>\n",
       "    .dataframe tbody tr th:only-of-type {\n",
       "        vertical-align: middle;\n",
       "    }\n",
       "\n",
       "    .dataframe tbody tr th {\n",
       "        vertical-align: top;\n",
       "    }\n",
       "\n",
       "    .dataframe thead th {\n",
       "        text-align: right;\n",
       "    }\n",
       "</style>\n",
       "<table border=\"1\" class=\"dataframe\">\n",
       "  <thead>\n",
       "    <tr style=\"text-align: right;\">\n",
       "      <th></th>\n",
       "      <th>unique_id</th>\n",
       "      <th>ds</th>\n",
       "      <th>CatBoostRegressor</th>\n",
       "      <th>LGBMRegressor</th>\n",
       "      <th>XGBRegressor</th>\n",
       "      <th>RandomForestRegressor</th>\n",
       "      <th>CatBoostRegressor-lo-99</th>\n",
       "      <th>CatBoostRegressor-lo-95</th>\n",
       "      <th>CatBoostRegressor-lo-90</th>\n",
       "      <th>CatBoostRegressor-lo-80</th>\n",
       "      <th>...</th>\n",
       "      <th>RandomForestRegressor-hi-30</th>\n",
       "      <th>RandomForestRegressor-hi-40</th>\n",
       "      <th>RandomForestRegressor-hi-50</th>\n",
       "      <th>RandomForestRegressor-hi-60</th>\n",
       "      <th>RandomForestRegressor-hi-70</th>\n",
       "      <th>RandomForestRegressor-hi-80</th>\n",
       "      <th>RandomForestRegressor-hi-90</th>\n",
       "      <th>RandomForestRegressor-hi-95</th>\n",
       "      <th>RandomForestRegressor-hi-99</th>\n",
       "      <th>y</th>\n",
       "    </tr>\n",
       "  </thead>\n",
       "  <tbody>\n",
       "    <tr>\n",
       "      <th>0</th>\n",
       "      <td>0</td>\n",
       "      <td>2024-08-13</td>\n",
       "      <td>859596.398764</td>\n",
       "      <td>850939.848937</td>\n",
       "      <td>839761.3125</td>\n",
       "      <td>851227.588240</td>\n",
       "      <td>806273.884972</td>\n",
       "      <td>810357.323783</td>\n",
       "      <td>815461.622296</td>\n",
       "      <td>825670.219322</td>\n",
       "      <td>...</td>\n",
       "      <td>862060.156169</td>\n",
       "      <td>863835.231203</td>\n",
       "      <td>865610.306236</td>\n",
       "      <td>867385.381270</td>\n",
       "      <td>874372.709295</td>\n",
       "      <td>881360.037320</td>\n",
       "      <td>888347.365345</td>\n",
       "      <td>891841.029358</td>\n",
       "      <td>894635.960568</td>\n",
       "      <td>844564.0700</td>\n",
       "    </tr>\n",
       "    <tr>\n",
       "      <th>1</th>\n",
       "      <td>0</td>\n",
       "      <td>2024-08-14</td>\n",
       "      <td>875220.631804</td>\n",
       "      <td>856238.799488</td>\n",
       "      <td>855502.3125</td>\n",
       "      <td>860289.549795</td>\n",
       "      <td>821898.118012</td>\n",
       "      <td>825981.556822</td>\n",
       "      <td>831085.855336</td>\n",
       "      <td>841294.452362</td>\n",
       "      <td>...</td>\n",
       "      <td>871122.117724</td>\n",
       "      <td>872897.192758</td>\n",
       "      <td>874672.267791</td>\n",
       "      <td>876447.342825</td>\n",
       "      <td>883434.670850</td>\n",
       "      <td>890421.998875</td>\n",
       "      <td>897409.326900</td>\n",
       "      <td>900902.990913</td>\n",
       "      <td>903697.922123</td>\n",
       "      <td>856677.3810</td>\n",
       "    </tr>\n",
       "    <tr>\n",
       "      <th>2</th>\n",
       "      <td>0</td>\n",
       "      <td>2024-08-15</td>\n",
       "      <td>870283.608108</td>\n",
       "      <td>852988.146010</td>\n",
       "      <td>860784.6250</td>\n",
       "      <td>857293.592145</td>\n",
       "      <td>816961.094316</td>\n",
       "      <td>821044.533127</td>\n",
       "      <td>826148.831640</td>\n",
       "      <td>836357.428666</td>\n",
       "      <td>...</td>\n",
       "      <td>868126.160074</td>\n",
       "      <td>869901.235108</td>\n",
       "      <td>871676.310141</td>\n",
       "      <td>873451.385175</td>\n",
       "      <td>880438.713200</td>\n",
       "      <td>887426.041225</td>\n",
       "      <td>894413.369250</td>\n",
       "      <td>897907.033263</td>\n",
       "      <td>900701.964473</td>\n",
       "      <td>870365.0395</td>\n",
       "    </tr>\n",
       "    <tr>\n",
       "      <th>3</th>\n",
       "      <td>0</td>\n",
       "      <td>2024-08-16</td>\n",
       "      <td>861137.980859</td>\n",
       "      <td>839947.253419</td>\n",
       "      <td>877438.4375</td>\n",
       "      <td>850462.025335</td>\n",
       "      <td>807815.467067</td>\n",
       "      <td>811898.905878</td>\n",
       "      <td>817003.204391</td>\n",
       "      <td>827211.801418</td>\n",
       "      <td>...</td>\n",
       "      <td>861294.593264</td>\n",
       "      <td>863069.668298</td>\n",
       "      <td>864844.743331</td>\n",
       "      <td>866619.818365</td>\n",
       "      <td>873607.146390</td>\n",
       "      <td>880594.474415</td>\n",
       "      <td>887581.802440</td>\n",
       "      <td>891075.466453</td>\n",
       "      <td>893870.397663</td>\n",
       "      <td>895989.2120</td>\n",
       "    </tr>\n",
       "    <tr>\n",
       "      <th>4</th>\n",
       "      <td>0</td>\n",
       "      <td>2024-08-17</td>\n",
       "      <td>764442.585897</td>\n",
       "      <td>773187.398652</td>\n",
       "      <td>807096.3750</td>\n",
       "      <td>777417.847340</td>\n",
       "      <td>711120.072106</td>\n",
       "      <td>715203.510916</td>\n",
       "      <td>720307.809429</td>\n",
       "      <td>730516.406456</td>\n",
       "      <td>...</td>\n",
       "      <td>788250.415269</td>\n",
       "      <td>790025.490302</td>\n",
       "      <td>791800.565336</td>\n",
       "      <td>793575.640370</td>\n",
       "      <td>800562.968395</td>\n",
       "      <td>807550.296420</td>\n",
       "      <td>814537.624445</td>\n",
       "      <td>818031.288458</td>\n",
       "      <td>820826.219668</td>\n",
       "      <td>832527.0950</td>\n",
       "    </tr>\n",
       "    <tr>\n",
       "      <th>...</th>\n",
       "      <td>...</td>\n",
       "      <td>...</td>\n",
       "      <td>...</td>\n",
       "      <td>...</td>\n",
       "      <td>...</td>\n",
       "      <td>...</td>\n",
       "      <td>...</td>\n",
       "      <td>...</td>\n",
       "      <td>...</td>\n",
       "      <td>...</td>\n",
       "      <td>...</td>\n",
       "      <td>...</td>\n",
       "      <td>...</td>\n",
       "      <td>...</td>\n",
       "      <td>...</td>\n",
       "      <td>...</td>\n",
       "      <td>...</td>\n",
       "      <td>...</td>\n",
       "      <td>...</td>\n",
       "      <td>...</td>\n",
       "      <td>...</td>\n",
       "    </tr>\n",
       "    <tr>\n",
       "      <th>65</th>\n",
       "      <td>0</td>\n",
       "      <td>2024-10-17</td>\n",
       "      <td>858991.309612</td>\n",
       "      <td>879583.937713</td>\n",
       "      <td>890627.3125</td>\n",
       "      <td>854607.656700</td>\n",
       "      <td>805668.795821</td>\n",
       "      <td>809752.234631</td>\n",
       "      <td>814856.533144</td>\n",
       "      <td>825065.130171</td>\n",
       "      <td>...</td>\n",
       "      <td>865440.224629</td>\n",
       "      <td>867215.299663</td>\n",
       "      <td>868990.374696</td>\n",
       "      <td>870765.449730</td>\n",
       "      <td>877752.777755</td>\n",
       "      <td>884740.105780</td>\n",
       "      <td>891727.433805</td>\n",
       "      <td>895221.097818</td>\n",
       "      <td>898016.029028</td>\n",
       "      <td>NaN</td>\n",
       "    </tr>\n",
       "    <tr>\n",
       "      <th>66</th>\n",
       "      <td>0</td>\n",
       "      <td>2024-10-18</td>\n",
       "      <td>853125.584179</td>\n",
       "      <td>878743.933666</td>\n",
       "      <td>847202.2500</td>\n",
       "      <td>846168.152935</td>\n",
       "      <td>799803.070387</td>\n",
       "      <td>803886.509198</td>\n",
       "      <td>808990.807711</td>\n",
       "      <td>819199.404737</td>\n",
       "      <td>...</td>\n",
       "      <td>857000.720864</td>\n",
       "      <td>858775.795897</td>\n",
       "      <td>860550.870931</td>\n",
       "      <td>862325.945965</td>\n",
       "      <td>869313.273990</td>\n",
       "      <td>876300.602015</td>\n",
       "      <td>883287.930040</td>\n",
       "      <td>886781.594053</td>\n",
       "      <td>889576.525263</td>\n",
       "      <td>NaN</td>\n",
       "    </tr>\n",
       "    <tr>\n",
       "      <th>67</th>\n",
       "      <td>0</td>\n",
       "      <td>2024-10-19</td>\n",
       "      <td>785450.320603</td>\n",
       "      <td>812396.759735</td>\n",
       "      <td>762026.0625</td>\n",
       "      <td>778798.941015</td>\n",
       "      <td>732127.806811</td>\n",
       "      <td>736211.245621</td>\n",
       "      <td>741315.544135</td>\n",
       "      <td>751524.141161</td>\n",
       "      <td>...</td>\n",
       "      <td>789631.508944</td>\n",
       "      <td>791406.583977</td>\n",
       "      <td>793181.659011</td>\n",
       "      <td>794956.734045</td>\n",
       "      <td>801944.062070</td>\n",
       "      <td>808931.390095</td>\n",
       "      <td>815918.718120</td>\n",
       "      <td>819412.382133</td>\n",
       "      <td>822207.313343</td>\n",
       "      <td>NaN</td>\n",
       "    </tr>\n",
       "    <tr>\n",
       "      <th>68</th>\n",
       "      <td>0</td>\n",
       "      <td>2024-10-20</td>\n",
       "      <td>686881.813122</td>\n",
       "      <td>725197.904769</td>\n",
       "      <td>679103.6250</td>\n",
       "      <td>691933.229565</td>\n",
       "      <td>633559.299331</td>\n",
       "      <td>637642.738141</td>\n",
       "      <td>642747.036654</td>\n",
       "      <td>652955.633681</td>\n",
       "      <td>...</td>\n",
       "      <td>702765.797494</td>\n",
       "      <td>704540.872527</td>\n",
       "      <td>706315.947561</td>\n",
       "      <td>708091.022595</td>\n",
       "      <td>715078.350620</td>\n",
       "      <td>722065.678645</td>\n",
       "      <td>729053.006670</td>\n",
       "      <td>732546.670683</td>\n",
       "      <td>735341.601892</td>\n",
       "      <td>NaN</td>\n",
       "    </tr>\n",
       "    <tr>\n",
       "      <th>69</th>\n",
       "      <td>0</td>\n",
       "      <td>2024-10-21</td>\n",
       "      <td>793725.514859</td>\n",
       "      <td>842669.989038</td>\n",
       "      <td>826241.5000</td>\n",
       "      <td>806390.139435</td>\n",
       "      <td>740403.001067</td>\n",
       "      <td>744486.439877</td>\n",
       "      <td>749590.738391</td>\n",
       "      <td>759799.335417</td>\n",
       "      <td>...</td>\n",
       "      <td>817222.707364</td>\n",
       "      <td>818997.782397</td>\n",
       "      <td>820772.857431</td>\n",
       "      <td>822547.932465</td>\n",
       "      <td>829535.260490</td>\n",
       "      <td>836522.588515</td>\n",
       "      <td>843509.916540</td>\n",
       "      <td>847003.580553</td>\n",
       "      <td>849798.511763</td>\n",
       "      <td>NaN</td>\n",
       "    </tr>\n",
       "  </tbody>\n",
       "</table>\n",
       "<p>70 rows × 95 columns</p>\n",
       "</div>"
      ],
      "text/plain": [
       "    unique_id         ds  CatBoostRegressor  LGBMRegressor  XGBRegressor  \\\n",
       "0           0 2024-08-13      859596.398764  850939.848937   839761.3125   \n",
       "1           0 2024-08-14      875220.631804  856238.799488   855502.3125   \n",
       "2           0 2024-08-15      870283.608108  852988.146010   860784.6250   \n",
       "3           0 2024-08-16      861137.980859  839947.253419   877438.4375   \n",
       "4           0 2024-08-17      764442.585897  773187.398652   807096.3750   \n",
       "..        ...        ...                ...            ...           ...   \n",
       "65          0 2024-10-17      858991.309612  879583.937713   890627.3125   \n",
       "66          0 2024-10-18      853125.584179  878743.933666   847202.2500   \n",
       "67          0 2024-10-19      785450.320603  812396.759735   762026.0625   \n",
       "68          0 2024-10-20      686881.813122  725197.904769   679103.6250   \n",
       "69          0 2024-10-21      793725.514859  842669.989038   826241.5000   \n",
       "\n",
       "    RandomForestRegressor  CatBoostRegressor-lo-99  CatBoostRegressor-lo-95  \\\n",
       "0           851227.588240            806273.884972            810357.323783   \n",
       "1           860289.549795            821898.118012            825981.556822   \n",
       "2           857293.592145            816961.094316            821044.533127   \n",
       "3           850462.025335            807815.467067            811898.905878   \n",
       "4           777417.847340            711120.072106            715203.510916   \n",
       "..                    ...                      ...                      ...   \n",
       "65          854607.656700            805668.795821            809752.234631   \n",
       "66          846168.152935            799803.070387            803886.509198   \n",
       "67          778798.941015            732127.806811            736211.245621   \n",
       "68          691933.229565            633559.299331            637642.738141   \n",
       "69          806390.139435            740403.001067            744486.439877   \n",
       "\n",
       "    CatBoostRegressor-lo-90  CatBoostRegressor-lo-80  ...  \\\n",
       "0             815461.622296            825670.219322  ...   \n",
       "1             831085.855336            841294.452362  ...   \n",
       "2             826148.831640            836357.428666  ...   \n",
       "3             817003.204391            827211.801418  ...   \n",
       "4             720307.809429            730516.406456  ...   \n",
       "..                      ...                      ...  ...   \n",
       "65            814856.533144            825065.130171  ...   \n",
       "66            808990.807711            819199.404737  ...   \n",
       "67            741315.544135            751524.141161  ...   \n",
       "68            642747.036654            652955.633681  ...   \n",
       "69            749590.738391            759799.335417  ...   \n",
       "\n",
       "    RandomForestRegressor-hi-30  RandomForestRegressor-hi-40  \\\n",
       "0                 862060.156169                863835.231203   \n",
       "1                 871122.117724                872897.192758   \n",
       "2                 868126.160074                869901.235108   \n",
       "3                 861294.593264                863069.668298   \n",
       "4                 788250.415269                790025.490302   \n",
       "..                          ...                          ...   \n",
       "65                865440.224629                867215.299663   \n",
       "66                857000.720864                858775.795897   \n",
       "67                789631.508944                791406.583977   \n",
       "68                702765.797494                704540.872527   \n",
       "69                817222.707364                818997.782397   \n",
       "\n",
       "    RandomForestRegressor-hi-50  RandomForestRegressor-hi-60  \\\n",
       "0                 865610.306236                867385.381270   \n",
       "1                 874672.267791                876447.342825   \n",
       "2                 871676.310141                873451.385175   \n",
       "3                 864844.743331                866619.818365   \n",
       "4                 791800.565336                793575.640370   \n",
       "..                          ...                          ...   \n",
       "65                868990.374696                870765.449730   \n",
       "66                860550.870931                862325.945965   \n",
       "67                793181.659011                794956.734045   \n",
       "68                706315.947561                708091.022595   \n",
       "69                820772.857431                822547.932465   \n",
       "\n",
       "    RandomForestRegressor-hi-70  RandomForestRegressor-hi-80  \\\n",
       "0                 874372.709295                881360.037320   \n",
       "1                 883434.670850                890421.998875   \n",
       "2                 880438.713200                887426.041225   \n",
       "3                 873607.146390                880594.474415   \n",
       "4                 800562.968395                807550.296420   \n",
       "..                          ...                          ...   \n",
       "65                877752.777755                884740.105780   \n",
       "66                869313.273990                876300.602015   \n",
       "67                801944.062070                808931.390095   \n",
       "68                715078.350620                722065.678645   \n",
       "69                829535.260490                836522.588515   \n",
       "\n",
       "    RandomForestRegressor-hi-90  RandomForestRegressor-hi-95  \\\n",
       "0                 888347.365345                891841.029358   \n",
       "1                 897409.326900                900902.990913   \n",
       "2                 894413.369250                897907.033263   \n",
       "3                 887581.802440                891075.466453   \n",
       "4                 814537.624445                818031.288458   \n",
       "..                          ...                          ...   \n",
       "65                891727.433805                895221.097818   \n",
       "66                883287.930040                886781.594053   \n",
       "67                815918.718120                819412.382133   \n",
       "68                729053.006670                732546.670683   \n",
       "69                843509.916540                847003.580553   \n",
       "\n",
       "    RandomForestRegressor-hi-99            y  \n",
       "0                 894635.960568  844564.0700  \n",
       "1                 903697.922123  856677.3810  \n",
       "2                 900701.964473  870365.0395  \n",
       "3                 893870.397663  895989.2120  \n",
       "4                 820826.219668  832527.0950  \n",
       "..                          ...          ...  \n",
       "65                898016.029028          NaN  \n",
       "66                889576.525263          NaN  \n",
       "67                822207.313343          NaN  \n",
       "68                735341.601892          NaN  \n",
       "69                849798.511763          NaN  \n",
       "\n",
       "[70 rows x 95 columns]"
      ]
     },
     "execution_count": 173,
     "metadata": {},
     "output_type": "execute_result"
    }
   ],
   "source": [
    "test"
   ]
  },
  {
   "cell_type": "code",
   "execution_count": 175,
   "metadata": {},
   "outputs": [
    {
     "data": {
      "application/vnd.plotly.v1+json": {
       "config": {
        "plotlyServerURL": "https://plot.ly"
       },
       "data": [
        {
         "legendgroup": "y",
         "line": {
          "color": "#1f77b4",
          "width": 1
         },
         "mode": "lines",
         "name": "y",
         "showlegend": true,
         "type": "scatter",
         "x": [
          "2024-07-14T00:00:00",
          "2024-07-15T00:00:00",
          "2024-07-16T00:00:00",
          "2024-07-17T00:00:00",
          "2024-07-18T00:00:00",
          "2024-07-19T00:00:00",
          "2024-07-20T00:00:00",
          "2024-07-21T00:00:00",
          "2024-07-22T00:00:00",
          "2024-07-23T00:00:00",
          "2024-07-24T00:00:00",
          "2024-07-25T00:00:00",
          "2024-07-26T00:00:00",
          "2024-07-27T00:00:00",
          "2024-07-28T00:00:00",
          "2024-07-29T00:00:00",
          "2024-07-30T00:00:00",
          "2024-07-31T00:00:00",
          "2024-08-01T00:00:00",
          "2024-08-02T00:00:00",
          "2024-08-03T00:00:00",
          "2024-08-04T00:00:00",
          "2024-08-05T00:00:00",
          "2024-08-06T00:00:00",
          "2024-08-07T00:00:00",
          "2024-08-08T00:00:00",
          "2024-08-09T00:00:00",
          "2024-08-10T00:00:00",
          "2024-08-11T00:00:00",
          "2024-08-12T00:00:00",
          "2024-08-13T00:00:00",
          "2024-08-14T00:00:00",
          "2024-08-15T00:00:00",
          "2024-08-16T00:00:00",
          "2024-08-17T00:00:00",
          "2024-08-18T00:00:00",
          "2024-08-19T00:00:00",
          "2024-08-20T00:00:00",
          "2024-08-21T00:00:00",
          "2024-08-22T00:00:00",
          "2024-08-23T00:00:00",
          "2024-08-24T00:00:00",
          "2024-08-25T00:00:00",
          "2024-08-26T00:00:00",
          "2024-08-27T00:00:00",
          "2024-08-28T00:00:00",
          "2024-08-29T00:00:00",
          "2024-08-30T00:00:00",
          "2024-08-31T00:00:00",
          "2024-09-01T00:00:00",
          "2024-09-02T00:00:00",
          "2024-09-03T00:00:00",
          "2024-09-04T00:00:00",
          "2024-09-05T00:00:00",
          "2024-09-06T00:00:00",
          "2024-09-07T00:00:00",
          "2024-09-08T00:00:00",
          "2024-09-09T00:00:00",
          "2024-09-10T00:00:00",
          "2024-09-11T00:00:00",
          "2024-09-12T00:00:00",
          "2024-09-13T00:00:00",
          "2024-09-14T00:00:00",
          "2024-09-15T00:00:00",
          "2024-09-16T00:00:00",
          "2024-09-17T00:00:00",
          "2024-09-18T00:00:00",
          "2024-09-19T00:00:00",
          "2024-09-20T00:00:00",
          "2024-09-21T00:00:00",
          "2024-09-22T00:00:00",
          "2024-09-23T00:00:00",
          "2024-09-24T00:00:00",
          "2024-09-25T00:00:00",
          "2024-09-26T00:00:00",
          "2024-09-27T00:00:00",
          "2024-09-28T00:00:00",
          "2024-09-29T00:00:00",
          "2024-09-30T00:00:00",
          "2024-10-01T00:00:00",
          "2024-10-02T00:00:00",
          "2024-10-03T00:00:00",
          "2024-10-04T00:00:00",
          "2024-10-05T00:00:00",
          "2024-10-06T00:00:00",
          "2024-10-07T00:00:00",
          "2024-10-08T00:00:00",
          "2024-10-09T00:00:00",
          "2024-10-10T00:00:00",
          "2024-10-11T00:00:00",
          "2024-10-12T00:00:00",
          "2024-10-13T00:00:00",
          "2024-10-14T00:00:00",
          "2024-10-15T00:00:00",
          "2024-10-16T00:00:00",
          "2024-10-17T00:00:00",
          "2024-10-18T00:00:00",
          "2024-10-19T00:00:00",
          "2024-10-20T00:00:00",
          "2024-10-21T00:00:00"
         ],
         "xaxis": "x",
         "y": [
          712189.6574999999,
          819924.1259999998,
          865359.135,
          874525.0399999996,
          879218.6659999997,
          874926.6334999996,
          808081.837,
          709886.6849999998,
          836742.1669999999,
          881280.5845,
          886205.6555,
          889648.5340000001,
          887822.2489999997,
          820912.4419999998,
          727007.1984999999,
          861138.8969999999,
          892208.7089999999,
          881379.5445,
          889883.3869999998,
          888523.7729999999,
          825940.6680000001,
          729894.1010000001,
          868344.0105000003,
          908806.969,
          923834.3800000001,
          932343.3189999999,
          926252.7580000003,
          795148.5080000001,
          698073.5960000001,
          805498.244,
          844564.07,
          856677.381,
          870365.0395000001,
          895989.2120000002,
          832527.0949999997,
          744501.7769999999,
          880713.2219999998,
          927637.641,
          931550.5060000002,
          929876.4890000002,
          null,
          null,
          null,
          null,
          null,
          null,
          null,
          null,
          null,
          null,
          null,
          null,
          null,
          null,
          null,
          null,
          null,
          null,
          null,
          null,
          null,
          null,
          null,
          null,
          null,
          null,
          null,
          null,
          null,
          null,
          null,
          null,
          null,
          null,
          null,
          null,
          null,
          null,
          null,
          null,
          null,
          null,
          null,
          null,
          null,
          null,
          null,
          null,
          null,
          null,
          null,
          null,
          null,
          null,
          null,
          null,
          null,
          null,
          null,
          null
         ],
         "yaxis": "y"
        },
        {
         "legendgroup": "XGBRegressor",
         "line": {
          "color": "#57822b",
          "width": 1
         },
         "mode": "lines",
         "name": "XGBRegressor",
         "showlegend": true,
         "type": "scatter",
         "x": [
          "2024-07-14T00:00:00",
          "2024-07-15T00:00:00",
          "2024-07-16T00:00:00",
          "2024-07-17T00:00:00",
          "2024-07-18T00:00:00",
          "2024-07-19T00:00:00",
          "2024-07-20T00:00:00",
          "2024-07-21T00:00:00",
          "2024-07-22T00:00:00",
          "2024-07-23T00:00:00",
          "2024-07-24T00:00:00",
          "2024-07-25T00:00:00",
          "2024-07-26T00:00:00",
          "2024-07-27T00:00:00",
          "2024-07-28T00:00:00",
          "2024-07-29T00:00:00",
          "2024-07-30T00:00:00",
          "2024-07-31T00:00:00",
          "2024-08-01T00:00:00",
          "2024-08-02T00:00:00",
          "2024-08-03T00:00:00",
          "2024-08-04T00:00:00",
          "2024-08-05T00:00:00",
          "2024-08-06T00:00:00",
          "2024-08-07T00:00:00",
          "2024-08-08T00:00:00",
          "2024-08-09T00:00:00",
          "2024-08-10T00:00:00",
          "2024-08-11T00:00:00",
          "2024-08-12T00:00:00",
          "2024-08-13T00:00:00",
          "2024-08-14T00:00:00",
          "2024-08-15T00:00:00",
          "2024-08-16T00:00:00",
          "2024-08-17T00:00:00",
          "2024-08-18T00:00:00",
          "2024-08-19T00:00:00",
          "2024-08-20T00:00:00",
          "2024-08-21T00:00:00",
          "2024-08-22T00:00:00",
          "2024-08-23T00:00:00",
          "2024-08-24T00:00:00",
          "2024-08-25T00:00:00",
          "2024-08-26T00:00:00",
          "2024-08-27T00:00:00",
          "2024-08-28T00:00:00",
          "2024-08-29T00:00:00",
          "2024-08-30T00:00:00",
          "2024-08-31T00:00:00",
          "2024-09-01T00:00:00",
          "2024-09-02T00:00:00",
          "2024-09-03T00:00:00",
          "2024-09-04T00:00:00",
          "2024-09-05T00:00:00",
          "2024-09-06T00:00:00",
          "2024-09-07T00:00:00",
          "2024-09-08T00:00:00",
          "2024-09-09T00:00:00",
          "2024-09-10T00:00:00",
          "2024-09-11T00:00:00",
          "2024-09-12T00:00:00",
          "2024-09-13T00:00:00",
          "2024-09-14T00:00:00",
          "2024-09-15T00:00:00",
          "2024-09-16T00:00:00",
          "2024-09-17T00:00:00",
          "2024-09-18T00:00:00",
          "2024-09-19T00:00:00",
          "2024-09-20T00:00:00",
          "2024-09-21T00:00:00",
          "2024-09-22T00:00:00",
          "2024-09-23T00:00:00",
          "2024-09-24T00:00:00",
          "2024-09-25T00:00:00",
          "2024-09-26T00:00:00",
          "2024-09-27T00:00:00",
          "2024-09-28T00:00:00",
          "2024-09-29T00:00:00",
          "2024-09-30T00:00:00",
          "2024-10-01T00:00:00",
          "2024-10-02T00:00:00",
          "2024-10-03T00:00:00",
          "2024-10-04T00:00:00",
          "2024-10-05T00:00:00",
          "2024-10-06T00:00:00",
          "2024-10-07T00:00:00",
          "2024-10-08T00:00:00",
          "2024-10-09T00:00:00",
          "2024-10-10T00:00:00",
          "2024-10-11T00:00:00",
          "2024-10-12T00:00:00",
          "2024-10-13T00:00:00",
          "2024-10-14T00:00:00",
          "2024-10-15T00:00:00",
          "2024-10-16T00:00:00",
          "2024-10-17T00:00:00",
          "2024-10-18T00:00:00",
          "2024-10-19T00:00:00",
          "2024-10-20T00:00:00",
          "2024-10-21T00:00:00"
         ],
         "xaxis": "x",
         "y": [
          null,
          null,
          null,
          null,
          null,
          null,
          null,
          null,
          null,
          null,
          null,
          null,
          null,
          null,
          null,
          null,
          null,
          null,
          null,
          null,
          null,
          null,
          null,
          null,
          null,
          null,
          null,
          null,
          null,
          null,
          839761.3125,
          855502.3125,
          860784.625,
          877438.4375,
          807096.375,
          712674.625,
          816174.6875,
          862734.125,
          863036.1875,
          862055,
          872430.8125,
          808452.6875,
          714813.25,
          835724.0625,
          876158.9375,
          885493.625,
          877656.0625,
          852509.0625,
          793989.125,
          706469.625,
          820174.0625,
          851079.8125,
          852248.5,
          845858.0625,
          843917.0625,
          760917.375,
          665969.5,
          761854.125,
          808661.5625,
          825351.375,
          820681.1875,
          829803.125,
          753474.375,
          676843.6875,
          821525.25,
          865610.375,
          869237.8125,
          869234.3125,
          860999.4375,
          791852.125,
          697967.25,
          825969.375,
          877026.9375,
          880342.75,
          873541.25,
          856379.6875,
          773592.125,
          679942.0625,
          800689.9375,
          823813.5625,
          813815.9375,
          810033.5,
          824009.6875,
          765931.0625,
          693137.8125,
          837799.875,
          872756,
          852736.5,
          820891.1875,
          800562,
          747527.1875,
          669097.625,
          818779.5,
          876797.8125,
          900023.875,
          890627.3125,
          847202.25,
          762026.0625,
          679103.625,
          826241.5
         ],
         "yaxis": "y"
        },
        {
         "fill": "toself",
         "fillcolor": "#57822b",
         "legendgroup": "XGBRegressor_level_99",
         "line": {
          "color": "#57822b",
          "width": 1
         },
         "mode": "lines",
         "name": "XGBRegressor_level_99",
         "opacity": 0.010000000000000009,
         "showlegend": true,
         "type": "scatter",
         "x": [
          "2024-07-14T00:00:00.000000000",
          "2024-07-15T00:00:00.000000000",
          "2024-07-16T00:00:00.000000000",
          "2024-07-17T00:00:00.000000000",
          "2024-07-18T00:00:00.000000000",
          "2024-07-19T00:00:00.000000000",
          "2024-07-20T00:00:00.000000000",
          "2024-07-21T00:00:00.000000000",
          "2024-07-22T00:00:00.000000000",
          "2024-07-23T00:00:00.000000000",
          "2024-07-24T00:00:00.000000000",
          "2024-07-25T00:00:00.000000000",
          "2024-07-26T00:00:00.000000000",
          "2024-07-27T00:00:00.000000000",
          "2024-07-28T00:00:00.000000000",
          "2024-07-29T00:00:00.000000000",
          "2024-07-30T00:00:00.000000000",
          "2024-07-31T00:00:00.000000000",
          "2024-08-01T00:00:00.000000000",
          "2024-08-02T00:00:00.000000000",
          "2024-08-03T00:00:00.000000000",
          "2024-08-04T00:00:00.000000000",
          "2024-08-05T00:00:00.000000000",
          "2024-08-06T00:00:00.000000000",
          "2024-08-07T00:00:00.000000000",
          "2024-08-08T00:00:00.000000000",
          "2024-08-09T00:00:00.000000000",
          "2024-08-10T00:00:00.000000000",
          "2024-08-11T00:00:00.000000000",
          "2024-08-12T00:00:00.000000000",
          "2024-08-13T00:00:00.000000000",
          "2024-08-14T00:00:00.000000000",
          "2024-08-15T00:00:00.000000000",
          "2024-08-16T00:00:00.000000000",
          "2024-08-17T00:00:00.000000000",
          "2024-08-18T00:00:00.000000000",
          "2024-08-19T00:00:00.000000000",
          "2024-08-20T00:00:00.000000000",
          "2024-08-21T00:00:00.000000000",
          "2024-08-22T00:00:00.000000000",
          "2024-08-23T00:00:00.000000000",
          "2024-08-24T00:00:00.000000000",
          "2024-08-25T00:00:00.000000000",
          "2024-08-26T00:00:00.000000000",
          "2024-08-27T00:00:00.000000000",
          "2024-08-28T00:00:00.000000000",
          "2024-08-29T00:00:00.000000000",
          "2024-08-30T00:00:00.000000000",
          "2024-08-31T00:00:00.000000000",
          "2024-09-01T00:00:00.000000000",
          "2024-09-02T00:00:00.000000000",
          "2024-09-03T00:00:00.000000000",
          "2024-09-04T00:00:00.000000000",
          "2024-09-05T00:00:00.000000000",
          "2024-09-06T00:00:00.000000000",
          "2024-09-07T00:00:00.000000000",
          "2024-09-08T00:00:00.000000000",
          "2024-09-09T00:00:00.000000000",
          "2024-09-10T00:00:00.000000000",
          "2024-09-11T00:00:00.000000000",
          "2024-09-12T00:00:00.000000000",
          "2024-09-13T00:00:00.000000000",
          "2024-09-14T00:00:00.000000000",
          "2024-09-15T00:00:00.000000000",
          "2024-09-16T00:00:00.000000000",
          "2024-09-17T00:00:00.000000000",
          "2024-09-18T00:00:00.000000000",
          "2024-09-19T00:00:00.000000000",
          "2024-09-20T00:00:00.000000000",
          "2024-09-21T00:00:00.000000000",
          "2024-09-22T00:00:00.000000000",
          "2024-09-23T00:00:00.000000000",
          "2024-09-24T00:00:00.000000000",
          "2024-09-25T00:00:00.000000000",
          "2024-09-26T00:00:00.000000000",
          "2024-09-27T00:00:00.000000000",
          "2024-09-28T00:00:00.000000000",
          "2024-09-29T00:00:00.000000000",
          "2024-09-30T00:00:00.000000000",
          "2024-10-01T00:00:00.000000000",
          "2024-10-02T00:00:00.000000000",
          "2024-10-03T00:00:00.000000000",
          "2024-10-04T00:00:00.000000000",
          "2024-10-05T00:00:00.000000000",
          "2024-10-06T00:00:00.000000000",
          "2024-10-07T00:00:00.000000000",
          "2024-10-08T00:00:00.000000000",
          "2024-10-09T00:00:00.000000000",
          "2024-10-10T00:00:00.000000000",
          "2024-10-11T00:00:00.000000000",
          "2024-10-12T00:00:00.000000000",
          "2024-10-13T00:00:00.000000000",
          "2024-10-14T00:00:00.000000000",
          "2024-10-15T00:00:00.000000000",
          "2024-10-16T00:00:00.000000000",
          "2024-10-17T00:00:00.000000000",
          "2024-10-18T00:00:00.000000000",
          "2024-10-19T00:00:00.000000000",
          "2024-10-20T00:00:00.000000000",
          "2024-10-21T00:00:00.000000000",
          "2024-10-21T00:00:00.000000000",
          "2024-10-20T00:00:00.000000000",
          "2024-10-19T00:00:00.000000000",
          "2024-10-18T00:00:00.000000000",
          "2024-10-17T00:00:00.000000000",
          "2024-10-16T00:00:00.000000000",
          "2024-10-15T00:00:00.000000000",
          "2024-10-14T00:00:00.000000000",
          "2024-10-13T00:00:00.000000000",
          "2024-10-12T00:00:00.000000000",
          "2024-10-11T00:00:00.000000000",
          "2024-10-10T00:00:00.000000000",
          "2024-10-09T00:00:00.000000000",
          "2024-10-08T00:00:00.000000000",
          "2024-10-07T00:00:00.000000000",
          "2024-10-06T00:00:00.000000000",
          "2024-10-05T00:00:00.000000000",
          "2024-10-04T00:00:00.000000000",
          "2024-10-03T00:00:00.000000000",
          "2024-10-02T00:00:00.000000000",
          "2024-10-01T00:00:00.000000000",
          "2024-09-30T00:00:00.000000000",
          "2024-09-29T00:00:00.000000000",
          "2024-09-28T00:00:00.000000000",
          "2024-09-27T00:00:00.000000000",
          "2024-09-26T00:00:00.000000000",
          "2024-09-25T00:00:00.000000000",
          "2024-09-24T00:00:00.000000000",
          "2024-09-23T00:00:00.000000000",
          "2024-09-22T00:00:00.000000000",
          "2024-09-21T00:00:00.000000000",
          "2024-09-20T00:00:00.000000000",
          "2024-09-19T00:00:00.000000000",
          "2024-09-18T00:00:00.000000000",
          "2024-09-17T00:00:00.000000000",
          "2024-09-16T00:00:00.000000000",
          "2024-09-15T00:00:00.000000000",
          "2024-09-14T00:00:00.000000000",
          "2024-09-13T00:00:00.000000000",
          "2024-09-12T00:00:00.000000000",
          "2024-09-11T00:00:00.000000000",
          "2024-09-10T00:00:00.000000000",
          "2024-09-09T00:00:00.000000000",
          "2024-09-08T00:00:00.000000000",
          "2024-09-07T00:00:00.000000000",
          "2024-09-06T00:00:00.000000000",
          "2024-09-05T00:00:00.000000000",
          "2024-09-04T00:00:00.000000000",
          "2024-09-03T00:00:00.000000000",
          "2024-09-02T00:00:00.000000000",
          "2024-09-01T00:00:00.000000000",
          "2024-08-31T00:00:00.000000000",
          "2024-08-30T00:00:00.000000000",
          "2024-08-29T00:00:00.000000000",
          "2024-08-28T00:00:00.000000000",
          "2024-08-27T00:00:00.000000000",
          "2024-08-26T00:00:00.000000000",
          "2024-08-25T00:00:00.000000000",
          "2024-08-24T00:00:00.000000000",
          "2024-08-23T00:00:00.000000000",
          "2024-08-22T00:00:00.000000000",
          "2024-08-21T00:00:00.000000000",
          "2024-08-20T00:00:00.000000000",
          "2024-08-19T00:00:00.000000000",
          "2024-08-18T00:00:00.000000000",
          "2024-08-17T00:00:00.000000000",
          "2024-08-16T00:00:00.000000000",
          "2024-08-15T00:00:00.000000000",
          "2024-08-14T00:00:00.000000000",
          "2024-08-13T00:00:00.000000000",
          "2024-08-12T00:00:00.000000000",
          "2024-08-11T00:00:00.000000000",
          "2024-08-10T00:00:00.000000000",
          "2024-08-09T00:00:00.000000000",
          "2024-08-08T00:00:00.000000000",
          "2024-08-07T00:00:00.000000000",
          "2024-08-06T00:00:00.000000000",
          "2024-08-05T00:00:00.000000000",
          "2024-08-04T00:00:00.000000000",
          "2024-08-03T00:00:00.000000000",
          "2024-08-02T00:00:00.000000000",
          "2024-08-01T00:00:00.000000000",
          "2024-07-31T00:00:00.000000000",
          "2024-07-30T00:00:00.000000000",
          "2024-07-29T00:00:00.000000000",
          "2024-07-28T00:00:00.000000000",
          "2024-07-27T00:00:00.000000000",
          "2024-07-26T00:00:00.000000000",
          "2024-07-25T00:00:00.000000000",
          "2024-07-24T00:00:00.000000000",
          "2024-07-23T00:00:00.000000000",
          "2024-07-22T00:00:00.000000000",
          "2024-07-21T00:00:00.000000000",
          "2024-07-20T00:00:00.000000000",
          "2024-07-19T00:00:00.000000000",
          "2024-07-18T00:00:00.000000000",
          "2024-07-17T00:00:00.000000000",
          "2024-07-16T00:00:00.000000000",
          "2024-07-15T00:00:00.000000000",
          "2024-07-14T00:00:00.000000000"
         ],
         "xaxis": "x",
         "y": [
          null,
          null,
          null,
          null,
          null,
          null,
          null,
          null,
          null,
          null,
          null,
          null,
          null,
          null,
          null,
          null,
          null,
          null,
          null,
          null,
          null,
          null,
          null,
          null,
          null,
          null,
          null,
          null,
          null,
          null,
          887078.7923499999,
          902819.7923499999,
          908102.1048499999,
          924755.9173499999,
          854413.8548499999,
          759992.1048499999,
          863492.1673499999,
          910051.6048499999,
          910353.6673499999,
          909372.4798499999,
          919748.2923499999,
          855770.1673499999,
          762130.7298499999,
          883041.5423499999,
          923476.4173499999,
          932811.1048499999,
          924973.5423499999,
          899826.5423499999,
          841306.6048499999,
          753787.1048499999,
          867491.5423499999,
          898397.2923499999,
          899565.9798499999,
          893175.5423499999,
          891234.5423499999,
          808234.8548499999,
          713286.9798499999,
          809171.6048499999,
          855979.0423499999,
          872668.8548499999,
          867998.6673499999,
          877120.6048499999,
          800791.8548499999,
          724161.1673499999,
          868842.7298499999,
          912927.8548499999,
          916555.2923499999,
          916551.7923499999,
          908316.9173499999,
          839169.6048499999,
          745284.7298499999,
          873286.8548499999,
          924344.4173499999,
          927660.2298499999,
          920858.7298499999,
          903697.1673499999,
          820909.6048499999,
          727259.5423499999,
          848007.4173499999,
          871131.0423499999,
          861133.4173499999,
          857350.9798499999,
          871327.1673499999,
          813248.5423499999,
          740455.2923499999,
          885117.3548499999,
          920073.4798499999,
          900053.9798499999,
          868208.6673499999,
          847879.4798499999,
          794844.6673499999,
          716415.1048499999,
          866096.9798499999,
          924115.2923499999,
          947341.3548499999,
          937944.7923499999,
          894519.7298499999,
          809343.5423499999,
          726421.1048499999,
          873558.9798499999,
          778924.0201500001,
          631786.1451500001,
          714708.5826500001,
          799884.7701500001,
          843309.8326500001,
          852706.3951500001,
          829480.3326500001,
          771462.0201500001,
          621780.1451500001,
          700209.7076500001,
          753244.5201500001,
          773573.7076500001,
          805419.0201500001,
          825438.5201500001,
          790482.3951500001,
          645820.3326500001,
          718613.5826500001,
          776692.2076500001,
          762716.0201500001,
          766498.4576500001,
          776496.0826500001,
          753372.4576500001,
          632624.5826500001,
          726274.6451500001,
          809062.2076500001,
          826223.7701500001,
          833025.2701500001,
          829709.4576500001,
          778651.8951500001,
          650649.7701500001,
          744534.6451500001,
          813681.9576500001,
          821916.8326500001,
          821920.3326500001,
          818292.8951500001,
          774207.7701500001,
          629526.2076500001,
          706156.8951500001,
          782485.6451500001,
          773363.7076500001,
          778033.8951500001,
          761344.0826500001,
          714536.6451500001,
          618652.0201500001,
          713599.8951500001,
          796599.5826500001,
          798540.5826500001,
          804931.0201500001,
          803762.3326500001,
          772856.5826500001,
          659152.1451500001,
          746671.6451500001,
          805191.5826500001,
          830338.5826500001,
          838176.1451500001,
          828841.4576500001,
          788406.5826500001,
          667495.7701500001,
          761135.2076500001,
          825113.3326500001,
          814737.5201500001,
          815718.7076500001,
          815416.6451500001,
          768857.2076500001,
          665357.1451500001,
          759778.8951500001,
          830120.9576500001,
          813467.1451500001,
          808184.8326500001,
          792443.8326500001,
          null,
          null,
          null,
          null,
          null,
          null,
          null,
          null,
          null,
          null,
          null,
          null,
          null,
          null,
          null,
          null,
          null,
          null,
          null,
          null,
          null,
          null,
          null,
          null,
          null,
          null,
          null,
          null,
          null,
          null
         ],
         "yaxis": "y"
        },
        {
         "legendgroup": "RandomForestRegressor",
         "line": {
          "color": "#905e84",
          "width": 1
         },
         "mode": "lines",
         "name": "RandomForestRegressor",
         "showlegend": true,
         "type": "scatter",
         "x": [
          "2024-07-14T00:00:00",
          "2024-07-15T00:00:00",
          "2024-07-16T00:00:00",
          "2024-07-17T00:00:00",
          "2024-07-18T00:00:00",
          "2024-07-19T00:00:00",
          "2024-07-20T00:00:00",
          "2024-07-21T00:00:00",
          "2024-07-22T00:00:00",
          "2024-07-23T00:00:00",
          "2024-07-24T00:00:00",
          "2024-07-25T00:00:00",
          "2024-07-26T00:00:00",
          "2024-07-27T00:00:00",
          "2024-07-28T00:00:00",
          "2024-07-29T00:00:00",
          "2024-07-30T00:00:00",
          "2024-07-31T00:00:00",
          "2024-08-01T00:00:00",
          "2024-08-02T00:00:00",
          "2024-08-03T00:00:00",
          "2024-08-04T00:00:00",
          "2024-08-05T00:00:00",
          "2024-08-06T00:00:00",
          "2024-08-07T00:00:00",
          "2024-08-08T00:00:00",
          "2024-08-09T00:00:00",
          "2024-08-10T00:00:00",
          "2024-08-11T00:00:00",
          "2024-08-12T00:00:00",
          "2024-08-13T00:00:00",
          "2024-08-14T00:00:00",
          "2024-08-15T00:00:00",
          "2024-08-16T00:00:00",
          "2024-08-17T00:00:00",
          "2024-08-18T00:00:00",
          "2024-08-19T00:00:00",
          "2024-08-20T00:00:00",
          "2024-08-21T00:00:00",
          "2024-08-22T00:00:00",
          "2024-08-23T00:00:00",
          "2024-08-24T00:00:00",
          "2024-08-25T00:00:00",
          "2024-08-26T00:00:00",
          "2024-08-27T00:00:00",
          "2024-08-28T00:00:00",
          "2024-08-29T00:00:00",
          "2024-08-30T00:00:00",
          "2024-08-31T00:00:00",
          "2024-09-01T00:00:00",
          "2024-09-02T00:00:00",
          "2024-09-03T00:00:00",
          "2024-09-04T00:00:00",
          "2024-09-05T00:00:00",
          "2024-09-06T00:00:00",
          "2024-09-07T00:00:00",
          "2024-09-08T00:00:00",
          "2024-09-09T00:00:00",
          "2024-09-10T00:00:00",
          "2024-09-11T00:00:00",
          "2024-09-12T00:00:00",
          "2024-09-13T00:00:00",
          "2024-09-14T00:00:00",
          "2024-09-15T00:00:00",
          "2024-09-16T00:00:00",
          "2024-09-17T00:00:00",
          "2024-09-18T00:00:00",
          "2024-09-19T00:00:00",
          "2024-09-20T00:00:00",
          "2024-09-21T00:00:00",
          "2024-09-22T00:00:00",
          "2024-09-23T00:00:00",
          "2024-09-24T00:00:00",
          "2024-09-25T00:00:00",
          "2024-09-26T00:00:00",
          "2024-09-27T00:00:00",
          "2024-09-28T00:00:00",
          "2024-09-29T00:00:00",
          "2024-09-30T00:00:00",
          "2024-10-01T00:00:00",
          "2024-10-02T00:00:00",
          "2024-10-03T00:00:00",
          "2024-10-04T00:00:00",
          "2024-10-05T00:00:00",
          "2024-10-06T00:00:00",
          "2024-10-07T00:00:00",
          "2024-10-08T00:00:00",
          "2024-10-09T00:00:00",
          "2024-10-10T00:00:00",
          "2024-10-11T00:00:00",
          "2024-10-12T00:00:00",
          "2024-10-13T00:00:00",
          "2024-10-14T00:00:00",
          "2024-10-15T00:00:00",
          "2024-10-16T00:00:00",
          "2024-10-17T00:00:00",
          "2024-10-18T00:00:00",
          "2024-10-19T00:00:00",
          "2024-10-20T00:00:00",
          "2024-10-21T00:00:00"
         ],
         "xaxis": "x",
         "y": [
          null,
          null,
          null,
          null,
          null,
          null,
          null,
          null,
          null,
          null,
          null,
          null,
          null,
          null,
          null,
          null,
          null,
          null,
          null,
          null,
          null,
          null,
          null,
          null,
          null,
          null,
          null,
          null,
          null,
          null,
          851227.5882400008,
          860289.5497950007,
          857293.5921450004,
          850462.0253350001,
          777417.8473400001,
          693787.7885599997,
          810691.7696850001,
          859579.5152649998,
          871205.3552600002,
          875694.910505,
          871447.7678000003,
          791932.2342500002,
          696459.1430749994,
          826009.2783849996,
          865421.148015,
          861978.9628100002,
          860596.3108700002,
          849708.0475449999,
          771086.011765,
          681876.651625,
          807577.077515,
          846454.4765699997,
          840962.8755950003,
          823393.3253350006,
          795950.0281249997,
          749761.2308850001,
          669052.5206699995,
          797515.6480049998,
          839042.411555,
          843920.4749050007,
          838927.5638949999,
          831227.2784499996,
          765044.0895899999,
          677292.8983649999,
          805636.9420949998,
          853046.9572650001,
          856490.7978000004,
          856120.0081950006,
          845376.9690200004,
          770867.0194049996,
          679348.1924500004,
          807746.0066700001,
          854461.4490950002,
          859398.8759100002,
          860389.5265150007,
          856912.7296650007,
          779328.1100649998,
          691296.6165849996,
          813225.6028399995,
          854817.1260999999,
          857613.6394299994,
          858049.8475899999,
          859255.521795,
          794515.1817300002,
          697431.8477049997,
          824563.5474449996,
          866624.1897799999,
          871396.0559350002,
          870770.9469600002,
          867447.2781950001,
          793910.6605300003,
          696345.7954649999,
          822044.2515649998,
          862395.318015,
          861996.4534050003,
          854607.6567000005,
          846168.1529349999,
          778798.9410149999,
          691933.2295649997,
          806390.139435
         ],
         "yaxis": "y"
        },
        {
         "fill": "toself",
         "fillcolor": "#905e84",
         "legendgroup": "RandomForestRegressor_level_99",
         "line": {
          "color": "#905e84",
          "width": 1
         },
         "mode": "lines",
         "name": "RandomForestRegressor_level_99",
         "opacity": 0.010000000000000009,
         "showlegend": true,
         "type": "scatter",
         "x": [
          "2024-07-14T00:00:00.000000000",
          "2024-07-15T00:00:00.000000000",
          "2024-07-16T00:00:00.000000000",
          "2024-07-17T00:00:00.000000000",
          "2024-07-18T00:00:00.000000000",
          "2024-07-19T00:00:00.000000000",
          "2024-07-20T00:00:00.000000000",
          "2024-07-21T00:00:00.000000000",
          "2024-07-22T00:00:00.000000000",
          "2024-07-23T00:00:00.000000000",
          "2024-07-24T00:00:00.000000000",
          "2024-07-25T00:00:00.000000000",
          "2024-07-26T00:00:00.000000000",
          "2024-07-27T00:00:00.000000000",
          "2024-07-28T00:00:00.000000000",
          "2024-07-29T00:00:00.000000000",
          "2024-07-30T00:00:00.000000000",
          "2024-07-31T00:00:00.000000000",
          "2024-08-01T00:00:00.000000000",
          "2024-08-02T00:00:00.000000000",
          "2024-08-03T00:00:00.000000000",
          "2024-08-04T00:00:00.000000000",
          "2024-08-05T00:00:00.000000000",
          "2024-08-06T00:00:00.000000000",
          "2024-08-07T00:00:00.000000000",
          "2024-08-08T00:00:00.000000000",
          "2024-08-09T00:00:00.000000000",
          "2024-08-10T00:00:00.000000000",
          "2024-08-11T00:00:00.000000000",
          "2024-08-12T00:00:00.000000000",
          "2024-08-13T00:00:00.000000000",
          "2024-08-14T00:00:00.000000000",
          "2024-08-15T00:00:00.000000000",
          "2024-08-16T00:00:00.000000000",
          "2024-08-17T00:00:00.000000000",
          "2024-08-18T00:00:00.000000000",
          "2024-08-19T00:00:00.000000000",
          "2024-08-20T00:00:00.000000000",
          "2024-08-21T00:00:00.000000000",
          "2024-08-22T00:00:00.000000000",
          "2024-08-23T00:00:00.000000000",
          "2024-08-24T00:00:00.000000000",
          "2024-08-25T00:00:00.000000000",
          "2024-08-26T00:00:00.000000000",
          "2024-08-27T00:00:00.000000000",
          "2024-08-28T00:00:00.000000000",
          "2024-08-29T00:00:00.000000000",
          "2024-08-30T00:00:00.000000000",
          "2024-08-31T00:00:00.000000000",
          "2024-09-01T00:00:00.000000000",
          "2024-09-02T00:00:00.000000000",
          "2024-09-03T00:00:00.000000000",
          "2024-09-04T00:00:00.000000000",
          "2024-09-05T00:00:00.000000000",
          "2024-09-06T00:00:00.000000000",
          "2024-09-07T00:00:00.000000000",
          "2024-09-08T00:00:00.000000000",
          "2024-09-09T00:00:00.000000000",
          "2024-09-10T00:00:00.000000000",
          "2024-09-11T00:00:00.000000000",
          "2024-09-12T00:00:00.000000000",
          "2024-09-13T00:00:00.000000000",
          "2024-09-14T00:00:00.000000000",
          "2024-09-15T00:00:00.000000000",
          "2024-09-16T00:00:00.000000000",
          "2024-09-17T00:00:00.000000000",
          "2024-09-18T00:00:00.000000000",
          "2024-09-19T00:00:00.000000000",
          "2024-09-20T00:00:00.000000000",
          "2024-09-21T00:00:00.000000000",
          "2024-09-22T00:00:00.000000000",
          "2024-09-23T00:00:00.000000000",
          "2024-09-24T00:00:00.000000000",
          "2024-09-25T00:00:00.000000000",
          "2024-09-26T00:00:00.000000000",
          "2024-09-27T00:00:00.000000000",
          "2024-09-28T00:00:00.000000000",
          "2024-09-29T00:00:00.000000000",
          "2024-09-30T00:00:00.000000000",
          "2024-10-01T00:00:00.000000000",
          "2024-10-02T00:00:00.000000000",
          "2024-10-03T00:00:00.000000000",
          "2024-10-04T00:00:00.000000000",
          "2024-10-05T00:00:00.000000000",
          "2024-10-06T00:00:00.000000000",
          "2024-10-07T00:00:00.000000000",
          "2024-10-08T00:00:00.000000000",
          "2024-10-09T00:00:00.000000000",
          "2024-10-10T00:00:00.000000000",
          "2024-10-11T00:00:00.000000000",
          "2024-10-12T00:00:00.000000000",
          "2024-10-13T00:00:00.000000000",
          "2024-10-14T00:00:00.000000000",
          "2024-10-15T00:00:00.000000000",
          "2024-10-16T00:00:00.000000000",
          "2024-10-17T00:00:00.000000000",
          "2024-10-18T00:00:00.000000000",
          "2024-10-19T00:00:00.000000000",
          "2024-10-20T00:00:00.000000000",
          "2024-10-21T00:00:00.000000000",
          "2024-10-21T00:00:00.000000000",
          "2024-10-20T00:00:00.000000000",
          "2024-10-19T00:00:00.000000000",
          "2024-10-18T00:00:00.000000000",
          "2024-10-17T00:00:00.000000000",
          "2024-10-16T00:00:00.000000000",
          "2024-10-15T00:00:00.000000000",
          "2024-10-14T00:00:00.000000000",
          "2024-10-13T00:00:00.000000000",
          "2024-10-12T00:00:00.000000000",
          "2024-10-11T00:00:00.000000000",
          "2024-10-10T00:00:00.000000000",
          "2024-10-09T00:00:00.000000000",
          "2024-10-08T00:00:00.000000000",
          "2024-10-07T00:00:00.000000000",
          "2024-10-06T00:00:00.000000000",
          "2024-10-05T00:00:00.000000000",
          "2024-10-04T00:00:00.000000000",
          "2024-10-03T00:00:00.000000000",
          "2024-10-02T00:00:00.000000000",
          "2024-10-01T00:00:00.000000000",
          "2024-09-30T00:00:00.000000000",
          "2024-09-29T00:00:00.000000000",
          "2024-09-28T00:00:00.000000000",
          "2024-09-27T00:00:00.000000000",
          "2024-09-26T00:00:00.000000000",
          "2024-09-25T00:00:00.000000000",
          "2024-09-24T00:00:00.000000000",
          "2024-09-23T00:00:00.000000000",
          "2024-09-22T00:00:00.000000000",
          "2024-09-21T00:00:00.000000000",
          "2024-09-20T00:00:00.000000000",
          "2024-09-19T00:00:00.000000000",
          "2024-09-18T00:00:00.000000000",
          "2024-09-17T00:00:00.000000000",
          "2024-09-16T00:00:00.000000000",
          "2024-09-15T00:00:00.000000000",
          "2024-09-14T00:00:00.000000000",
          "2024-09-13T00:00:00.000000000",
          "2024-09-12T00:00:00.000000000",
          "2024-09-11T00:00:00.000000000",
          "2024-09-10T00:00:00.000000000",
          "2024-09-09T00:00:00.000000000",
          "2024-09-08T00:00:00.000000000",
          "2024-09-07T00:00:00.000000000",
          "2024-09-06T00:00:00.000000000",
          "2024-09-05T00:00:00.000000000",
          "2024-09-04T00:00:00.000000000",
          "2024-09-03T00:00:00.000000000",
          "2024-09-02T00:00:00.000000000",
          "2024-09-01T00:00:00.000000000",
          "2024-08-31T00:00:00.000000000",
          "2024-08-30T00:00:00.000000000",
          "2024-08-29T00:00:00.000000000",
          "2024-08-28T00:00:00.000000000",
          "2024-08-27T00:00:00.000000000",
          "2024-08-26T00:00:00.000000000",
          "2024-08-25T00:00:00.000000000",
          "2024-08-24T00:00:00.000000000",
          "2024-08-23T00:00:00.000000000",
          "2024-08-22T00:00:00.000000000",
          "2024-08-21T00:00:00.000000000",
          "2024-08-20T00:00:00.000000000",
          "2024-08-19T00:00:00.000000000",
          "2024-08-18T00:00:00.000000000",
          "2024-08-17T00:00:00.000000000",
          "2024-08-16T00:00:00.000000000",
          "2024-08-15T00:00:00.000000000",
          "2024-08-14T00:00:00.000000000",
          "2024-08-13T00:00:00.000000000",
          "2024-08-12T00:00:00.000000000",
          "2024-08-11T00:00:00.000000000",
          "2024-08-10T00:00:00.000000000",
          "2024-08-09T00:00:00.000000000",
          "2024-08-08T00:00:00.000000000",
          "2024-08-07T00:00:00.000000000",
          "2024-08-06T00:00:00.000000000",
          "2024-08-05T00:00:00.000000000",
          "2024-08-04T00:00:00.000000000",
          "2024-08-03T00:00:00.000000000",
          "2024-08-02T00:00:00.000000000",
          "2024-08-01T00:00:00.000000000",
          "2024-07-31T00:00:00.000000000",
          "2024-07-30T00:00:00.000000000",
          "2024-07-29T00:00:00.000000000",
          "2024-07-28T00:00:00.000000000",
          "2024-07-27T00:00:00.000000000",
          "2024-07-26T00:00:00.000000000",
          "2024-07-25T00:00:00.000000000",
          "2024-07-24T00:00:00.000000000",
          "2024-07-23T00:00:00.000000000",
          "2024-07-22T00:00:00.000000000",
          "2024-07-21T00:00:00.000000000",
          "2024-07-20T00:00:00.000000000",
          "2024-07-19T00:00:00.000000000",
          "2024-07-18T00:00:00.000000000",
          "2024-07-17T00:00:00.000000000",
          "2024-07-16T00:00:00.000000000",
          "2024-07-15T00:00:00.000000000",
          "2024-07-14T00:00:00.000000000"
         ],
         "xaxis": "x",
         "y": [
          null,
          null,
          null,
          null,
          null,
          null,
          null,
          null,
          null,
          null,
          null,
          null,
          null,
          null,
          null,
          null,
          null,
          null,
          null,
          null,
          null,
          null,
          null,
          null,
          null,
          null,
          null,
          null,
          null,
          null,
          894635.960567501,
          903697.922122501,
          900701.9644725006,
          893870.3976625004,
          820826.2196675004,
          737196.1608874999,
          854100.1420125003,
          902987.8875925001,
          914613.7275875005,
          919103.2828325003,
          914856.1401275005,
          835340.6065775005,
          739867.5154024997,
          869417.6507124999,
          908829.5203425003,
          905387.3351375004,
          904004.6831975004,
          893116.4198725001,
          814494.3840925002,
          725285.0239525003,
          850985.4498425003,
          889862.8488975,
          884371.2479225006,
          866801.6976625009,
          839358.4004525,
          793169.6032125003,
          712460.8929974998,
          840924.0203325001,
          882450.7838825003,
          887328.8472325009,
          882335.9362225002,
          874635.6507774999,
          808452.4619175001,
          720701.2706925002,
          849045.3144225001,
          896455.3295925003,
          899899.1701275007,
          899528.3805225008,
          888785.3413475007,
          814275.3917324998,
          722756.5647775007,
          851154.3789975004,
          897869.8214225004,
          902807.2482375004,
          903797.898842501,
          900321.101992501,
          822736.4823925,
          734704.9889124999,
          856633.9751674997,
          898225.4984275001,
          901022.0117574997,
          901458.2199175002,
          902663.8941225002,
          837923.5540575004,
          740840.2200325,
          867971.9197724998,
          910032.5621075002,
          914804.4282625004,
          914179.3192875005,
          910855.6505225004,
          837319.0328575006,
          739754.1677925001,
          865452.6238925001,
          905803.6903425002,
          905404.8257325005,
          898016.0290275008,
          889576.5252625002,
          822207.3133425001,
          735341.6018925,
          849798.5117625003,
          762981.7671074998,
          648524.8572374994,
          735390.5686874996,
          802759.7806074996,
          811199.2843725003,
          818588.0810775,
          818986.9456874997,
          778635.8792374996,
          652937.4231374996,
          750502.2882025001,
          824038.9058674999,
          827362.5746325,
          827987.6836074999,
          823215.8174524996,
          781155.1751174993,
          654023.4753774995,
          751106.8094024999,
          815847.1494674997,
          814641.4752624996,
          814205.2671024991,
          811408.7537724996,
          769817.2305124992,
          647888.2442574993,
          735919.7377374995,
          813504.3573375004,
          816981.1541875005,
          815990.5035824999,
          811053.0767674999,
          764337.6343424999,
          635939.8201225002,
          727458.6470774993,
          801968.5966925002,
          812711.6358675003,
          813082.4254725002,
          809638.5849374998,
          762228.5697674996,
          633884.5260374997,
          721635.7172624996,
          787818.9061224994,
          795519.1915674997,
          800512.1025775004,
          795634.0392274997,
          754107.2756774996,
          625644.1483424993,
          706352.8585574998,
          752541.6557974995,
          779984.9530075004,
          797554.5032675001,
          803046.1042424995,
          764168.7051874998,
          638468.2792974998,
          727677.6394374997,
          806299.6752174996,
          817187.9385424999,
          818570.5904824999,
          822012.7756874998,
          782600.9060574993,
          653050.7707474992,
          748523.8619225,
          828039.3954725,
          832286.5381774998,
          827796.9829325,
          816171.1429374996,
          767283.3973574998,
          650379.4162324994,
          734009.4750124998,
          807053.6530074999,
          813885.2198175001,
          816881.1774675004,
          807819.2159125005,
          null,
          null,
          null,
          null,
          null,
          null,
          null,
          null,
          null,
          null,
          null,
          null,
          null,
          null,
          null,
          null,
          null,
          null,
          null,
          null,
          null,
          null,
          null,
          null,
          null,
          null,
          null,
          null,
          null,
          null
         ],
         "yaxis": "y"
        },
        {
         "legendgroup": "CatBoostRegressor",
         "line": {
          "color": "#987d90",
          "width": 1
         },
         "mode": "lines",
         "name": "CatBoostRegressor",
         "showlegend": true,
         "type": "scatter",
         "x": [
          "2024-07-14T00:00:00",
          "2024-07-15T00:00:00",
          "2024-07-16T00:00:00",
          "2024-07-17T00:00:00",
          "2024-07-18T00:00:00",
          "2024-07-19T00:00:00",
          "2024-07-20T00:00:00",
          "2024-07-21T00:00:00",
          "2024-07-22T00:00:00",
          "2024-07-23T00:00:00",
          "2024-07-24T00:00:00",
          "2024-07-25T00:00:00",
          "2024-07-26T00:00:00",
          "2024-07-27T00:00:00",
          "2024-07-28T00:00:00",
          "2024-07-29T00:00:00",
          "2024-07-30T00:00:00",
          "2024-07-31T00:00:00",
          "2024-08-01T00:00:00",
          "2024-08-02T00:00:00",
          "2024-08-03T00:00:00",
          "2024-08-04T00:00:00",
          "2024-08-05T00:00:00",
          "2024-08-06T00:00:00",
          "2024-08-07T00:00:00",
          "2024-08-08T00:00:00",
          "2024-08-09T00:00:00",
          "2024-08-10T00:00:00",
          "2024-08-11T00:00:00",
          "2024-08-12T00:00:00",
          "2024-08-13T00:00:00",
          "2024-08-14T00:00:00",
          "2024-08-15T00:00:00",
          "2024-08-16T00:00:00",
          "2024-08-17T00:00:00",
          "2024-08-18T00:00:00",
          "2024-08-19T00:00:00",
          "2024-08-20T00:00:00",
          "2024-08-21T00:00:00",
          "2024-08-22T00:00:00",
          "2024-08-23T00:00:00",
          "2024-08-24T00:00:00",
          "2024-08-25T00:00:00",
          "2024-08-26T00:00:00",
          "2024-08-27T00:00:00",
          "2024-08-28T00:00:00",
          "2024-08-29T00:00:00",
          "2024-08-30T00:00:00",
          "2024-08-31T00:00:00",
          "2024-09-01T00:00:00",
          "2024-09-02T00:00:00",
          "2024-09-03T00:00:00",
          "2024-09-04T00:00:00",
          "2024-09-05T00:00:00",
          "2024-09-06T00:00:00",
          "2024-09-07T00:00:00",
          "2024-09-08T00:00:00",
          "2024-09-09T00:00:00",
          "2024-09-10T00:00:00",
          "2024-09-11T00:00:00",
          "2024-09-12T00:00:00",
          "2024-09-13T00:00:00",
          "2024-09-14T00:00:00",
          "2024-09-15T00:00:00",
          "2024-09-16T00:00:00",
          "2024-09-17T00:00:00",
          "2024-09-18T00:00:00",
          "2024-09-19T00:00:00",
          "2024-09-20T00:00:00",
          "2024-09-21T00:00:00",
          "2024-09-22T00:00:00",
          "2024-09-23T00:00:00",
          "2024-09-24T00:00:00",
          "2024-09-25T00:00:00",
          "2024-09-26T00:00:00",
          "2024-09-27T00:00:00",
          "2024-09-28T00:00:00",
          "2024-09-29T00:00:00",
          "2024-09-30T00:00:00",
          "2024-10-01T00:00:00",
          "2024-10-02T00:00:00",
          "2024-10-03T00:00:00",
          "2024-10-04T00:00:00",
          "2024-10-05T00:00:00",
          "2024-10-06T00:00:00",
          "2024-10-07T00:00:00",
          "2024-10-08T00:00:00",
          "2024-10-09T00:00:00",
          "2024-10-10T00:00:00",
          "2024-10-11T00:00:00",
          "2024-10-12T00:00:00",
          "2024-10-13T00:00:00",
          "2024-10-14T00:00:00",
          "2024-10-15T00:00:00",
          "2024-10-16T00:00:00",
          "2024-10-17T00:00:00",
          "2024-10-18T00:00:00",
          "2024-10-19T00:00:00",
          "2024-10-20T00:00:00",
          "2024-10-21T00:00:00"
         ],
         "xaxis": "x",
         "y": [
          null,
          null,
          null,
          null,
          null,
          null,
          null,
          null,
          null,
          null,
          null,
          null,
          null,
          null,
          null,
          null,
          null,
          null,
          null,
          null,
          null,
          null,
          null,
          null,
          null,
          null,
          null,
          null,
          null,
          null,
          859596.3987637486,
          875220.631803559,
          870283.6081078479,
          861137.9808591265,
          764442.5858974487,
          671796.9061474057,
          784012.4751347743,
          820548.7683649961,
          845948.5817250129,
          861441.1773744335,
          879355.6680971894,
          800287.6594432087,
          695197.100231617,
          808171.1928264828,
          841989.7442103359,
          843702.037256235,
          849502.8879827964,
          851433.2233358886,
          803902.5394300194,
          701487.4293245313,
          817650.5077217366,
          856895.6249617396,
          866198.2588599401,
          867663.1186173108,
          853477.5099246013,
          793574.3748751886,
          695315.2958279399,
          790358.4859863541,
          848535.909902611,
          851373.104812279,
          865049.8615561305,
          863785.0010239911,
          797215.9971683894,
          705203.0211196009,
          826201.2509367488,
          869813.9612092874,
          861578.5604020492,
          875059.8472938098,
          881898.1987933771,
          808103.5254628992,
          703490.5477403722,
          811849.0654745107,
          845822.801132143,
          842729.2171574739,
          832240.9036201924,
          828243.3137841497,
          773799.2132572748,
          681020.4108800426,
          786494.375149609,
          816713.2944594056,
          829940.6124520458,
          833949.1657939311,
          836656.7208808918,
          760724.7126095636,
          669786.6244971001,
          781297.8301773871,
          827114.3594940237,
          840077.1103761008,
          839461.2624487886,
          840471.4691845955,
          763813.0227882905,
          676291.1341934229,
          798327.3181511353,
          843186.4905339609,
          849530.9038612604,
          858991.3096121943,
          853125.5841787603,
          785450.3206025364,
          686881.8131223943,
          793725.514858586
         ],
         "yaxis": "y"
        },
        {
         "fill": "toself",
         "fillcolor": "#987d90",
         "legendgroup": "CatBoostRegressor_level_99",
         "line": {
          "color": "#987d90",
          "width": 1
         },
         "mode": "lines",
         "name": "CatBoostRegressor_level_99",
         "opacity": 0.010000000000000009,
         "showlegend": true,
         "type": "scatter",
         "x": [
          "2024-07-14T00:00:00.000000000",
          "2024-07-15T00:00:00.000000000",
          "2024-07-16T00:00:00.000000000",
          "2024-07-17T00:00:00.000000000",
          "2024-07-18T00:00:00.000000000",
          "2024-07-19T00:00:00.000000000",
          "2024-07-20T00:00:00.000000000",
          "2024-07-21T00:00:00.000000000",
          "2024-07-22T00:00:00.000000000",
          "2024-07-23T00:00:00.000000000",
          "2024-07-24T00:00:00.000000000",
          "2024-07-25T00:00:00.000000000",
          "2024-07-26T00:00:00.000000000",
          "2024-07-27T00:00:00.000000000",
          "2024-07-28T00:00:00.000000000",
          "2024-07-29T00:00:00.000000000",
          "2024-07-30T00:00:00.000000000",
          "2024-07-31T00:00:00.000000000",
          "2024-08-01T00:00:00.000000000",
          "2024-08-02T00:00:00.000000000",
          "2024-08-03T00:00:00.000000000",
          "2024-08-04T00:00:00.000000000",
          "2024-08-05T00:00:00.000000000",
          "2024-08-06T00:00:00.000000000",
          "2024-08-07T00:00:00.000000000",
          "2024-08-08T00:00:00.000000000",
          "2024-08-09T00:00:00.000000000",
          "2024-08-10T00:00:00.000000000",
          "2024-08-11T00:00:00.000000000",
          "2024-08-12T00:00:00.000000000",
          "2024-08-13T00:00:00.000000000",
          "2024-08-14T00:00:00.000000000",
          "2024-08-15T00:00:00.000000000",
          "2024-08-16T00:00:00.000000000",
          "2024-08-17T00:00:00.000000000",
          "2024-08-18T00:00:00.000000000",
          "2024-08-19T00:00:00.000000000",
          "2024-08-20T00:00:00.000000000",
          "2024-08-21T00:00:00.000000000",
          "2024-08-22T00:00:00.000000000",
          "2024-08-23T00:00:00.000000000",
          "2024-08-24T00:00:00.000000000",
          "2024-08-25T00:00:00.000000000",
          "2024-08-26T00:00:00.000000000",
          "2024-08-27T00:00:00.000000000",
          "2024-08-28T00:00:00.000000000",
          "2024-08-29T00:00:00.000000000",
          "2024-08-30T00:00:00.000000000",
          "2024-08-31T00:00:00.000000000",
          "2024-09-01T00:00:00.000000000",
          "2024-09-02T00:00:00.000000000",
          "2024-09-03T00:00:00.000000000",
          "2024-09-04T00:00:00.000000000",
          "2024-09-05T00:00:00.000000000",
          "2024-09-06T00:00:00.000000000",
          "2024-09-07T00:00:00.000000000",
          "2024-09-08T00:00:00.000000000",
          "2024-09-09T00:00:00.000000000",
          "2024-09-10T00:00:00.000000000",
          "2024-09-11T00:00:00.000000000",
          "2024-09-12T00:00:00.000000000",
          "2024-09-13T00:00:00.000000000",
          "2024-09-14T00:00:00.000000000",
          "2024-09-15T00:00:00.000000000",
          "2024-09-16T00:00:00.000000000",
          "2024-09-17T00:00:00.000000000",
          "2024-09-18T00:00:00.000000000",
          "2024-09-19T00:00:00.000000000",
          "2024-09-20T00:00:00.000000000",
          "2024-09-21T00:00:00.000000000",
          "2024-09-22T00:00:00.000000000",
          "2024-09-23T00:00:00.000000000",
          "2024-09-24T00:00:00.000000000",
          "2024-09-25T00:00:00.000000000",
          "2024-09-26T00:00:00.000000000",
          "2024-09-27T00:00:00.000000000",
          "2024-09-28T00:00:00.000000000",
          "2024-09-29T00:00:00.000000000",
          "2024-09-30T00:00:00.000000000",
          "2024-10-01T00:00:00.000000000",
          "2024-10-02T00:00:00.000000000",
          "2024-10-03T00:00:00.000000000",
          "2024-10-04T00:00:00.000000000",
          "2024-10-05T00:00:00.000000000",
          "2024-10-06T00:00:00.000000000",
          "2024-10-07T00:00:00.000000000",
          "2024-10-08T00:00:00.000000000",
          "2024-10-09T00:00:00.000000000",
          "2024-10-10T00:00:00.000000000",
          "2024-10-11T00:00:00.000000000",
          "2024-10-12T00:00:00.000000000",
          "2024-10-13T00:00:00.000000000",
          "2024-10-14T00:00:00.000000000",
          "2024-10-15T00:00:00.000000000",
          "2024-10-16T00:00:00.000000000",
          "2024-10-17T00:00:00.000000000",
          "2024-10-18T00:00:00.000000000",
          "2024-10-19T00:00:00.000000000",
          "2024-10-20T00:00:00.000000000",
          "2024-10-21T00:00:00.000000000",
          "2024-10-21T00:00:00.000000000",
          "2024-10-20T00:00:00.000000000",
          "2024-10-19T00:00:00.000000000",
          "2024-10-18T00:00:00.000000000",
          "2024-10-17T00:00:00.000000000",
          "2024-10-16T00:00:00.000000000",
          "2024-10-15T00:00:00.000000000",
          "2024-10-14T00:00:00.000000000",
          "2024-10-13T00:00:00.000000000",
          "2024-10-12T00:00:00.000000000",
          "2024-10-11T00:00:00.000000000",
          "2024-10-10T00:00:00.000000000",
          "2024-10-09T00:00:00.000000000",
          "2024-10-08T00:00:00.000000000",
          "2024-10-07T00:00:00.000000000",
          "2024-10-06T00:00:00.000000000",
          "2024-10-05T00:00:00.000000000",
          "2024-10-04T00:00:00.000000000",
          "2024-10-03T00:00:00.000000000",
          "2024-10-02T00:00:00.000000000",
          "2024-10-01T00:00:00.000000000",
          "2024-09-30T00:00:00.000000000",
          "2024-09-29T00:00:00.000000000",
          "2024-09-28T00:00:00.000000000",
          "2024-09-27T00:00:00.000000000",
          "2024-09-26T00:00:00.000000000",
          "2024-09-25T00:00:00.000000000",
          "2024-09-24T00:00:00.000000000",
          "2024-09-23T00:00:00.000000000",
          "2024-09-22T00:00:00.000000000",
          "2024-09-21T00:00:00.000000000",
          "2024-09-20T00:00:00.000000000",
          "2024-09-19T00:00:00.000000000",
          "2024-09-18T00:00:00.000000000",
          "2024-09-17T00:00:00.000000000",
          "2024-09-16T00:00:00.000000000",
          "2024-09-15T00:00:00.000000000",
          "2024-09-14T00:00:00.000000000",
          "2024-09-13T00:00:00.000000000",
          "2024-09-12T00:00:00.000000000",
          "2024-09-11T00:00:00.000000000",
          "2024-09-10T00:00:00.000000000",
          "2024-09-09T00:00:00.000000000",
          "2024-09-08T00:00:00.000000000",
          "2024-09-07T00:00:00.000000000",
          "2024-09-06T00:00:00.000000000",
          "2024-09-05T00:00:00.000000000",
          "2024-09-04T00:00:00.000000000",
          "2024-09-03T00:00:00.000000000",
          "2024-09-02T00:00:00.000000000",
          "2024-09-01T00:00:00.000000000",
          "2024-08-31T00:00:00.000000000",
          "2024-08-30T00:00:00.000000000",
          "2024-08-29T00:00:00.000000000",
          "2024-08-28T00:00:00.000000000",
          "2024-08-27T00:00:00.000000000",
          "2024-08-26T00:00:00.000000000",
          "2024-08-25T00:00:00.000000000",
          "2024-08-24T00:00:00.000000000",
          "2024-08-23T00:00:00.000000000",
          "2024-08-22T00:00:00.000000000",
          "2024-08-21T00:00:00.000000000",
          "2024-08-20T00:00:00.000000000",
          "2024-08-19T00:00:00.000000000",
          "2024-08-18T00:00:00.000000000",
          "2024-08-17T00:00:00.000000000",
          "2024-08-16T00:00:00.000000000",
          "2024-08-15T00:00:00.000000000",
          "2024-08-14T00:00:00.000000000",
          "2024-08-13T00:00:00.000000000",
          "2024-08-12T00:00:00.000000000",
          "2024-08-11T00:00:00.000000000",
          "2024-08-10T00:00:00.000000000",
          "2024-08-09T00:00:00.000000000",
          "2024-08-08T00:00:00.000000000",
          "2024-08-07T00:00:00.000000000",
          "2024-08-06T00:00:00.000000000",
          "2024-08-05T00:00:00.000000000",
          "2024-08-04T00:00:00.000000000",
          "2024-08-03T00:00:00.000000000",
          "2024-08-02T00:00:00.000000000",
          "2024-08-01T00:00:00.000000000",
          "2024-07-31T00:00:00.000000000",
          "2024-07-30T00:00:00.000000000",
          "2024-07-29T00:00:00.000000000",
          "2024-07-28T00:00:00.000000000",
          "2024-07-27T00:00:00.000000000",
          "2024-07-26T00:00:00.000000000",
          "2024-07-25T00:00:00.000000000",
          "2024-07-24T00:00:00.000000000",
          "2024-07-23T00:00:00.000000000",
          "2024-07-22T00:00:00.000000000",
          "2024-07-21T00:00:00.000000000",
          "2024-07-20T00:00:00.000000000",
          "2024-07-19T00:00:00.000000000",
          "2024-07-18T00:00:00.000000000",
          "2024-07-17T00:00:00.000000000",
          "2024-07-16T00:00:00.000000000",
          "2024-07-15T00:00:00.000000000",
          "2024-07-14T00:00:00.000000000"
         ],
         "xaxis": "x",
         "y": [
          null,
          null,
          null,
          null,
          null,
          null,
          null,
          null,
          null,
          null,
          null,
          null,
          null,
          null,
          null,
          null,
          null,
          null,
          null,
          null,
          null,
          null,
          null,
          null,
          null,
          null,
          null,
          null,
          null,
          null,
          912918.9125554347,
          928543.1455952452,
          923606.121899534,
          914460.4946508127,
          817765.0996891349,
          725119.4199390919,
          837334.9889264605,
          873871.2821566822,
          899271.095516699,
          914763.6911661197,
          932678.1818888756,
          853610.1732348949,
          748519.6140233031,
          861493.706618169,
          895312.258002022,
          897024.5510479212,
          902825.4017744826,
          904755.7371275747,
          857225.0532217056,
          754809.9431162175,
          870973.0215134227,
          910218.1387534258,
          919520.7726516263,
          920985.6324089969,
          906800.0237162875,
          846896.8886668747,
          748637.809619626,
          843680.9997780402,
          901858.4236942972,
          904695.6186039652,
          918372.3753478166,
          917107.5148156773,
          850538.5109600755,
          758525.534911287,
          879523.764728435,
          923136.4750009736,
          914901.0741937354,
          928382.3610854959,
          935220.7125850633,
          861426.0392545854,
          756813.0615320584,
          865171.5792661968,
          899145.3149238292,
          896051.7309491601,
          885563.4174118786,
          881565.8275758359,
          827121.727048961,
          734342.9246717287,
          839816.8889412952,
          870035.8082510917,
          883263.1262437319,
          887271.6795856173,
          889979.2346725779,
          814047.2264012498,
          723109.1382887863,
          834620.3439690733,
          880436.8732857099,
          893399.6241677869,
          892783.7762404748,
          893793.9829762817,
          817135.5365799767,
          729613.647985109,
          851649.8319428215,
          896509.004325647,
          902853.4176529465,
          912313.8234038805,
          906448.0979704465,
          838772.8343942226,
          740204.3269140804,
          847048.0286502722,
          740403.0010668999,
          633559.2993307081,
          732127.8068108503,
          799803.0703870741,
          805668.7958205082,
          796208.3900695742,
          789863.9767422747,
          745004.8043594492,
          622968.6204017367,
          710490.5089966044,
          787148.9553929094,
          786138.7486571025,
          786754.5965844146,
          773791.8457023376,
          727975.316385701,
          616464.110705414,
          707402.1988178774,
          783334.2070892056,
          780626.652002245,
          776618.0986603596,
          763390.7806677194,
          733171.8613579229,
          627697.8970883564,
          720476.6994655887,
          774920.7999924636,
          778918.3898285063,
          789406.7033657877,
          792500.2873404569,
          758526.5516828245,
          650168.0339486861,
          754781.0116712131,
          828575.685001691,
          821737.3335021236,
          808256.0466103631,
          816491.4474176012,
          772878.7371450627,
          651880.5073279147,
          743893.4833767032,
          810462.487232305,
          811727.3477644443,
          798050.5910205928,
          795213.3961109249,
          737035.9721946679,
          641992.7820362537,
          740251.8610835024,
          800154.9961329151,
          814340.6048256246,
          812875.745068254,
          803573.1111700535,
          764327.9939300504,
          648164.9155328452,
          750580.0256383333,
          798110.7095442024,
          796180.3741911103,
          790379.5234645489,
          788667.2304186497,
          754848.6790347967,
          641874.5864399308,
          746965.1456515226,
          826033.1543055032,
          808118.6635827473,
          792626.0679333267,
          767226.2545733099,
          730689.9613430882,
          618474.3923557196,
          711120.0721057625,
          807815.4670674404,
          816961.0943161617,
          821898.1180118729,
          806273.8849720624,
          null,
          null,
          null,
          null,
          null,
          null,
          null,
          null,
          null,
          null,
          null,
          null,
          null,
          null,
          null,
          null,
          null,
          null,
          null,
          null,
          null,
          null,
          null,
          null,
          null,
          null,
          null,
          null,
          null,
          null
         ],
         "yaxis": "y"
        },
        {
         "legendgroup": "LGBMRegressor",
         "line": {
          "color": "#17becf",
          "width": 1
         },
         "mode": "lines",
         "name": "LGBMRegressor",
         "showlegend": true,
         "type": "scatter",
         "x": [
          "2024-07-14T00:00:00",
          "2024-07-15T00:00:00",
          "2024-07-16T00:00:00",
          "2024-07-17T00:00:00",
          "2024-07-18T00:00:00",
          "2024-07-19T00:00:00",
          "2024-07-20T00:00:00",
          "2024-07-21T00:00:00",
          "2024-07-22T00:00:00",
          "2024-07-23T00:00:00",
          "2024-07-24T00:00:00",
          "2024-07-25T00:00:00",
          "2024-07-26T00:00:00",
          "2024-07-27T00:00:00",
          "2024-07-28T00:00:00",
          "2024-07-29T00:00:00",
          "2024-07-30T00:00:00",
          "2024-07-31T00:00:00",
          "2024-08-01T00:00:00",
          "2024-08-02T00:00:00",
          "2024-08-03T00:00:00",
          "2024-08-04T00:00:00",
          "2024-08-05T00:00:00",
          "2024-08-06T00:00:00",
          "2024-08-07T00:00:00",
          "2024-08-08T00:00:00",
          "2024-08-09T00:00:00",
          "2024-08-10T00:00:00",
          "2024-08-11T00:00:00",
          "2024-08-12T00:00:00",
          "2024-08-13T00:00:00",
          "2024-08-14T00:00:00",
          "2024-08-15T00:00:00",
          "2024-08-16T00:00:00",
          "2024-08-17T00:00:00",
          "2024-08-18T00:00:00",
          "2024-08-19T00:00:00",
          "2024-08-20T00:00:00",
          "2024-08-21T00:00:00",
          "2024-08-22T00:00:00",
          "2024-08-23T00:00:00",
          "2024-08-24T00:00:00",
          "2024-08-25T00:00:00",
          "2024-08-26T00:00:00",
          "2024-08-27T00:00:00",
          "2024-08-28T00:00:00",
          "2024-08-29T00:00:00",
          "2024-08-30T00:00:00",
          "2024-08-31T00:00:00",
          "2024-09-01T00:00:00",
          "2024-09-02T00:00:00",
          "2024-09-03T00:00:00",
          "2024-09-04T00:00:00",
          "2024-09-05T00:00:00",
          "2024-09-06T00:00:00",
          "2024-09-07T00:00:00",
          "2024-09-08T00:00:00",
          "2024-09-09T00:00:00",
          "2024-09-10T00:00:00",
          "2024-09-11T00:00:00",
          "2024-09-12T00:00:00",
          "2024-09-13T00:00:00",
          "2024-09-14T00:00:00",
          "2024-09-15T00:00:00",
          "2024-09-16T00:00:00",
          "2024-09-17T00:00:00",
          "2024-09-18T00:00:00",
          "2024-09-19T00:00:00",
          "2024-09-20T00:00:00",
          "2024-09-21T00:00:00",
          "2024-09-22T00:00:00",
          "2024-09-23T00:00:00",
          "2024-09-24T00:00:00",
          "2024-09-25T00:00:00",
          "2024-09-26T00:00:00",
          "2024-09-27T00:00:00",
          "2024-09-28T00:00:00",
          "2024-09-29T00:00:00",
          "2024-09-30T00:00:00",
          "2024-10-01T00:00:00",
          "2024-10-02T00:00:00",
          "2024-10-03T00:00:00",
          "2024-10-04T00:00:00",
          "2024-10-05T00:00:00",
          "2024-10-06T00:00:00",
          "2024-10-07T00:00:00",
          "2024-10-08T00:00:00",
          "2024-10-09T00:00:00",
          "2024-10-10T00:00:00",
          "2024-10-11T00:00:00",
          "2024-10-12T00:00:00",
          "2024-10-13T00:00:00",
          "2024-10-14T00:00:00",
          "2024-10-15T00:00:00",
          "2024-10-16T00:00:00",
          "2024-10-17T00:00:00",
          "2024-10-18T00:00:00",
          "2024-10-19T00:00:00",
          "2024-10-20T00:00:00",
          "2024-10-21T00:00:00"
         ],
         "xaxis": "x",
         "y": [
          null,
          null,
          null,
          null,
          null,
          null,
          null,
          null,
          null,
          null,
          null,
          null,
          null,
          null,
          null,
          null,
          null,
          null,
          null,
          null,
          null,
          null,
          null,
          null,
          null,
          null,
          null,
          null,
          null,
          null,
          850939.8489366323,
          856238.7994878989,
          852988.1460100963,
          839947.2534187133,
          773187.3986515523,
          689779.0368941885,
          795677.9224215148,
          837593.4941607888,
          857932.8162014452,
          866629.5482787165,
          877282.736117795,
          809168.4357636265,
          720160.7361461339,
          834570.5558285597,
          867325.0837918076,
          865265.9518004293,
          864894.7734378304,
          874746.7735452799,
          821684.8849944965,
          721276.2450279132,
          844268.8601574979,
          868197.8856021654,
          862360.558094889,
          855324.3742875822,
          841579.5597747344,
          780315.787393243,
          693641.2930513148,
          816742.0152012636,
          869120.5138213247,
          881948.9965245745,
          885414.6567947792,
          883348.7277266236,
          819958.8065372077,
          725366.139778057,
          840838.3178855871,
          873097.4298691526,
          889533.6039177269,
          895138.8412635225,
          895740.1973637285,
          833390.5518355388,
          731410.5116511248,
          874354.9125918623,
          909315.0240825346,
          912175.2230255463,
          923664.7606817839,
          924491.6587024875,
          829019.6130793776,
          721513.8861963826,
          824911.9930087863,
          847701.1569875429,
          854297.8265523498,
          860391.3009194772,
          867261.0407415138,
          811141.346218161,
          719733.1496185166,
          822312.0729778796,
          860426.4883848112,
          873338.367228,
          881351.1518609313,
          873446.6871458715,
          806051.1829481467,
          721830.0152681298,
          834420.6334357325,
          863797.4948929956,
          866628.4187065,
          879583.9377131916,
          878743.933665631,
          812396.7597348586,
          725197.9047692167,
          842669.9890378306
         ],
         "yaxis": "y"
        },
        {
         "fill": "toself",
         "fillcolor": "#17becf",
         "legendgroup": "LGBMRegressor_level_99",
         "line": {
          "color": "#17becf",
          "width": 1
         },
         "mode": "lines",
         "name": "LGBMRegressor_level_99",
         "opacity": 0.010000000000000009,
         "showlegend": true,
         "type": "scatter",
         "x": [
          "2024-07-14T00:00:00.000000000",
          "2024-07-15T00:00:00.000000000",
          "2024-07-16T00:00:00.000000000",
          "2024-07-17T00:00:00.000000000",
          "2024-07-18T00:00:00.000000000",
          "2024-07-19T00:00:00.000000000",
          "2024-07-20T00:00:00.000000000",
          "2024-07-21T00:00:00.000000000",
          "2024-07-22T00:00:00.000000000",
          "2024-07-23T00:00:00.000000000",
          "2024-07-24T00:00:00.000000000",
          "2024-07-25T00:00:00.000000000",
          "2024-07-26T00:00:00.000000000",
          "2024-07-27T00:00:00.000000000",
          "2024-07-28T00:00:00.000000000",
          "2024-07-29T00:00:00.000000000",
          "2024-07-30T00:00:00.000000000",
          "2024-07-31T00:00:00.000000000",
          "2024-08-01T00:00:00.000000000",
          "2024-08-02T00:00:00.000000000",
          "2024-08-03T00:00:00.000000000",
          "2024-08-04T00:00:00.000000000",
          "2024-08-05T00:00:00.000000000",
          "2024-08-06T00:00:00.000000000",
          "2024-08-07T00:00:00.000000000",
          "2024-08-08T00:00:00.000000000",
          "2024-08-09T00:00:00.000000000",
          "2024-08-10T00:00:00.000000000",
          "2024-08-11T00:00:00.000000000",
          "2024-08-12T00:00:00.000000000",
          "2024-08-13T00:00:00.000000000",
          "2024-08-14T00:00:00.000000000",
          "2024-08-15T00:00:00.000000000",
          "2024-08-16T00:00:00.000000000",
          "2024-08-17T00:00:00.000000000",
          "2024-08-18T00:00:00.000000000",
          "2024-08-19T00:00:00.000000000",
          "2024-08-20T00:00:00.000000000",
          "2024-08-21T00:00:00.000000000",
          "2024-08-22T00:00:00.000000000",
          "2024-08-23T00:00:00.000000000",
          "2024-08-24T00:00:00.000000000",
          "2024-08-25T00:00:00.000000000",
          "2024-08-26T00:00:00.000000000",
          "2024-08-27T00:00:00.000000000",
          "2024-08-28T00:00:00.000000000",
          "2024-08-29T00:00:00.000000000",
          "2024-08-30T00:00:00.000000000",
          "2024-08-31T00:00:00.000000000",
          "2024-09-01T00:00:00.000000000",
          "2024-09-02T00:00:00.000000000",
          "2024-09-03T00:00:00.000000000",
          "2024-09-04T00:00:00.000000000",
          "2024-09-05T00:00:00.000000000",
          "2024-09-06T00:00:00.000000000",
          "2024-09-07T00:00:00.000000000",
          "2024-09-08T00:00:00.000000000",
          "2024-09-09T00:00:00.000000000",
          "2024-09-10T00:00:00.000000000",
          "2024-09-11T00:00:00.000000000",
          "2024-09-12T00:00:00.000000000",
          "2024-09-13T00:00:00.000000000",
          "2024-09-14T00:00:00.000000000",
          "2024-09-15T00:00:00.000000000",
          "2024-09-16T00:00:00.000000000",
          "2024-09-17T00:00:00.000000000",
          "2024-09-18T00:00:00.000000000",
          "2024-09-19T00:00:00.000000000",
          "2024-09-20T00:00:00.000000000",
          "2024-09-21T00:00:00.000000000",
          "2024-09-22T00:00:00.000000000",
          "2024-09-23T00:00:00.000000000",
          "2024-09-24T00:00:00.000000000",
          "2024-09-25T00:00:00.000000000",
          "2024-09-26T00:00:00.000000000",
          "2024-09-27T00:00:00.000000000",
          "2024-09-28T00:00:00.000000000",
          "2024-09-29T00:00:00.000000000",
          "2024-09-30T00:00:00.000000000",
          "2024-10-01T00:00:00.000000000",
          "2024-10-02T00:00:00.000000000",
          "2024-10-03T00:00:00.000000000",
          "2024-10-04T00:00:00.000000000",
          "2024-10-05T00:00:00.000000000",
          "2024-10-06T00:00:00.000000000",
          "2024-10-07T00:00:00.000000000",
          "2024-10-08T00:00:00.000000000",
          "2024-10-09T00:00:00.000000000",
          "2024-10-10T00:00:00.000000000",
          "2024-10-11T00:00:00.000000000",
          "2024-10-12T00:00:00.000000000",
          "2024-10-13T00:00:00.000000000",
          "2024-10-14T00:00:00.000000000",
          "2024-10-15T00:00:00.000000000",
          "2024-10-16T00:00:00.000000000",
          "2024-10-17T00:00:00.000000000",
          "2024-10-18T00:00:00.000000000",
          "2024-10-19T00:00:00.000000000",
          "2024-10-20T00:00:00.000000000",
          "2024-10-21T00:00:00.000000000",
          "2024-10-21T00:00:00.000000000",
          "2024-10-20T00:00:00.000000000",
          "2024-10-19T00:00:00.000000000",
          "2024-10-18T00:00:00.000000000",
          "2024-10-17T00:00:00.000000000",
          "2024-10-16T00:00:00.000000000",
          "2024-10-15T00:00:00.000000000",
          "2024-10-14T00:00:00.000000000",
          "2024-10-13T00:00:00.000000000",
          "2024-10-12T00:00:00.000000000",
          "2024-10-11T00:00:00.000000000",
          "2024-10-10T00:00:00.000000000",
          "2024-10-09T00:00:00.000000000",
          "2024-10-08T00:00:00.000000000",
          "2024-10-07T00:00:00.000000000",
          "2024-10-06T00:00:00.000000000",
          "2024-10-05T00:00:00.000000000",
          "2024-10-04T00:00:00.000000000",
          "2024-10-03T00:00:00.000000000",
          "2024-10-02T00:00:00.000000000",
          "2024-10-01T00:00:00.000000000",
          "2024-09-30T00:00:00.000000000",
          "2024-09-29T00:00:00.000000000",
          "2024-09-28T00:00:00.000000000",
          "2024-09-27T00:00:00.000000000",
          "2024-09-26T00:00:00.000000000",
          "2024-09-25T00:00:00.000000000",
          "2024-09-24T00:00:00.000000000",
          "2024-09-23T00:00:00.000000000",
          "2024-09-22T00:00:00.000000000",
          "2024-09-21T00:00:00.000000000",
          "2024-09-20T00:00:00.000000000",
          "2024-09-19T00:00:00.000000000",
          "2024-09-18T00:00:00.000000000",
          "2024-09-17T00:00:00.000000000",
          "2024-09-16T00:00:00.000000000",
          "2024-09-15T00:00:00.000000000",
          "2024-09-14T00:00:00.000000000",
          "2024-09-13T00:00:00.000000000",
          "2024-09-12T00:00:00.000000000",
          "2024-09-11T00:00:00.000000000",
          "2024-09-10T00:00:00.000000000",
          "2024-09-09T00:00:00.000000000",
          "2024-09-08T00:00:00.000000000",
          "2024-09-07T00:00:00.000000000",
          "2024-09-06T00:00:00.000000000",
          "2024-09-05T00:00:00.000000000",
          "2024-09-04T00:00:00.000000000",
          "2024-09-03T00:00:00.000000000",
          "2024-09-02T00:00:00.000000000",
          "2024-09-01T00:00:00.000000000",
          "2024-08-31T00:00:00.000000000",
          "2024-08-30T00:00:00.000000000",
          "2024-08-29T00:00:00.000000000",
          "2024-08-28T00:00:00.000000000",
          "2024-08-27T00:00:00.000000000",
          "2024-08-26T00:00:00.000000000",
          "2024-08-25T00:00:00.000000000",
          "2024-08-24T00:00:00.000000000",
          "2024-08-23T00:00:00.000000000",
          "2024-08-22T00:00:00.000000000",
          "2024-08-21T00:00:00.000000000",
          "2024-08-20T00:00:00.000000000",
          "2024-08-19T00:00:00.000000000",
          "2024-08-18T00:00:00.000000000",
          "2024-08-17T00:00:00.000000000",
          "2024-08-16T00:00:00.000000000",
          "2024-08-15T00:00:00.000000000",
          "2024-08-14T00:00:00.000000000",
          "2024-08-13T00:00:00.000000000",
          "2024-08-12T00:00:00.000000000",
          "2024-08-11T00:00:00.000000000",
          "2024-08-10T00:00:00.000000000",
          "2024-08-09T00:00:00.000000000",
          "2024-08-08T00:00:00.000000000",
          "2024-08-07T00:00:00.000000000",
          "2024-08-06T00:00:00.000000000",
          "2024-08-05T00:00:00.000000000",
          "2024-08-04T00:00:00.000000000",
          "2024-08-03T00:00:00.000000000",
          "2024-08-02T00:00:00.000000000",
          "2024-08-01T00:00:00.000000000",
          "2024-07-31T00:00:00.000000000",
          "2024-07-30T00:00:00.000000000",
          "2024-07-29T00:00:00.000000000",
          "2024-07-28T00:00:00.000000000",
          "2024-07-27T00:00:00.000000000",
          "2024-07-26T00:00:00.000000000",
          "2024-07-25T00:00:00.000000000",
          "2024-07-24T00:00:00.000000000",
          "2024-07-23T00:00:00.000000000",
          "2024-07-22T00:00:00.000000000",
          "2024-07-21T00:00:00.000000000",
          "2024-07-20T00:00:00.000000000",
          "2024-07-19T00:00:00.000000000",
          "2024-07-18T00:00:00.000000000",
          "2024-07-17T00:00:00.000000000",
          "2024-07-16T00:00:00.000000000",
          "2024-07-15T00:00:00.000000000",
          "2024-07-14T00:00:00.000000000"
         ],
         "xaxis": "x",
         "y": [
          null,
          null,
          null,
          null,
          null,
          null,
          null,
          null,
          null,
          null,
          null,
          null,
          null,
          null,
          null,
          null,
          null,
          null,
          null,
          null,
          null,
          null,
          null,
          null,
          null,
          null,
          null,
          null,
          null,
          null,
          891273.9573564691,
          896572.9079077358,
          893322.2544299331,
          880281.3618385502,
          813521.5070713891,
          730113.1453140253,
          836012.0308413516,
          877927.6025806257,
          898266.924621282,
          906963.6566985534,
          917616.8445376318,
          849502.5441834633,
          760494.8445659707,
          874904.6642483965,
          907659.1922116445,
          905600.0602202661,
          905228.8818576672,
          915080.8819651167,
          862018.9934143333,
          761610.3534477501,
          884602.9685773348,
          908531.9940220022,
          902694.6665147259,
          895658.4827074191,
          881913.6681945713,
          820649.8958130799,
          733975.4014711516,
          857076.1236211004,
          909454.6222411615,
          922283.1049444113,
          925748.7652146161,
          923682.8361464605,
          860292.9149570445,
          765700.2481978938,
          881172.426305424,
          913431.5382889895,
          929867.7123375637,
          935472.9496833594,
          936074.3057835654,
          873724.6602553757,
          771744.6200709617,
          914689.0210116991,
          949649.1325023714,
          952509.3314453831,
          963998.8691016207,
          964825.7671223243,
          869353.7214992144,
          761847.9946162194,
          865246.1014286232,
          888035.2654073797,
          894631.9349721867,
          900725.4093393141,
          907595.1491613507,
          851475.4546379979,
          760067.2580383534,
          862646.1813977164,
          900760.596804648,
          913672.4756478368,
          921685.2602807682,
          913780.7955657083,
          846385.2913679836,
          762164.1236879666,
          874754.7418555693,
          904131.6033128324,
          906962.5271263368,
          919918.0461330285,
          919078.0420854678,
          852730.8681546955,
          765532.0131890535,
          883004.0974576675,
          802335.8806179938,
          684863.7963493798,
          772062.6513150218,
          838409.8252457941,
          839249.8292933548,
          826294.3102866631,
          823463.3864731587,
          794086.5250158956,
          681495.9068482929,
          765717.0745283099,
          833112.5787260346,
          841017.0434410945,
          833004.2588081631,
          820092.3799649744,
          781977.9645580427,
          679399.0411986797,
          770807.2377983242,
          826926.932321677,
          820057.1924996404,
          813963.718132513,
          807367.048567706,
          784577.8845889495,
          681179.7777765457,
          788685.5046595407,
          884157.5502826506,
          883330.652261947,
          871841.1146057094,
          868980.9156626977,
          834020.8041720254,
          691076.403231288,
          793056.443415702,
          855406.0889438917,
          854804.7328436857,
          849199.49549789,
          832763.3214493158,
          800504.2094657503,
          685032.0313582201,
          779624.6981173708,
          843014.6193067868,
          845080.5483749424,
          841614.8881047376,
          828786.4054014878,
          776407.9067814267,
          653307.1846314779,
          739981.6789734062,
          801245.4513548976,
          814990.2658677454,
          822026.4496750522,
          827863.7771823285,
          803934.7517376611,
          680942.1366080764,
          781350.7765746596,
          834412.665125443,
          824560.6650179935,
          824931.8433805924,
          826990.9753719708,
          794236.4474087228,
          679826.627726297,
          768834.3273437896,
          836948.6276979581,
          826295.4398588797,
          817598.7077816083,
          797259.385740952,
          755343.8140016779,
          649444.9284743516,
          732853.2902317154,
          799613.1449988765,
          812654.0375902595,
          815904.6910680621,
          810605.7405167954,
          null,
          null,
          null,
          null,
          null,
          null,
          null,
          null,
          null,
          null,
          null,
          null,
          null,
          null,
          null,
          null,
          null,
          null,
          null,
          null,
          null,
          null,
          null,
          null,
          null,
          null,
          null,
          null,
          null,
          null
         ],
         "yaxis": "y"
        }
       ],
       "layout": {
        "annotations": [
         {
          "font": {
           "size": 10
          },
          "showarrow": false,
          "text": "unique_id=0",
          "x": 0.5,
          "xanchor": "center",
          "xref": "paper",
          "y": 1,
          "yanchor": "bottom",
          "yref": "paper"
         },
         {
          "font": {
           "size": 10
          },
          "showarrow": false,
          "text": "Time [ds]",
          "x": 0.5,
          "xanchor": "center",
          "xref": "paper",
          "y": 0,
          "yanchor": "top",
          "yref": "paper",
          "yshift": -30
         },
         {
          "font": {
           "size": 10
          },
          "showarrow": false,
          "text": "Target [y]",
          "textangle": -90,
          "x": 0,
          "xanchor": "right",
          "xref": "paper",
          "xshift": -40,
          "y": 0.5,
          "yanchor": "middle",
          "yref": "paper"
         }
        ],
        "autosize": true,
        "font": {
         "size": 10
        },
        "height": 400,
        "margin": {
         "b": 50,
         "l": 60,
         "r": 10,
         "t": 20
        },
        "template": {
         "data": {
          "bar": [
           {
            "error_x": {
             "color": "#2a3f5f"
            },
            "error_y": {
             "color": "#2a3f5f"
            },
            "marker": {
             "line": {
              "color": "white",
              "width": 0.5
             },
             "pattern": {
              "fillmode": "overlay",
              "size": 10,
              "solidity": 0.2
             }
            },
            "type": "bar"
           }
          ],
          "barpolar": [
           {
            "marker": {
             "line": {
              "color": "white",
              "width": 0.5
             },
             "pattern": {
              "fillmode": "overlay",
              "size": 10,
              "solidity": 0.2
             }
            },
            "type": "barpolar"
           }
          ],
          "carpet": [
           {
            "aaxis": {
             "endlinecolor": "#2a3f5f",
             "gridcolor": "#C8D4E3",
             "linecolor": "#C8D4E3",
             "minorgridcolor": "#C8D4E3",
             "startlinecolor": "#2a3f5f"
            },
            "baxis": {
             "endlinecolor": "#2a3f5f",
             "gridcolor": "#C8D4E3",
             "linecolor": "#C8D4E3",
             "minorgridcolor": "#C8D4E3",
             "startlinecolor": "#2a3f5f"
            },
            "type": "carpet"
           }
          ],
          "choropleth": [
           {
            "colorbar": {
             "outlinewidth": 0,
             "ticks": ""
            },
            "type": "choropleth"
           }
          ],
          "contour": [
           {
            "colorbar": {
             "outlinewidth": 0,
             "ticks": ""
            },
            "colorscale": [
             [
              0,
              "#0d0887"
             ],
             [
              0.1111111111111111,
              "#46039f"
             ],
             [
              0.2222222222222222,
              "#7201a8"
             ],
             [
              0.3333333333333333,
              "#9c179e"
             ],
             [
              0.4444444444444444,
              "#bd3786"
             ],
             [
              0.5555555555555556,
              "#d8576b"
             ],
             [
              0.6666666666666666,
              "#ed7953"
             ],
             [
              0.7777777777777778,
              "#fb9f3a"
             ],
             [
              0.8888888888888888,
              "#fdca26"
             ],
             [
              1,
              "#f0f921"
             ]
            ],
            "type": "contour"
           }
          ],
          "contourcarpet": [
           {
            "colorbar": {
             "outlinewidth": 0,
             "ticks": ""
            },
            "type": "contourcarpet"
           }
          ],
          "heatmap": [
           {
            "colorbar": {
             "outlinewidth": 0,
             "ticks": ""
            },
            "colorscale": [
             [
              0,
              "#0d0887"
             ],
             [
              0.1111111111111111,
              "#46039f"
             ],
             [
              0.2222222222222222,
              "#7201a8"
             ],
             [
              0.3333333333333333,
              "#9c179e"
             ],
             [
              0.4444444444444444,
              "#bd3786"
             ],
             [
              0.5555555555555556,
              "#d8576b"
             ],
             [
              0.6666666666666666,
              "#ed7953"
             ],
             [
              0.7777777777777778,
              "#fb9f3a"
             ],
             [
              0.8888888888888888,
              "#fdca26"
             ],
             [
              1,
              "#f0f921"
             ]
            ],
            "type": "heatmap"
           }
          ],
          "heatmapgl": [
           {
            "colorbar": {
             "outlinewidth": 0,
             "ticks": ""
            },
            "colorscale": [
             [
              0,
              "#0d0887"
             ],
             [
              0.1111111111111111,
              "#46039f"
             ],
             [
              0.2222222222222222,
              "#7201a8"
             ],
             [
              0.3333333333333333,
              "#9c179e"
             ],
             [
              0.4444444444444444,
              "#bd3786"
             ],
             [
              0.5555555555555556,
              "#d8576b"
             ],
             [
              0.6666666666666666,
              "#ed7953"
             ],
             [
              0.7777777777777778,
              "#fb9f3a"
             ],
             [
              0.8888888888888888,
              "#fdca26"
             ],
             [
              1,
              "#f0f921"
             ]
            ],
            "type": "heatmapgl"
           }
          ],
          "histogram": [
           {
            "marker": {
             "pattern": {
              "fillmode": "overlay",
              "size": 10,
              "solidity": 0.2
             }
            },
            "type": "histogram"
           }
          ],
          "histogram2d": [
           {
            "colorbar": {
             "outlinewidth": 0,
             "ticks": ""
            },
            "colorscale": [
             [
              0,
              "#0d0887"
             ],
             [
              0.1111111111111111,
              "#46039f"
             ],
             [
              0.2222222222222222,
              "#7201a8"
             ],
             [
              0.3333333333333333,
              "#9c179e"
             ],
             [
              0.4444444444444444,
              "#bd3786"
             ],
             [
              0.5555555555555556,
              "#d8576b"
             ],
             [
              0.6666666666666666,
              "#ed7953"
             ],
             [
              0.7777777777777778,
              "#fb9f3a"
             ],
             [
              0.8888888888888888,
              "#fdca26"
             ],
             [
              1,
              "#f0f921"
             ]
            ],
            "type": "histogram2d"
           }
          ],
          "histogram2dcontour": [
           {
            "colorbar": {
             "outlinewidth": 0,
             "ticks": ""
            },
            "colorscale": [
             [
              0,
              "#0d0887"
             ],
             [
              0.1111111111111111,
              "#46039f"
             ],
             [
              0.2222222222222222,
              "#7201a8"
             ],
             [
              0.3333333333333333,
              "#9c179e"
             ],
             [
              0.4444444444444444,
              "#bd3786"
             ],
             [
              0.5555555555555556,
              "#d8576b"
             ],
             [
              0.6666666666666666,
              "#ed7953"
             ],
             [
              0.7777777777777778,
              "#fb9f3a"
             ],
             [
              0.8888888888888888,
              "#fdca26"
             ],
             [
              1,
              "#f0f921"
             ]
            ],
            "type": "histogram2dcontour"
           }
          ],
          "mesh3d": [
           {
            "colorbar": {
             "outlinewidth": 0,
             "ticks": ""
            },
            "type": "mesh3d"
           }
          ],
          "parcoords": [
           {
            "line": {
             "colorbar": {
              "outlinewidth": 0,
              "ticks": ""
             }
            },
            "type": "parcoords"
           }
          ],
          "pie": [
           {
            "automargin": true,
            "type": "pie"
           }
          ],
          "scatter": [
           {
            "fillpattern": {
             "fillmode": "overlay",
             "size": 10,
             "solidity": 0.2
            },
            "type": "scatter"
           }
          ],
          "scatter3d": [
           {
            "line": {
             "colorbar": {
              "outlinewidth": 0,
              "ticks": ""
             }
            },
            "marker": {
             "colorbar": {
              "outlinewidth": 0,
              "ticks": ""
             }
            },
            "type": "scatter3d"
           }
          ],
          "scattercarpet": [
           {
            "marker": {
             "colorbar": {
              "outlinewidth": 0,
              "ticks": ""
             }
            },
            "type": "scattercarpet"
           }
          ],
          "scattergeo": [
           {
            "marker": {
             "colorbar": {
              "outlinewidth": 0,
              "ticks": ""
             }
            },
            "type": "scattergeo"
           }
          ],
          "scattergl": [
           {
            "marker": {
             "colorbar": {
              "outlinewidth": 0,
              "ticks": ""
             }
            },
            "type": "scattergl"
           }
          ],
          "scattermapbox": [
           {
            "marker": {
             "colorbar": {
              "outlinewidth": 0,
              "ticks": ""
             }
            },
            "type": "scattermapbox"
           }
          ],
          "scatterpolar": [
           {
            "marker": {
             "colorbar": {
              "outlinewidth": 0,
              "ticks": ""
             }
            },
            "type": "scatterpolar"
           }
          ],
          "scatterpolargl": [
           {
            "marker": {
             "colorbar": {
              "outlinewidth": 0,
              "ticks": ""
             }
            },
            "type": "scatterpolargl"
           }
          ],
          "scatterternary": [
           {
            "marker": {
             "colorbar": {
              "outlinewidth": 0,
              "ticks": ""
             }
            },
            "type": "scatterternary"
           }
          ],
          "surface": [
           {
            "colorbar": {
             "outlinewidth": 0,
             "ticks": ""
            },
            "colorscale": [
             [
              0,
              "#0d0887"
             ],
             [
              0.1111111111111111,
              "#46039f"
             ],
             [
              0.2222222222222222,
              "#7201a8"
             ],
             [
              0.3333333333333333,
              "#9c179e"
             ],
             [
              0.4444444444444444,
              "#bd3786"
             ],
             [
              0.5555555555555556,
              "#d8576b"
             ],
             [
              0.6666666666666666,
              "#ed7953"
             ],
             [
              0.7777777777777778,
              "#fb9f3a"
             ],
             [
              0.8888888888888888,
              "#fdca26"
             ],
             [
              1,
              "#f0f921"
             ]
            ],
            "type": "surface"
           }
          ],
          "table": [
           {
            "cells": {
             "fill": {
              "color": "#EBF0F8"
             },
             "line": {
              "color": "white"
             }
            },
            "header": {
             "fill": {
              "color": "#C8D4E3"
             },
             "line": {
              "color": "white"
             }
            },
            "type": "table"
           }
          ]
         },
         "layout": {
          "annotationdefaults": {
           "arrowcolor": "#2a3f5f",
           "arrowhead": 0,
           "arrowwidth": 1
          },
          "autotypenumbers": "strict",
          "coloraxis": {
           "colorbar": {
            "outlinewidth": 0,
            "ticks": ""
           }
          },
          "colorscale": {
           "diverging": [
            [
             0,
             "#8e0152"
            ],
            [
             0.1,
             "#c51b7d"
            ],
            [
             0.2,
             "#de77ae"
            ],
            [
             0.3,
             "#f1b6da"
            ],
            [
             0.4,
             "#fde0ef"
            ],
            [
             0.5,
             "#f7f7f7"
            ],
            [
             0.6,
             "#e6f5d0"
            ],
            [
             0.7,
             "#b8e186"
            ],
            [
             0.8,
             "#7fbc41"
            ],
            [
             0.9,
             "#4d9221"
            ],
            [
             1,
             "#276419"
            ]
           ],
           "sequential": [
            [
             0,
             "#0d0887"
            ],
            [
             0.1111111111111111,
             "#46039f"
            ],
            [
             0.2222222222222222,
             "#7201a8"
            ],
            [
             0.3333333333333333,
             "#9c179e"
            ],
            [
             0.4444444444444444,
             "#bd3786"
            ],
            [
             0.5555555555555556,
             "#d8576b"
            ],
            [
             0.6666666666666666,
             "#ed7953"
            ],
            [
             0.7777777777777778,
             "#fb9f3a"
            ],
            [
             0.8888888888888888,
             "#fdca26"
            ],
            [
             1,
             "#f0f921"
            ]
           ],
           "sequentialminus": [
            [
             0,
             "#0d0887"
            ],
            [
             0.1111111111111111,
             "#46039f"
            ],
            [
             0.2222222222222222,
             "#7201a8"
            ],
            [
             0.3333333333333333,
             "#9c179e"
            ],
            [
             0.4444444444444444,
             "#bd3786"
            ],
            [
             0.5555555555555556,
             "#d8576b"
            ],
            [
             0.6666666666666666,
             "#ed7953"
            ],
            [
             0.7777777777777778,
             "#fb9f3a"
            ],
            [
             0.8888888888888888,
             "#fdca26"
            ],
            [
             1,
             "#f0f921"
            ]
           ]
          },
          "colorway": [
           "#636efa",
           "#EF553B",
           "#00cc96",
           "#ab63fa",
           "#FFA15A",
           "#19d3f3",
           "#FF6692",
           "#B6E880",
           "#FF97FF",
           "#FECB52"
          ],
          "font": {
           "color": "#2a3f5f"
          },
          "geo": {
           "bgcolor": "white",
           "lakecolor": "white",
           "landcolor": "white",
           "showlakes": true,
           "showland": true,
           "subunitcolor": "#C8D4E3"
          },
          "hoverlabel": {
           "align": "left"
          },
          "hovermode": "closest",
          "mapbox": {
           "style": "light"
          },
          "paper_bgcolor": "white",
          "plot_bgcolor": "white",
          "polar": {
           "angularaxis": {
            "gridcolor": "#EBF0F8",
            "linecolor": "#EBF0F8",
            "ticks": ""
           },
           "bgcolor": "white",
           "radialaxis": {
            "gridcolor": "#EBF0F8",
            "linecolor": "#EBF0F8",
            "ticks": ""
           }
          },
          "scene": {
           "xaxis": {
            "backgroundcolor": "white",
            "gridcolor": "#DFE8F3",
            "gridwidth": 2,
            "linecolor": "#EBF0F8",
            "showbackground": true,
            "ticks": "",
            "zerolinecolor": "#EBF0F8"
           },
           "yaxis": {
            "backgroundcolor": "white",
            "gridcolor": "#DFE8F3",
            "gridwidth": 2,
            "linecolor": "#EBF0F8",
            "showbackground": true,
            "ticks": "",
            "zerolinecolor": "#EBF0F8"
           },
           "zaxis": {
            "backgroundcolor": "white",
            "gridcolor": "#DFE8F3",
            "gridwidth": 2,
            "linecolor": "#EBF0F8",
            "showbackground": true,
            "ticks": "",
            "zerolinecolor": "#EBF0F8"
           }
          },
          "shapedefaults": {
           "line": {
            "color": "#2a3f5f"
           }
          },
          "ternary": {
           "aaxis": {
            "gridcolor": "#DFE8F3",
            "linecolor": "#A2B1C6",
            "ticks": ""
           },
           "baxis": {
            "gridcolor": "#DFE8F3",
            "linecolor": "#A2B1C6",
            "ticks": ""
           },
           "bgcolor": "white",
           "caxis": {
            "gridcolor": "#DFE8F3",
            "linecolor": "#A2B1C6",
            "ticks": ""
           }
          },
          "title": {
           "x": 0.05
          },
          "xaxis": {
           "automargin": true,
           "gridcolor": "#EBF0F8",
           "linecolor": "#EBF0F8",
           "ticks": "",
           "title": {
            "standoff": 15
           },
           "zerolinecolor": "#EBF0F8",
           "zerolinewidth": 2
          },
          "yaxis": {
           "automargin": true,
           "gridcolor": "#EBF0F8",
           "linecolor": "#EBF0F8",
           "ticks": "",
           "title": {
            "standoff": 15
           },
           "zerolinecolor": "#EBF0F8",
           "zerolinewidth": 2
          }
         }
        },
        "xaxis": {
         "anchor": "y",
         "domain": [
          0,
          1
         ],
         "showticklabels": true,
         "visible": true
        },
        "yaxis": {
         "anchor": "x",
         "domain": [
          0,
          1
         ]
        }
       }
      }
     },
     "metadata": {},
     "output_type": "display_data"
    }
   ],
   "source": [
    "from utilsforecast.plotting import plot_series\n",
    "\n",
    "fig = plot_series(\n",
    "    df_train,\n",
    "    test,\n",
    "    models=['XGBRegressor', 'RandomForestRegressor', 'CatBoostRegressor', 'LGBMRegressor'],\n",
    "    plot_random=False,\n",
    "    level=levels[-1:],\n",
    "    max_insample_length=30,\n",
    "    engine='plotly'\n",
    ")\n",
    "fig.update_layout(\n",
    "    height=400\n",
    ")\n"
   ]
  },
  {
   "cell_type": "code",
   "execution_count": 116,
   "metadata": {},
   "outputs": [],
   "source": [
    "# model.update(df_oot.head(30))"
   ]
  },
  {
   "cell_type": "code",
   "execution_count": 176,
   "metadata": {},
   "outputs": [
    {
     "data": {
      "text/html": [
       "<div>\n",
       "<style scoped>\n",
       "    .dataframe tbody tr th:only-of-type {\n",
       "        vertical-align: middle;\n",
       "    }\n",
       "\n",
       "    .dataframe tbody tr th {\n",
       "        vertical-align: top;\n",
       "    }\n",
       "\n",
       "    .dataframe thead th {\n",
       "        text-align: right;\n",
       "    }\n",
       "</style>\n",
       "<table border=\"1\" class=\"dataframe\">\n",
       "  <thead>\n",
       "    <tr style=\"text-align: right;\">\n",
       "      <th></th>\n",
       "      <th>unique_id</th>\n",
       "      <th>ds</th>\n",
       "      <th>CatBoostRegressor</th>\n",
       "      <th>LGBMRegressor</th>\n",
       "      <th>XGBRegressor</th>\n",
       "      <th>RandomForestRegressor</th>\n",
       "    </tr>\n",
       "  </thead>\n",
       "  <tbody>\n",
       "    <tr>\n",
       "      <th>0</th>\n",
       "      <td>0</td>\n",
       "      <td>2024-08-13</td>\n",
       "      <td>859596.398764</td>\n",
       "      <td>850939.848937</td>\n",
       "      <td>839761.3125</td>\n",
       "      <td>851227.58824</td>\n",
       "    </tr>\n",
       "  </tbody>\n",
       "</table>\n",
       "</div>"
      ],
      "text/plain": [
       "   unique_id         ds  CatBoostRegressor  LGBMRegressor  XGBRegressor  \\\n",
       "0          0 2024-08-13      859596.398764  850939.848937   839761.3125   \n",
       "\n",
       "   RandomForestRegressor  \n",
       "0           851227.58824  "
      ]
     },
     "execution_count": 176,
     "metadata": {},
     "output_type": "execute_result"
    }
   ],
   "source": [
    "model.predict(1)"
   ]
  },
  {
   "cell_type": "code",
   "execution_count": 180,
   "metadata": {},
   "outputs": [
    {
     "name": "stderr",
     "output_type": "stream",
     "text": [
      "\u001b[32m2024-08-23 15:45:44.024\u001b[0m | \u001b[1mINFO    \u001b[0m | \u001b[36mutils\u001b[0m:\u001b[36mscore_data\u001b[0m:\u001b[36m283\u001b[0m - \u001b[1mScoring data\u001b[0m\n",
      "/home/pedro/my_project_dir/energy_demand/.venv/lib/python3.10/site-packages/mlforecast/forecast.py:742: UserWarning:\n",
      "\n",
      "Prediction intervals are calculated using 1-step ahead cross-validation, with a constant width for all horizons. To vary the error by horizon, pass PredictionIntervals(h=h) to the `prediction_intervals` argument when refitting the model.\n",
      "\n"
     ]
    },
    {
     "data": {
      "text/html": [
       "<div>\n",
       "<style scoped>\n",
       "    .dataframe tbody tr th:only-of-type {\n",
       "        vertical-align: middle;\n",
       "    }\n",
       "\n",
       "    .dataframe tbody tr th {\n",
       "        vertical-align: top;\n",
       "    }\n",
       "\n",
       "    .dataframe thead th {\n",
       "        text-align: right;\n",
       "    }\n",
       "</style>\n",
       "<table border=\"1\" class=\"dataframe\">\n",
       "  <thead>\n",
       "    <tr style=\"text-align: right;\">\n",
       "      <th></th>\n",
       "      <th>ds</th>\n",
       "      <th>y</th>\n",
       "      <th>unique_id</th>\n",
       "      <th>CatBoostRegressor</th>\n",
       "      <th>LGBMRegressor</th>\n",
       "      <th>XGBRegressor</th>\n",
       "      <th>RandomForestRegressor</th>\n",
       "      <th>CatBoostRegressor-lo-99</th>\n",
       "      <th>CatBoostRegressor-lo-95</th>\n",
       "      <th>CatBoostRegressor-lo-90</th>\n",
       "      <th>...</th>\n",
       "      <th>RandomForestRegressor-hi-20</th>\n",
       "      <th>RandomForestRegressor-hi-30</th>\n",
       "      <th>RandomForestRegressor-hi-40</th>\n",
       "      <th>RandomForestRegressor-hi-50</th>\n",
       "      <th>RandomForestRegressor-hi-60</th>\n",
       "      <th>RandomForestRegressor-hi-70</th>\n",
       "      <th>RandomForestRegressor-hi-80</th>\n",
       "      <th>RandomForestRegressor-hi-90</th>\n",
       "      <th>RandomForestRegressor-hi-95</th>\n",
       "      <th>RandomForestRegressor-hi-99</th>\n",
       "    </tr>\n",
       "  </thead>\n",
       "  <tbody>\n",
       "    <tr>\n",
       "      <th>0</th>\n",
       "      <td>2024-08-13</td>\n",
       "      <td>844564.0700</td>\n",
       "      <td>0</td>\n",
       "      <td>859596.398764</td>\n",
       "      <td>850939.848937</td>\n",
       "      <td>839761.3125</td>\n",
       "      <td>851227.588240</td>\n",
       "      <td>806273.884972</td>\n",
       "      <td>810357.323783</td>\n",
       "      <td>815461.622296</td>\n",
       "      <td>...</td>\n",
       "      <td>860285.081135</td>\n",
       "      <td>862060.156169</td>\n",
       "      <td>863835.231203</td>\n",
       "      <td>865610.306236</td>\n",
       "      <td>867385.381270</td>\n",
       "      <td>874372.709295</td>\n",
       "      <td>881360.037320</td>\n",
       "      <td>888347.365345</td>\n",
       "      <td>891841.029358</td>\n",
       "      <td>894635.960568</td>\n",
       "    </tr>\n",
       "    <tr>\n",
       "      <th>1</th>\n",
       "      <td>2024-08-14</td>\n",
       "      <td>856677.3810</td>\n",
       "      <td>0</td>\n",
       "      <td>875220.631804</td>\n",
       "      <td>856238.799488</td>\n",
       "      <td>855502.3125</td>\n",
       "      <td>860289.549795</td>\n",
       "      <td>821898.118012</td>\n",
       "      <td>825981.556822</td>\n",
       "      <td>831085.855336</td>\n",
       "      <td>...</td>\n",
       "      <td>869347.042690</td>\n",
       "      <td>871122.117724</td>\n",
       "      <td>872897.192758</td>\n",
       "      <td>874672.267791</td>\n",
       "      <td>876447.342825</td>\n",
       "      <td>883434.670850</td>\n",
       "      <td>890421.998875</td>\n",
       "      <td>897409.326900</td>\n",
       "      <td>900902.990913</td>\n",
       "      <td>903697.922123</td>\n",
       "    </tr>\n",
       "    <tr>\n",
       "      <th>2</th>\n",
       "      <td>2024-08-15</td>\n",
       "      <td>870365.0395</td>\n",
       "      <td>0</td>\n",
       "      <td>870283.608108</td>\n",
       "      <td>852988.146010</td>\n",
       "      <td>860784.6250</td>\n",
       "      <td>857293.592145</td>\n",
       "      <td>816961.094316</td>\n",
       "      <td>821044.533127</td>\n",
       "      <td>826148.831640</td>\n",
       "      <td>...</td>\n",
       "      <td>866351.085040</td>\n",
       "      <td>868126.160074</td>\n",
       "      <td>869901.235108</td>\n",
       "      <td>871676.310141</td>\n",
       "      <td>873451.385175</td>\n",
       "      <td>880438.713200</td>\n",
       "      <td>887426.041225</td>\n",
       "      <td>894413.369250</td>\n",
       "      <td>897907.033263</td>\n",
       "      <td>900701.964473</td>\n",
       "    </tr>\n",
       "    <tr>\n",
       "      <th>3</th>\n",
       "      <td>2024-08-16</td>\n",
       "      <td>895989.2120</td>\n",
       "      <td>0</td>\n",
       "      <td>861137.980859</td>\n",
       "      <td>839947.253419</td>\n",
       "      <td>877438.4375</td>\n",
       "      <td>850462.025335</td>\n",
       "      <td>807815.467067</td>\n",
       "      <td>811898.905878</td>\n",
       "      <td>817003.204391</td>\n",
       "      <td>...</td>\n",
       "      <td>859519.518230</td>\n",
       "      <td>861294.593264</td>\n",
       "      <td>863069.668298</td>\n",
       "      <td>864844.743331</td>\n",
       "      <td>866619.818365</td>\n",
       "      <td>873607.146390</td>\n",
       "      <td>880594.474415</td>\n",
       "      <td>887581.802440</td>\n",
       "      <td>891075.466453</td>\n",
       "      <td>893870.397663</td>\n",
       "    </tr>\n",
       "    <tr>\n",
       "      <th>4</th>\n",
       "      <td>2024-08-17</td>\n",
       "      <td>832527.0950</td>\n",
       "      <td>0</td>\n",
       "      <td>764442.585897</td>\n",
       "      <td>773187.398652</td>\n",
       "      <td>807096.3750</td>\n",
       "      <td>777417.847340</td>\n",
       "      <td>711120.072106</td>\n",
       "      <td>715203.510916</td>\n",
       "      <td>720307.809429</td>\n",
       "      <td>...</td>\n",
       "      <td>786475.340235</td>\n",
       "      <td>788250.415269</td>\n",
       "      <td>790025.490302</td>\n",
       "      <td>791800.565336</td>\n",
       "      <td>793575.640370</td>\n",
       "      <td>800562.968395</td>\n",
       "      <td>807550.296420</td>\n",
       "      <td>814537.624445</td>\n",
       "      <td>818031.288458</td>\n",
       "      <td>820826.219668</td>\n",
       "    </tr>\n",
       "    <tr>\n",
       "      <th>...</th>\n",
       "      <td>...</td>\n",
       "      <td>...</td>\n",
       "      <td>...</td>\n",
       "      <td>...</td>\n",
       "      <td>...</td>\n",
       "      <td>...</td>\n",
       "      <td>...</td>\n",
       "      <td>...</td>\n",
       "      <td>...</td>\n",
       "      <td>...</td>\n",
       "      <td>...</td>\n",
       "      <td>...</td>\n",
       "      <td>...</td>\n",
       "      <td>...</td>\n",
       "      <td>...</td>\n",
       "      <td>...</td>\n",
       "      <td>...</td>\n",
       "      <td>...</td>\n",
       "      <td>...</td>\n",
       "      <td>...</td>\n",
       "      <td>...</td>\n",
       "    </tr>\n",
       "    <tr>\n",
       "      <th>66</th>\n",
       "      <td>2024-10-18</td>\n",
       "      <td>NaN</td>\n",
       "      <td>0</td>\n",
       "      <td>853125.584179</td>\n",
       "      <td>878743.933666</td>\n",
       "      <td>847202.2500</td>\n",
       "      <td>846168.152935</td>\n",
       "      <td>799803.070387</td>\n",
       "      <td>803886.509198</td>\n",
       "      <td>808990.807711</td>\n",
       "      <td>...</td>\n",
       "      <td>855225.645830</td>\n",
       "      <td>857000.720864</td>\n",
       "      <td>858775.795897</td>\n",
       "      <td>860550.870931</td>\n",
       "      <td>862325.945965</td>\n",
       "      <td>869313.273990</td>\n",
       "      <td>876300.602015</td>\n",
       "      <td>883287.930040</td>\n",
       "      <td>886781.594053</td>\n",
       "      <td>889576.525263</td>\n",
       "    </tr>\n",
       "    <tr>\n",
       "      <th>67</th>\n",
       "      <td>2024-10-19</td>\n",
       "      <td>NaN</td>\n",
       "      <td>0</td>\n",
       "      <td>785450.320603</td>\n",
       "      <td>812396.759735</td>\n",
       "      <td>762026.0625</td>\n",
       "      <td>778798.941015</td>\n",
       "      <td>732127.806811</td>\n",
       "      <td>736211.245621</td>\n",
       "      <td>741315.544135</td>\n",
       "      <td>...</td>\n",
       "      <td>787856.433910</td>\n",
       "      <td>789631.508944</td>\n",
       "      <td>791406.583977</td>\n",
       "      <td>793181.659011</td>\n",
       "      <td>794956.734045</td>\n",
       "      <td>801944.062070</td>\n",
       "      <td>808931.390095</td>\n",
       "      <td>815918.718120</td>\n",
       "      <td>819412.382133</td>\n",
       "      <td>822207.313343</td>\n",
       "    </tr>\n",
       "    <tr>\n",
       "      <th>68</th>\n",
       "      <td>2024-10-20</td>\n",
       "      <td>NaN</td>\n",
       "      <td>0</td>\n",
       "      <td>686881.813122</td>\n",
       "      <td>725197.904769</td>\n",
       "      <td>679103.6250</td>\n",
       "      <td>691933.229565</td>\n",
       "      <td>633559.299331</td>\n",
       "      <td>637642.738141</td>\n",
       "      <td>642747.036654</td>\n",
       "      <td>...</td>\n",
       "      <td>700990.722460</td>\n",
       "      <td>702765.797494</td>\n",
       "      <td>704540.872527</td>\n",
       "      <td>706315.947561</td>\n",
       "      <td>708091.022595</td>\n",
       "      <td>715078.350620</td>\n",
       "      <td>722065.678645</td>\n",
       "      <td>729053.006670</td>\n",
       "      <td>732546.670683</td>\n",
       "      <td>735341.601892</td>\n",
       "    </tr>\n",
       "    <tr>\n",
       "      <th>69</th>\n",
       "      <td>2024-10-21</td>\n",
       "      <td>NaN</td>\n",
       "      <td>0</td>\n",
       "      <td>793725.514859</td>\n",
       "      <td>842669.989038</td>\n",
       "      <td>826241.5000</td>\n",
       "      <td>806390.139435</td>\n",
       "      <td>740403.001067</td>\n",
       "      <td>744486.439877</td>\n",
       "      <td>749590.738391</td>\n",
       "      <td>...</td>\n",
       "      <td>815447.632330</td>\n",
       "      <td>817222.707364</td>\n",
       "      <td>818997.782397</td>\n",
       "      <td>820772.857431</td>\n",
       "      <td>822547.932465</td>\n",
       "      <td>829535.260490</td>\n",
       "      <td>836522.588515</td>\n",
       "      <td>843509.916540</td>\n",
       "      <td>847003.580553</td>\n",
       "      <td>849798.511763</td>\n",
       "    </tr>\n",
       "    <tr>\n",
       "      <th>70</th>\n",
       "      <td>2024-10-22</td>\n",
       "      <td>NaN</td>\n",
       "      <td>0</td>\n",
       "      <td>834555.677314</td>\n",
       "      <td>868384.618648</td>\n",
       "      <td>866601.6875</td>\n",
       "      <td>851246.943250</td>\n",
       "      <td>781233.163522</td>\n",
       "      <td>785316.602333</td>\n",
       "      <td>790420.900846</td>\n",
       "      <td>...</td>\n",
       "      <td>860304.436145</td>\n",
       "      <td>862079.511179</td>\n",
       "      <td>863854.586212</td>\n",
       "      <td>865629.661246</td>\n",
       "      <td>867404.736280</td>\n",
       "      <td>874392.064305</td>\n",
       "      <td>881379.392330</td>\n",
       "      <td>888366.720355</td>\n",
       "      <td>891860.384368</td>\n",
       "      <td>894655.315578</td>\n",
       "    </tr>\n",
       "  </tbody>\n",
       "</table>\n",
       "<p>71 rows × 95 columns</p>\n",
       "</div>"
      ],
      "text/plain": [
       "           ds            y  unique_id  CatBoostRegressor  LGBMRegressor  \\\n",
       "0  2024-08-13  844564.0700          0      859596.398764  850939.848937   \n",
       "1  2024-08-14  856677.3810          0      875220.631804  856238.799488   \n",
       "2  2024-08-15  870365.0395          0      870283.608108  852988.146010   \n",
       "3  2024-08-16  895989.2120          0      861137.980859  839947.253419   \n",
       "4  2024-08-17  832527.0950          0      764442.585897  773187.398652   \n",
       "..        ...          ...        ...                ...            ...   \n",
       "66 2024-10-18          NaN          0      853125.584179  878743.933666   \n",
       "67 2024-10-19          NaN          0      785450.320603  812396.759735   \n",
       "68 2024-10-20          NaN          0      686881.813122  725197.904769   \n",
       "69 2024-10-21          NaN          0      793725.514859  842669.989038   \n",
       "70 2024-10-22          NaN          0      834555.677314  868384.618648   \n",
       "\n",
       "    XGBRegressor  RandomForestRegressor  CatBoostRegressor-lo-99  \\\n",
       "0    839761.3125          851227.588240            806273.884972   \n",
       "1    855502.3125          860289.549795            821898.118012   \n",
       "2    860784.6250          857293.592145            816961.094316   \n",
       "3    877438.4375          850462.025335            807815.467067   \n",
       "4    807096.3750          777417.847340            711120.072106   \n",
       "..           ...                    ...                      ...   \n",
       "66   847202.2500          846168.152935            799803.070387   \n",
       "67   762026.0625          778798.941015            732127.806811   \n",
       "68   679103.6250          691933.229565            633559.299331   \n",
       "69   826241.5000          806390.139435            740403.001067   \n",
       "70   866601.6875          851246.943250            781233.163522   \n",
       "\n",
       "    CatBoostRegressor-lo-95  CatBoostRegressor-lo-90  ...  \\\n",
       "0             810357.323783            815461.622296  ...   \n",
       "1             825981.556822            831085.855336  ...   \n",
       "2             821044.533127            826148.831640  ...   \n",
       "3             811898.905878            817003.204391  ...   \n",
       "4             715203.510916            720307.809429  ...   \n",
       "..                      ...                      ...  ...   \n",
       "66            803886.509198            808990.807711  ...   \n",
       "67            736211.245621            741315.544135  ...   \n",
       "68            637642.738141            642747.036654  ...   \n",
       "69            744486.439877            749590.738391  ...   \n",
       "70            785316.602333            790420.900846  ...   \n",
       "\n",
       "    RandomForestRegressor-hi-20  RandomForestRegressor-hi-30  \\\n",
       "0                 860285.081135                862060.156169   \n",
       "1                 869347.042690                871122.117724   \n",
       "2                 866351.085040                868126.160074   \n",
       "3                 859519.518230                861294.593264   \n",
       "4                 786475.340235                788250.415269   \n",
       "..                          ...                          ...   \n",
       "66                855225.645830                857000.720864   \n",
       "67                787856.433910                789631.508944   \n",
       "68                700990.722460                702765.797494   \n",
       "69                815447.632330                817222.707364   \n",
       "70                860304.436145                862079.511179   \n",
       "\n",
       "    RandomForestRegressor-hi-40  RandomForestRegressor-hi-50  \\\n",
       "0                 863835.231203                865610.306236   \n",
       "1                 872897.192758                874672.267791   \n",
       "2                 869901.235108                871676.310141   \n",
       "3                 863069.668298                864844.743331   \n",
       "4                 790025.490302                791800.565336   \n",
       "..                          ...                          ...   \n",
       "66                858775.795897                860550.870931   \n",
       "67                791406.583977                793181.659011   \n",
       "68                704540.872527                706315.947561   \n",
       "69                818997.782397                820772.857431   \n",
       "70                863854.586212                865629.661246   \n",
       "\n",
       "    RandomForestRegressor-hi-60  RandomForestRegressor-hi-70  \\\n",
       "0                 867385.381270                874372.709295   \n",
       "1                 876447.342825                883434.670850   \n",
       "2                 873451.385175                880438.713200   \n",
       "3                 866619.818365                873607.146390   \n",
       "4                 793575.640370                800562.968395   \n",
       "..                          ...                          ...   \n",
       "66                862325.945965                869313.273990   \n",
       "67                794956.734045                801944.062070   \n",
       "68                708091.022595                715078.350620   \n",
       "69                822547.932465                829535.260490   \n",
       "70                867404.736280                874392.064305   \n",
       "\n",
       "    RandomForestRegressor-hi-80  RandomForestRegressor-hi-90  \\\n",
       "0                 881360.037320                888347.365345   \n",
       "1                 890421.998875                897409.326900   \n",
       "2                 887426.041225                894413.369250   \n",
       "3                 880594.474415                887581.802440   \n",
       "4                 807550.296420                814537.624445   \n",
       "..                          ...                          ...   \n",
       "66                876300.602015                883287.930040   \n",
       "67                808931.390095                815918.718120   \n",
       "68                722065.678645                729053.006670   \n",
       "69                836522.588515                843509.916540   \n",
       "70                881379.392330                888366.720355   \n",
       "\n",
       "    RandomForestRegressor-hi-95  RandomForestRegressor-hi-99  \n",
       "0                 891841.029358                894635.960568  \n",
       "1                 900902.990913                903697.922123  \n",
       "2                 897907.033263                900701.964473  \n",
       "3                 891075.466453                893870.397663  \n",
       "4                 818031.288458                820826.219668  \n",
       "..                          ...                          ...  \n",
       "66                886781.594053                889576.525263  \n",
       "67                819412.382133                822207.313343  \n",
       "68                732546.670683                735341.601892  \n",
       "69                847003.580553                849798.511763  \n",
       "70                891860.384368                894655.315578  \n",
       "\n",
       "[71 rows x 95 columns]"
      ]
     },
     "execution_count": 180,
     "metadata": {},
     "output_type": "execute_result"
    }
   ],
   "source": [
    "new_forecast = score_data(df_train, model, levels=LEVELS)\n",
    "updated_predictions = pd.merge(df_oot, new_forecast, on=['unique_id', 'ds'], how='right')\n",
    "updated_predictions"
   ]
  },
  {
   "cell_type": "code",
   "execution_count": 181,
   "metadata": {},
   "outputs": [
    {
     "name": "stderr",
     "output_type": "stream",
     "text": [
      "\u001b[32m2024-08-23 15:46:18.743\u001b[0m | \u001b[1mINFO    \u001b[0m | \u001b[36mutils\u001b[0m:\u001b[36msave_predictions\u001b[0m:\u001b[36m302\u001b[0m - \u001b[1mSaving predictions to Gold layer\u001b[0m\n",
      "\u001b[32m2024-08-23 15:46:19.794\u001b[0m | \u001b[1mINFO    \u001b[0m | \u001b[36mutils\u001b[0m:\u001b[36msave_predictions\u001b[0m:\u001b[36m313\u001b[0m - \u001b[1mPredictions saved to Gold layer: abfs://data/energy_consumption/predictions/predictions_20240823.parquet\u001b[0m\n"
     ]
    }
   ],
   "source": [
    "from utils import save_predictions\n",
    "\n",
    "process_date = pendulum.now().to_date_string().replace(\"-\", \"\")\n",
    "save_predictions(updated_predictions, process_date)"
   ]
  },
  {
   "cell_type": "code",
   "execution_count": null,
   "metadata": {},
   "outputs": [],
   "source": []
  },
  {
   "cell_type": "markdown",
   "metadata": {},
   "source": [
    "Backfill testing"
   ]
  },
  {
   "cell_type": "code",
   "execution_count": 17,
   "metadata": {},
   "outputs": [
    {
     "name": "stderr",
     "output_type": "stream",
     "text": [
      "\u001b[32m2024-08-23 16:25:26.776\u001b[0m | \u001b[1mINFO    \u001b[0m | \u001b[36mutils\u001b[0m:\u001b[36mload_predictions\u001b[0m:\u001b[36m317\u001b[0m - \u001b[1mLoading predictions\u001b[0m\n"
     ]
    },
    {
     "data": {
      "text/html": [
       "<div>\n",
       "<style scoped>\n",
       "    .dataframe tbody tr th:only-of-type {\n",
       "        vertical-align: middle;\n",
       "    }\n",
       "\n",
       "    .dataframe tbody tr th {\n",
       "        vertical-align: top;\n",
       "    }\n",
       "\n",
       "    .dataframe thead th {\n",
       "        text-align: right;\n",
       "    }\n",
       "</style>\n",
       "<table border=\"1\" class=\"dataframe\">\n",
       "  <thead>\n",
       "    <tr style=\"text-align: right;\">\n",
       "      <th></th>\n",
       "      <th>ds</th>\n",
       "      <th>y</th>\n",
       "      <th>CatBoostRegressor</th>\n",
       "    </tr>\n",
       "  </thead>\n",
       "  <tbody>\n",
       "    <tr>\n",
       "      <th>39</th>\n",
       "      <td>2024-07-24</td>\n",
       "      <td>886205.6555</td>\n",
       "      <td>828998.772973</td>\n",
       "    </tr>\n",
       "    <tr>\n",
       "      <th>40</th>\n",
       "      <td>2024-07-25</td>\n",
       "      <td>889648.5340</td>\n",
       "      <td>830907.164787</td>\n",
       "    </tr>\n",
       "    <tr>\n",
       "      <th>41</th>\n",
       "      <td>2024-07-26</td>\n",
       "      <td>887822.2490</td>\n",
       "      <td>819731.204509</td>\n",
       "    </tr>\n",
       "    <tr>\n",
       "      <th>42</th>\n",
       "      <td>2024-07-27</td>\n",
       "      <td>820912.4420</td>\n",
       "      <td>753376.137410</td>\n",
       "    </tr>\n",
       "    <tr>\n",
       "      <th>43</th>\n",
       "      <td>2024-07-28</td>\n",
       "      <td>727007.1985</td>\n",
       "      <td>665741.012019</td>\n",
       "    </tr>\n",
       "    <tr>\n",
       "      <th>...</th>\n",
       "      <td>...</td>\n",
       "      <td>...</td>\n",
       "      <td>...</td>\n",
       "    </tr>\n",
       "    <tr>\n",
       "      <th>124</th>\n",
       "      <td>2024-10-17</td>\n",
       "      <td>NaN</td>\n",
       "      <td>874489.045367</td>\n",
       "    </tr>\n",
       "    <tr>\n",
       "      <th>125</th>\n",
       "      <td>2024-10-18</td>\n",
       "      <td>NaN</td>\n",
       "      <td>862455.302638</td>\n",
       "    </tr>\n",
       "    <tr>\n",
       "      <th>126</th>\n",
       "      <td>2024-10-19</td>\n",
       "      <td>NaN</td>\n",
       "      <td>797766.763016</td>\n",
       "    </tr>\n",
       "    <tr>\n",
       "      <th>127</th>\n",
       "      <td>2024-10-20</td>\n",
       "      <td>NaN</td>\n",
       "      <td>693340.219806</td>\n",
       "    </tr>\n",
       "    <tr>\n",
       "      <th>128</th>\n",
       "      <td>2024-10-21</td>\n",
       "      <td>NaN</td>\n",
       "      <td>810555.671576</td>\n",
       "    </tr>\n",
       "  </tbody>\n",
       "</table>\n",
       "<p>90 rows × 3 columns</p>\n",
       "</div>"
      ],
      "text/plain": [
       "            ds            y  CatBoostRegressor\n",
       "39  2024-07-24  886205.6555      828998.772973\n",
       "40  2024-07-25  889648.5340      830907.164787\n",
       "41  2024-07-26  887822.2490      819731.204509\n",
       "42  2024-07-27  820912.4420      753376.137410\n",
       "43  2024-07-28  727007.1985      665741.012019\n",
       "..         ...          ...                ...\n",
       "124 2024-10-17          NaN      874489.045367\n",
       "125 2024-10-18          NaN      862455.302638\n",
       "126 2024-10-19          NaN      797766.763016\n",
       "127 2024-10-20          NaN      693340.219806\n",
       "128 2024-10-21          NaN      810555.671576\n",
       "\n",
       "[90 rows x 3 columns]"
      ]
     },
     "execution_count": 17,
     "metadata": {},
     "output_type": "execute_result"
    }
   ],
   "source": [
    "preds = load_predictions()\n",
    "preds.sort_values('ds')[['ds', 'y', 'CatBoostRegressor']].tail(90)"
   ]
  },
  {
   "cell_type": "code",
   "execution_count": 18,
   "metadata": {},
   "outputs": [],
   "source": [
    "preds.loc[preds['ds'].between('2024-08-13', '2024-08-22'), 'y'] = np.nan"
   ]
  },
  {
   "cell_type": "code",
   "execution_count": 19,
   "metadata": {},
   "outputs": [
    {
     "data": {
      "application/vnd.plotly.v1+json": {
       "config": {
        "plotlyServerURL": "https://plot.ly"
       },
       "data": [
        {
         "hovertemplate": "variable=y<br>ds=%{x}<br>value=%{y}<extra></extra>",
         "legendgroup": "y",
         "line": {
          "color": "#636efa",
          "dash": "solid"
         },
         "marker": {
          "symbol": "circle"
         },
         "mode": "lines",
         "name": "y",
         "orientation": "v",
         "showlegend": true,
         "type": "scatter",
         "x": [
          "2024-06-15T00:00:00",
          "2024-06-16T00:00:00",
          "2024-06-17T00:00:00",
          "2024-06-18T00:00:00",
          "2024-06-19T00:00:00",
          "2024-06-20T00:00:00",
          "2024-06-21T00:00:00",
          "2024-06-22T00:00:00",
          "2024-06-23T00:00:00",
          "2024-06-24T00:00:00",
          "2024-06-25T00:00:00",
          "2024-06-26T00:00:00",
          "2024-06-27T00:00:00",
          "2024-06-28T00:00:00",
          "2024-06-29T00:00:00",
          "2024-06-30T00:00:00",
          "2024-07-01T00:00:00",
          "2024-07-02T00:00:00",
          "2024-07-03T00:00:00",
          "2024-07-04T00:00:00",
          "2024-07-05T00:00:00",
          "2024-07-06T00:00:00",
          "2024-07-07T00:00:00",
          "2024-07-08T00:00:00",
          "2024-07-09T00:00:00",
          "2024-07-10T00:00:00",
          "2024-07-11T00:00:00",
          "2024-07-12T00:00:00",
          "2024-07-13T00:00:00",
          "2024-07-14T00:00:00",
          "2024-07-15T00:00:00",
          "2024-07-16T00:00:00",
          "2024-07-17T00:00:00",
          "2024-07-18T00:00:00",
          "2024-07-19T00:00:00",
          "2024-07-20T00:00:00",
          "2024-07-21T00:00:00",
          "2024-07-22T00:00:00",
          "2024-07-23T00:00:00",
          "2024-07-24T00:00:00",
          "2024-07-25T00:00:00",
          "2024-07-26T00:00:00",
          "2024-07-27T00:00:00",
          "2024-07-28T00:00:00",
          "2024-07-29T00:00:00",
          "2024-07-30T00:00:00",
          "2024-07-31T00:00:00",
          "2024-08-01T00:00:00",
          "2024-08-02T00:00:00",
          "2024-08-03T00:00:00",
          "2024-08-04T00:00:00",
          "2024-08-05T00:00:00",
          "2024-08-06T00:00:00",
          "2024-08-07T00:00:00",
          "2024-08-08T00:00:00",
          "2024-08-09T00:00:00",
          "2024-08-10T00:00:00",
          "2024-08-11T00:00:00",
          "2024-08-12T00:00:00",
          "2024-08-13T00:00:00",
          "2024-08-14T00:00:00",
          "2024-08-15T00:00:00",
          "2024-08-16T00:00:00",
          "2024-08-17T00:00:00",
          "2024-08-18T00:00:00",
          "2024-08-19T00:00:00",
          "2024-08-20T00:00:00",
          "2024-08-21T00:00:00",
          "2024-08-22T00:00:00",
          "2024-08-23T00:00:00",
          "2024-08-24T00:00:00",
          "2024-08-25T00:00:00",
          "2024-08-26T00:00:00",
          "2024-08-27T00:00:00",
          "2024-08-28T00:00:00",
          "2024-08-29T00:00:00",
          "2024-08-30T00:00:00",
          "2024-08-31T00:00:00",
          "2024-09-01T00:00:00",
          "2024-09-02T00:00:00",
          "2024-09-03T00:00:00",
          "2024-09-04T00:00:00",
          "2024-09-05T00:00:00",
          "2024-09-06T00:00:00",
          "2024-09-07T00:00:00",
          "2024-09-08T00:00:00",
          "2024-09-09T00:00:00",
          "2024-09-10T00:00:00",
          "2024-09-11T00:00:00",
          "2024-09-12T00:00:00",
          "2024-09-13T00:00:00",
          "2024-09-14T00:00:00",
          "2024-09-15T00:00:00",
          "2024-09-16T00:00:00",
          "2024-09-17T00:00:00",
          "2024-09-18T00:00:00",
          "2024-09-19T00:00:00",
          "2024-09-20T00:00:00",
          "2024-09-21T00:00:00",
          "2024-09-22T00:00:00",
          "2024-09-23T00:00:00",
          "2024-09-24T00:00:00",
          "2024-09-25T00:00:00",
          "2024-09-26T00:00:00",
          "2024-09-27T00:00:00",
          "2024-09-28T00:00:00",
          "2024-09-29T00:00:00",
          "2024-09-30T00:00:00",
          "2024-10-01T00:00:00",
          "2024-10-02T00:00:00",
          "2024-10-03T00:00:00",
          "2024-10-04T00:00:00",
          "2024-10-05T00:00:00",
          "2024-10-06T00:00:00",
          "2024-10-07T00:00:00",
          "2024-10-08T00:00:00",
          "2024-10-09T00:00:00",
          "2024-10-10T00:00:00",
          "2024-10-11T00:00:00",
          "2024-10-12T00:00:00",
          "2024-10-13T00:00:00",
          "2024-10-14T00:00:00",
          "2024-10-15T00:00:00",
          "2024-10-16T00:00:00",
          "2024-10-17T00:00:00",
          "2024-10-18T00:00:00",
          "2024-10-19T00:00:00",
          "2024-10-20T00:00:00",
          "2024-10-21T00:00:00"
         ],
         "xaxis": "x",
         "y": [
          0,
          0,
          0,
          0,
          0,
          0,
          0,
          0,
          0,
          0,
          0,
          0,
          0,
          0,
          0,
          0,
          0,
          0,
          0,
          0,
          0,
          0,
          0,
          0,
          0,
          0,
          0,
          0,
          0,
          0,
          0,
          0,
          0,
          0,
          0,
          0,
          0,
          0,
          0,
          0,
          0,
          0,
          0,
          0,
          0,
          0,
          0,
          0,
          0,
          0,
          0,
          0,
          0,
          0,
          0,
          0,
          0,
          0,
          0,
          1,
          1,
          1,
          1,
          1,
          1,
          1,
          1,
          1,
          1,
          1,
          1,
          1,
          1,
          1,
          1,
          1,
          1,
          1,
          1,
          1,
          1,
          1,
          1,
          1,
          1,
          1,
          1,
          1,
          1,
          1,
          1,
          1,
          1,
          1,
          1,
          1,
          1,
          1,
          1,
          1,
          1,
          1,
          1,
          1,
          1,
          1,
          1,
          1,
          1,
          1,
          1,
          1,
          1,
          1,
          1,
          1,
          1,
          1,
          1,
          1,
          1,
          1,
          1,
          1,
          1,
          1,
          1,
          1,
          1
         ],
         "yaxis": "y"
        }
       ],
       "layout": {
        "legend": {
         "title": {
          "text": "variable"
         },
         "tracegroupgap": 0
        },
        "margin": {
         "t": 60
        },
        "template": {
         "data": {
          "bar": [
           {
            "error_x": {
             "color": "#2a3f5f"
            },
            "error_y": {
             "color": "#2a3f5f"
            },
            "marker": {
             "line": {
              "color": "#E5ECF6",
              "width": 0.5
             },
             "pattern": {
              "fillmode": "overlay",
              "size": 10,
              "solidity": 0.2
             }
            },
            "type": "bar"
           }
          ],
          "barpolar": [
           {
            "marker": {
             "line": {
              "color": "#E5ECF6",
              "width": 0.5
             },
             "pattern": {
              "fillmode": "overlay",
              "size": 10,
              "solidity": 0.2
             }
            },
            "type": "barpolar"
           }
          ],
          "carpet": [
           {
            "aaxis": {
             "endlinecolor": "#2a3f5f",
             "gridcolor": "white",
             "linecolor": "white",
             "minorgridcolor": "white",
             "startlinecolor": "#2a3f5f"
            },
            "baxis": {
             "endlinecolor": "#2a3f5f",
             "gridcolor": "white",
             "linecolor": "white",
             "minorgridcolor": "white",
             "startlinecolor": "#2a3f5f"
            },
            "type": "carpet"
           }
          ],
          "choropleth": [
           {
            "colorbar": {
             "outlinewidth": 0,
             "ticks": ""
            },
            "type": "choropleth"
           }
          ],
          "contour": [
           {
            "colorbar": {
             "outlinewidth": 0,
             "ticks": ""
            },
            "colorscale": [
             [
              0,
              "#0d0887"
             ],
             [
              0.1111111111111111,
              "#46039f"
             ],
             [
              0.2222222222222222,
              "#7201a8"
             ],
             [
              0.3333333333333333,
              "#9c179e"
             ],
             [
              0.4444444444444444,
              "#bd3786"
             ],
             [
              0.5555555555555556,
              "#d8576b"
             ],
             [
              0.6666666666666666,
              "#ed7953"
             ],
             [
              0.7777777777777778,
              "#fb9f3a"
             ],
             [
              0.8888888888888888,
              "#fdca26"
             ],
             [
              1,
              "#f0f921"
             ]
            ],
            "type": "contour"
           }
          ],
          "contourcarpet": [
           {
            "colorbar": {
             "outlinewidth": 0,
             "ticks": ""
            },
            "type": "contourcarpet"
           }
          ],
          "heatmap": [
           {
            "colorbar": {
             "outlinewidth": 0,
             "ticks": ""
            },
            "colorscale": [
             [
              0,
              "#0d0887"
             ],
             [
              0.1111111111111111,
              "#46039f"
             ],
             [
              0.2222222222222222,
              "#7201a8"
             ],
             [
              0.3333333333333333,
              "#9c179e"
             ],
             [
              0.4444444444444444,
              "#bd3786"
             ],
             [
              0.5555555555555556,
              "#d8576b"
             ],
             [
              0.6666666666666666,
              "#ed7953"
             ],
             [
              0.7777777777777778,
              "#fb9f3a"
             ],
             [
              0.8888888888888888,
              "#fdca26"
             ],
             [
              1,
              "#f0f921"
             ]
            ],
            "type": "heatmap"
           }
          ],
          "heatmapgl": [
           {
            "colorbar": {
             "outlinewidth": 0,
             "ticks": ""
            },
            "colorscale": [
             [
              0,
              "#0d0887"
             ],
             [
              0.1111111111111111,
              "#46039f"
             ],
             [
              0.2222222222222222,
              "#7201a8"
             ],
             [
              0.3333333333333333,
              "#9c179e"
             ],
             [
              0.4444444444444444,
              "#bd3786"
             ],
             [
              0.5555555555555556,
              "#d8576b"
             ],
             [
              0.6666666666666666,
              "#ed7953"
             ],
             [
              0.7777777777777778,
              "#fb9f3a"
             ],
             [
              0.8888888888888888,
              "#fdca26"
             ],
             [
              1,
              "#f0f921"
             ]
            ],
            "type": "heatmapgl"
           }
          ],
          "histogram": [
           {
            "marker": {
             "pattern": {
              "fillmode": "overlay",
              "size": 10,
              "solidity": 0.2
             }
            },
            "type": "histogram"
           }
          ],
          "histogram2d": [
           {
            "colorbar": {
             "outlinewidth": 0,
             "ticks": ""
            },
            "colorscale": [
             [
              0,
              "#0d0887"
             ],
             [
              0.1111111111111111,
              "#46039f"
             ],
             [
              0.2222222222222222,
              "#7201a8"
             ],
             [
              0.3333333333333333,
              "#9c179e"
             ],
             [
              0.4444444444444444,
              "#bd3786"
             ],
             [
              0.5555555555555556,
              "#d8576b"
             ],
             [
              0.6666666666666666,
              "#ed7953"
             ],
             [
              0.7777777777777778,
              "#fb9f3a"
             ],
             [
              0.8888888888888888,
              "#fdca26"
             ],
             [
              1,
              "#f0f921"
             ]
            ],
            "type": "histogram2d"
           }
          ],
          "histogram2dcontour": [
           {
            "colorbar": {
             "outlinewidth": 0,
             "ticks": ""
            },
            "colorscale": [
             [
              0,
              "#0d0887"
             ],
             [
              0.1111111111111111,
              "#46039f"
             ],
             [
              0.2222222222222222,
              "#7201a8"
             ],
             [
              0.3333333333333333,
              "#9c179e"
             ],
             [
              0.4444444444444444,
              "#bd3786"
             ],
             [
              0.5555555555555556,
              "#d8576b"
             ],
             [
              0.6666666666666666,
              "#ed7953"
             ],
             [
              0.7777777777777778,
              "#fb9f3a"
             ],
             [
              0.8888888888888888,
              "#fdca26"
             ],
             [
              1,
              "#f0f921"
             ]
            ],
            "type": "histogram2dcontour"
           }
          ],
          "mesh3d": [
           {
            "colorbar": {
             "outlinewidth": 0,
             "ticks": ""
            },
            "type": "mesh3d"
           }
          ],
          "parcoords": [
           {
            "line": {
             "colorbar": {
              "outlinewidth": 0,
              "ticks": ""
             }
            },
            "type": "parcoords"
           }
          ],
          "pie": [
           {
            "automargin": true,
            "type": "pie"
           }
          ],
          "scatter": [
           {
            "fillpattern": {
             "fillmode": "overlay",
             "size": 10,
             "solidity": 0.2
            },
            "type": "scatter"
           }
          ],
          "scatter3d": [
           {
            "line": {
             "colorbar": {
              "outlinewidth": 0,
              "ticks": ""
             }
            },
            "marker": {
             "colorbar": {
              "outlinewidth": 0,
              "ticks": ""
             }
            },
            "type": "scatter3d"
           }
          ],
          "scattercarpet": [
           {
            "marker": {
             "colorbar": {
              "outlinewidth": 0,
              "ticks": ""
             }
            },
            "type": "scattercarpet"
           }
          ],
          "scattergeo": [
           {
            "marker": {
             "colorbar": {
              "outlinewidth": 0,
              "ticks": ""
             }
            },
            "type": "scattergeo"
           }
          ],
          "scattergl": [
           {
            "marker": {
             "colorbar": {
              "outlinewidth": 0,
              "ticks": ""
             }
            },
            "type": "scattergl"
           }
          ],
          "scattermapbox": [
           {
            "marker": {
             "colorbar": {
              "outlinewidth": 0,
              "ticks": ""
             }
            },
            "type": "scattermapbox"
           }
          ],
          "scatterpolar": [
           {
            "marker": {
             "colorbar": {
              "outlinewidth": 0,
              "ticks": ""
             }
            },
            "type": "scatterpolar"
           }
          ],
          "scatterpolargl": [
           {
            "marker": {
             "colorbar": {
              "outlinewidth": 0,
              "ticks": ""
             }
            },
            "type": "scatterpolargl"
           }
          ],
          "scatterternary": [
           {
            "marker": {
             "colorbar": {
              "outlinewidth": 0,
              "ticks": ""
             }
            },
            "type": "scatterternary"
           }
          ],
          "surface": [
           {
            "colorbar": {
             "outlinewidth": 0,
             "ticks": ""
            },
            "colorscale": [
             [
              0,
              "#0d0887"
             ],
             [
              0.1111111111111111,
              "#46039f"
             ],
             [
              0.2222222222222222,
              "#7201a8"
             ],
             [
              0.3333333333333333,
              "#9c179e"
             ],
             [
              0.4444444444444444,
              "#bd3786"
             ],
             [
              0.5555555555555556,
              "#d8576b"
             ],
             [
              0.6666666666666666,
              "#ed7953"
             ],
             [
              0.7777777777777778,
              "#fb9f3a"
             ],
             [
              0.8888888888888888,
              "#fdca26"
             ],
             [
              1,
              "#f0f921"
             ]
            ],
            "type": "surface"
           }
          ],
          "table": [
           {
            "cells": {
             "fill": {
              "color": "#EBF0F8"
             },
             "line": {
              "color": "white"
             }
            },
            "header": {
             "fill": {
              "color": "#C8D4E3"
             },
             "line": {
              "color": "white"
             }
            },
            "type": "table"
           }
          ]
         },
         "layout": {
          "annotationdefaults": {
           "arrowcolor": "#2a3f5f",
           "arrowhead": 0,
           "arrowwidth": 1
          },
          "autotypenumbers": "strict",
          "coloraxis": {
           "colorbar": {
            "outlinewidth": 0,
            "ticks": ""
           }
          },
          "colorscale": {
           "diverging": [
            [
             0,
             "#8e0152"
            ],
            [
             0.1,
             "#c51b7d"
            ],
            [
             0.2,
             "#de77ae"
            ],
            [
             0.3,
             "#f1b6da"
            ],
            [
             0.4,
             "#fde0ef"
            ],
            [
             0.5,
             "#f7f7f7"
            ],
            [
             0.6,
             "#e6f5d0"
            ],
            [
             0.7,
             "#b8e186"
            ],
            [
             0.8,
             "#7fbc41"
            ],
            [
             0.9,
             "#4d9221"
            ],
            [
             1,
             "#276419"
            ]
           ],
           "sequential": [
            [
             0,
             "#0d0887"
            ],
            [
             0.1111111111111111,
             "#46039f"
            ],
            [
             0.2222222222222222,
             "#7201a8"
            ],
            [
             0.3333333333333333,
             "#9c179e"
            ],
            [
             0.4444444444444444,
             "#bd3786"
            ],
            [
             0.5555555555555556,
             "#d8576b"
            ],
            [
             0.6666666666666666,
             "#ed7953"
            ],
            [
             0.7777777777777778,
             "#fb9f3a"
            ],
            [
             0.8888888888888888,
             "#fdca26"
            ],
            [
             1,
             "#f0f921"
            ]
           ],
           "sequentialminus": [
            [
             0,
             "#0d0887"
            ],
            [
             0.1111111111111111,
             "#46039f"
            ],
            [
             0.2222222222222222,
             "#7201a8"
            ],
            [
             0.3333333333333333,
             "#9c179e"
            ],
            [
             0.4444444444444444,
             "#bd3786"
            ],
            [
             0.5555555555555556,
             "#d8576b"
            ],
            [
             0.6666666666666666,
             "#ed7953"
            ],
            [
             0.7777777777777778,
             "#fb9f3a"
            ],
            [
             0.8888888888888888,
             "#fdca26"
            ],
            [
             1,
             "#f0f921"
            ]
           ]
          },
          "colorway": [
           "#636efa",
           "#EF553B",
           "#00cc96",
           "#ab63fa",
           "#FFA15A",
           "#19d3f3",
           "#FF6692",
           "#B6E880",
           "#FF97FF",
           "#FECB52"
          ],
          "font": {
           "color": "#2a3f5f"
          },
          "geo": {
           "bgcolor": "white",
           "lakecolor": "white",
           "landcolor": "#E5ECF6",
           "showlakes": true,
           "showland": true,
           "subunitcolor": "white"
          },
          "hoverlabel": {
           "align": "left"
          },
          "hovermode": "closest",
          "mapbox": {
           "style": "light"
          },
          "paper_bgcolor": "white",
          "plot_bgcolor": "#E5ECF6",
          "polar": {
           "angularaxis": {
            "gridcolor": "white",
            "linecolor": "white",
            "ticks": ""
           },
           "bgcolor": "#E5ECF6",
           "radialaxis": {
            "gridcolor": "white",
            "linecolor": "white",
            "ticks": ""
           }
          },
          "scene": {
           "xaxis": {
            "backgroundcolor": "#E5ECF6",
            "gridcolor": "white",
            "gridwidth": 2,
            "linecolor": "white",
            "showbackground": true,
            "ticks": "",
            "zerolinecolor": "white"
           },
           "yaxis": {
            "backgroundcolor": "#E5ECF6",
            "gridcolor": "white",
            "gridwidth": 2,
            "linecolor": "white",
            "showbackground": true,
            "ticks": "",
            "zerolinecolor": "white"
           },
           "zaxis": {
            "backgroundcolor": "#E5ECF6",
            "gridcolor": "white",
            "gridwidth": 2,
            "linecolor": "white",
            "showbackground": true,
            "ticks": "",
            "zerolinecolor": "white"
           }
          },
          "shapedefaults": {
           "line": {
            "color": "#2a3f5f"
           }
          },
          "ternary": {
           "aaxis": {
            "gridcolor": "white",
            "linecolor": "white",
            "ticks": ""
           },
           "baxis": {
            "gridcolor": "white",
            "linecolor": "white",
            "ticks": ""
           },
           "bgcolor": "#E5ECF6",
           "caxis": {
            "gridcolor": "white",
            "linecolor": "white",
            "ticks": ""
           }
          },
          "title": {
           "x": 0.05
          },
          "xaxis": {
           "automargin": true,
           "gridcolor": "white",
           "linecolor": "white",
           "ticks": "",
           "title": {
            "standoff": 15
           },
           "zerolinecolor": "white",
           "zerolinewidth": 2
          },
          "yaxis": {
           "automargin": true,
           "gridcolor": "white",
           "linecolor": "white",
           "ticks": "",
           "title": {
            "standoff": 15
           },
           "zerolinecolor": "white",
           "zerolinewidth": 2
          }
         }
        },
        "xaxis": {
         "anchor": "y",
         "domain": [
          0,
          1
         ],
         "title": {
          "text": "ds"
         }
        },
        "yaxis": {
         "anchor": "x",
         "domain": [
          0,
          1
         ],
         "title": {
          "text": "value"
         }
        }
       }
      }
     },
     "metadata": {},
     "output_type": "display_data"
    }
   ],
   "source": [
    "preds.groupby('ds')['y'].apply(lambda x: pd.isna(x).sum()).plot()"
   ]
  },
  {
   "cell_type": "code",
   "execution_count": 21,
   "metadata": {},
   "outputs": [
    {
     "name": "stderr",
     "output_type": "stream",
     "text": [
      "\u001b[32m2024-08-23 16:25:56.490\u001b[0m | \u001b[1mINFO    \u001b[0m | \u001b[36mutils\u001b[0m:\u001b[36mget_gold_data\u001b[0m:\u001b[36m181\u001b[0m - \u001b[1mFetching data from Gold layer for date\u001b[0m\n"
     ]
    },
    {
     "data": {
      "text/html": [
       "<div>\n",
       "<style scoped>\n",
       "    .dataframe tbody tr th:only-of-type {\n",
       "        vertical-align: middle;\n",
       "    }\n",
       "\n",
       "    .dataframe tbody tr th {\n",
       "        vertical-align: top;\n",
       "    }\n",
       "\n",
       "    .dataframe thead th {\n",
       "        text-align: right;\n",
       "    }\n",
       "</style>\n",
       "<table border=\"1\" class=\"dataframe\">\n",
       "  <thead>\n",
       "    <tr style=\"text-align: right;\">\n",
       "      <th></th>\n",
       "      <th>ds</th>\n",
       "      <th>y</th>\n",
       "      <th>unique_id</th>\n",
       "    </tr>\n",
       "  </thead>\n",
       "  <tbody>\n",
       "    <tr>\n",
       "      <th>0</th>\n",
       "      <td>2021-01-01</td>\n",
       "      <td>517292.1985</td>\n",
       "      <td>0</td>\n",
       "    </tr>\n",
       "    <tr>\n",
       "      <th>1</th>\n",
       "      <td>2021-01-02</td>\n",
       "      <td>663260.0435</td>\n",
       "      <td>0</td>\n",
       "    </tr>\n",
       "    <tr>\n",
       "      <th>2</th>\n",
       "      <td>2021-01-03</td>\n",
       "      <td>656525.3775</td>\n",
       "      <td>0</td>\n",
       "    </tr>\n",
       "    <tr>\n",
       "      <th>3</th>\n",
       "      <td>2021-01-04</td>\n",
       "      <td>796937.2295</td>\n",
       "      <td>0</td>\n",
       "    </tr>\n",
       "    <tr>\n",
       "      <th>4</th>\n",
       "      <td>2021-01-05</td>\n",
       "      <td>875973.0590</td>\n",
       "      <td>0</td>\n",
       "    </tr>\n",
       "    <tr>\n",
       "      <th>...</th>\n",
       "      <td>...</td>\n",
       "      <td>...</td>\n",
       "      <td>...</td>\n",
       "    </tr>\n",
       "    <tr>\n",
       "      <th>1325</th>\n",
       "      <td>2024-08-18</td>\n",
       "      <td>744501.7770</td>\n",
       "      <td>0</td>\n",
       "    </tr>\n",
       "    <tr>\n",
       "      <th>1326</th>\n",
       "      <td>2024-08-19</td>\n",
       "      <td>880713.2220</td>\n",
       "      <td>0</td>\n",
       "    </tr>\n",
       "    <tr>\n",
       "      <th>1327</th>\n",
       "      <td>2024-08-20</td>\n",
       "      <td>927637.6410</td>\n",
       "      <td>0</td>\n",
       "    </tr>\n",
       "    <tr>\n",
       "      <th>1328</th>\n",
       "      <td>2024-08-21</td>\n",
       "      <td>931550.5060</td>\n",
       "      <td>0</td>\n",
       "    </tr>\n",
       "    <tr>\n",
       "      <th>1329</th>\n",
       "      <td>2024-08-22</td>\n",
       "      <td>929876.4890</td>\n",
       "      <td>0</td>\n",
       "    </tr>\n",
       "  </tbody>\n",
       "</table>\n",
       "<p>1330 rows × 3 columns</p>\n",
       "</div>"
      ],
      "text/plain": [
       "             ds            y  unique_id\n",
       "0    2021-01-01  517292.1985          0\n",
       "1    2021-01-02  663260.0435          0\n",
       "2    2021-01-03  656525.3775          0\n",
       "3    2021-01-04  796937.2295          0\n",
       "4    2021-01-05  875973.0590          0\n",
       "...         ...          ...        ...\n",
       "1325 2024-08-18  744501.7770          0\n",
       "1326 2024-08-19  880713.2220          0\n",
       "1327 2024-08-20  927637.6410          0\n",
       "1328 2024-08-21  931550.5060          0\n",
       "1329 2024-08-22  929876.4890          0\n",
       "\n",
       "[1330 rows x 3 columns]"
      ]
     },
     "execution_count": 21,
     "metadata": {},
     "output_type": "execute_result"
    }
   ],
   "source": [
    "df_hist = get_gold_data()\n",
    "df_hist"
   ]
  },
  {
   "cell_type": "code",
   "execution_count": 23,
   "metadata": {},
   "outputs": [],
   "source": [
    "def update_predictions(df_hist, preds):\n",
    "    # Ensure 'ds' column is of datetime type in both dataframes\n",
    "    df_hist['ds'] = pd.to_datetime(df_hist['ds'])\n",
    "    preds['ds'] = pd.to_datetime(preds['ds'])\n",
    "\n",
    "    # Merge the dataframes on 'ds'\n",
    "    merged = pd.merge(preds, df_hist[['ds', 'y']], on='ds', how='left', suffixes=('_pred', '_hist'))\n",
    "\n",
    "    # Update 'y' column in merged dataframe\n",
    "    merged['y'] = merged['y_hist'].fillna(merged['y_pred'])\n",
    "\n",
    "    # Drop unnecessary columns\n",
    "    updated_preds = merged.drop(['y_pred', 'y_hist'], axis=1)\n",
    "\n",
    "    # Ensure the columns are in the same order as the original preds dataframe\n",
    "    updated_preds = updated_preds[preds.columns]\n",
    "\n",
    "    return updated_preds\n",
    "\n",
    "updated_preds = update_predictions(df_hist, preds)"
   ]
  },
  {
   "cell_type": "code",
   "execution_count": 61,
   "metadata": {},
   "outputs": [
    {
     "data": {
      "application/vnd.plotly.v1+json": {
       "config": {
        "plotlyServerURL": "https://plot.ly"
       },
       "data": [
        {
         "hovertemplate": "variable=y<br>ds=%{x}<br>value=%{y}<extra></extra>",
         "legendgroup": "y",
         "line": {
          "color": "#636efa",
          "dash": "solid"
         },
         "marker": {
          "symbol": "circle"
         },
         "mode": "lines",
         "name": "y",
         "orientation": "v",
         "showlegend": true,
         "type": "scatter",
         "x": [
          "2024-06-15T00:00:00",
          "2024-06-16T00:00:00",
          "2024-06-17T00:00:00",
          "2024-06-18T00:00:00",
          "2024-06-19T00:00:00",
          "2024-06-20T00:00:00",
          "2024-06-21T00:00:00",
          "2024-06-22T00:00:00",
          "2024-06-23T00:00:00",
          "2024-06-24T00:00:00",
          "2024-06-25T00:00:00",
          "2024-06-26T00:00:00",
          "2024-06-27T00:00:00",
          "2024-06-28T00:00:00",
          "2024-06-29T00:00:00",
          "2024-06-30T00:00:00",
          "2024-07-01T00:00:00",
          "2024-07-02T00:00:00",
          "2024-07-03T00:00:00",
          "2024-07-04T00:00:00",
          "2024-07-05T00:00:00",
          "2024-07-06T00:00:00",
          "2024-07-07T00:00:00",
          "2024-07-08T00:00:00",
          "2024-07-09T00:00:00",
          "2024-07-10T00:00:00",
          "2024-07-11T00:00:00",
          "2024-07-12T00:00:00",
          "2024-07-13T00:00:00",
          "2024-07-14T00:00:00",
          "2024-07-15T00:00:00",
          "2024-07-16T00:00:00",
          "2024-07-17T00:00:00",
          "2024-07-18T00:00:00",
          "2024-07-19T00:00:00",
          "2024-07-20T00:00:00",
          "2024-07-21T00:00:00",
          "2024-07-22T00:00:00",
          "2024-07-23T00:00:00",
          "2024-07-24T00:00:00",
          "2024-07-25T00:00:00",
          "2024-07-26T00:00:00",
          "2024-07-27T00:00:00",
          "2024-07-28T00:00:00",
          "2024-07-29T00:00:00",
          "2024-07-30T00:00:00",
          "2024-07-31T00:00:00",
          "2024-08-01T00:00:00",
          "2024-08-02T00:00:00",
          "2024-08-03T00:00:00",
          "2024-08-04T00:00:00",
          "2024-08-05T00:00:00",
          "2024-08-06T00:00:00",
          "2024-08-07T00:00:00",
          "2024-08-08T00:00:00",
          "2024-08-09T00:00:00",
          "2024-08-10T00:00:00",
          "2024-08-11T00:00:00",
          "2024-08-12T00:00:00",
          "2024-08-13T00:00:00",
          "2024-08-14T00:00:00",
          "2024-08-15T00:00:00",
          "2024-08-16T00:00:00",
          "2024-08-17T00:00:00",
          "2024-08-18T00:00:00",
          "2024-08-19T00:00:00",
          "2024-08-20T00:00:00",
          "2024-08-21T00:00:00",
          "2024-08-22T00:00:00",
          "2024-08-23T00:00:00",
          "2024-08-24T00:00:00",
          "2024-08-25T00:00:00",
          "2024-08-26T00:00:00",
          "2024-08-27T00:00:00",
          "2024-08-28T00:00:00",
          "2024-08-29T00:00:00",
          "2024-08-30T00:00:00",
          "2024-08-31T00:00:00",
          "2024-09-01T00:00:00",
          "2024-09-02T00:00:00",
          "2024-09-03T00:00:00",
          "2024-09-04T00:00:00",
          "2024-09-05T00:00:00",
          "2024-09-06T00:00:00",
          "2024-09-07T00:00:00",
          "2024-09-08T00:00:00",
          "2024-09-09T00:00:00",
          "2024-09-10T00:00:00",
          "2024-09-11T00:00:00",
          "2024-09-12T00:00:00",
          "2024-09-13T00:00:00",
          "2024-09-14T00:00:00",
          "2024-09-15T00:00:00",
          "2024-09-16T00:00:00",
          "2024-09-17T00:00:00",
          "2024-09-18T00:00:00",
          "2024-09-19T00:00:00",
          "2024-09-20T00:00:00",
          "2024-09-21T00:00:00",
          "2024-09-22T00:00:00",
          "2024-09-23T00:00:00",
          "2024-09-24T00:00:00",
          "2024-09-25T00:00:00",
          "2024-09-26T00:00:00",
          "2024-09-27T00:00:00",
          "2024-09-28T00:00:00",
          "2024-09-29T00:00:00",
          "2024-09-30T00:00:00",
          "2024-10-01T00:00:00",
          "2024-10-02T00:00:00",
          "2024-10-03T00:00:00",
          "2024-10-04T00:00:00",
          "2024-10-05T00:00:00",
          "2024-10-06T00:00:00",
          "2024-10-07T00:00:00",
          "2024-10-08T00:00:00",
          "2024-10-09T00:00:00",
          "2024-10-10T00:00:00",
          "2024-10-11T00:00:00",
          "2024-10-12T00:00:00",
          "2024-10-13T00:00:00",
          "2024-10-14T00:00:00",
          "2024-10-15T00:00:00",
          "2024-10-16T00:00:00",
          "2024-10-17T00:00:00",
          "2024-10-18T00:00:00",
          "2024-10-19T00:00:00",
          "2024-10-20T00:00:00",
          "2024-10-21T00:00:00"
         ],
         "xaxis": "x",
         "y": [
          0,
          0,
          0,
          0,
          0,
          0,
          0,
          0,
          0,
          0,
          0,
          0,
          0,
          0,
          0,
          0,
          0,
          0,
          0,
          0,
          0,
          0,
          0,
          0,
          0,
          0,
          0,
          0,
          0,
          0,
          0,
          0,
          0,
          0,
          0,
          0,
          0,
          0,
          0,
          0,
          0,
          0,
          0,
          0,
          0,
          0,
          0,
          0,
          0,
          0,
          0,
          0,
          0,
          0,
          0,
          0,
          0,
          0,
          0,
          0,
          0,
          0,
          0,
          0,
          0,
          0,
          0,
          0,
          0,
          1,
          1,
          1,
          1,
          1,
          1,
          1,
          1,
          1,
          1,
          1,
          1,
          1,
          1,
          1,
          1,
          1,
          1,
          1,
          1,
          1,
          1,
          1,
          1,
          1,
          1,
          1,
          1,
          1,
          1,
          1,
          1,
          1,
          1,
          1,
          1,
          1,
          1,
          1,
          1,
          1,
          1,
          1,
          1,
          1,
          1,
          1,
          1,
          1,
          1,
          1,
          1,
          1,
          1,
          1,
          1,
          1,
          1,
          1,
          1
         ],
         "yaxis": "y"
        }
       ],
       "layout": {
        "legend": {
         "title": {
          "text": "variable"
         },
         "tracegroupgap": 0
        },
        "margin": {
         "t": 60
        },
        "template": {
         "data": {
          "bar": [
           {
            "error_x": {
             "color": "#2a3f5f"
            },
            "error_y": {
             "color": "#2a3f5f"
            },
            "marker": {
             "line": {
              "color": "#E5ECF6",
              "width": 0.5
             },
             "pattern": {
              "fillmode": "overlay",
              "size": 10,
              "solidity": 0.2
             }
            },
            "type": "bar"
           }
          ],
          "barpolar": [
           {
            "marker": {
             "line": {
              "color": "#E5ECF6",
              "width": 0.5
             },
             "pattern": {
              "fillmode": "overlay",
              "size": 10,
              "solidity": 0.2
             }
            },
            "type": "barpolar"
           }
          ],
          "carpet": [
           {
            "aaxis": {
             "endlinecolor": "#2a3f5f",
             "gridcolor": "white",
             "linecolor": "white",
             "minorgridcolor": "white",
             "startlinecolor": "#2a3f5f"
            },
            "baxis": {
             "endlinecolor": "#2a3f5f",
             "gridcolor": "white",
             "linecolor": "white",
             "minorgridcolor": "white",
             "startlinecolor": "#2a3f5f"
            },
            "type": "carpet"
           }
          ],
          "choropleth": [
           {
            "colorbar": {
             "outlinewidth": 0,
             "ticks": ""
            },
            "type": "choropleth"
           }
          ],
          "contour": [
           {
            "colorbar": {
             "outlinewidth": 0,
             "ticks": ""
            },
            "colorscale": [
             [
              0,
              "#0d0887"
             ],
             [
              0.1111111111111111,
              "#46039f"
             ],
             [
              0.2222222222222222,
              "#7201a8"
             ],
             [
              0.3333333333333333,
              "#9c179e"
             ],
             [
              0.4444444444444444,
              "#bd3786"
             ],
             [
              0.5555555555555556,
              "#d8576b"
             ],
             [
              0.6666666666666666,
              "#ed7953"
             ],
             [
              0.7777777777777778,
              "#fb9f3a"
             ],
             [
              0.8888888888888888,
              "#fdca26"
             ],
             [
              1,
              "#f0f921"
             ]
            ],
            "type": "contour"
           }
          ],
          "contourcarpet": [
           {
            "colorbar": {
             "outlinewidth": 0,
             "ticks": ""
            },
            "type": "contourcarpet"
           }
          ],
          "heatmap": [
           {
            "colorbar": {
             "outlinewidth": 0,
             "ticks": ""
            },
            "colorscale": [
             [
              0,
              "#0d0887"
             ],
             [
              0.1111111111111111,
              "#46039f"
             ],
             [
              0.2222222222222222,
              "#7201a8"
             ],
             [
              0.3333333333333333,
              "#9c179e"
             ],
             [
              0.4444444444444444,
              "#bd3786"
             ],
             [
              0.5555555555555556,
              "#d8576b"
             ],
             [
              0.6666666666666666,
              "#ed7953"
             ],
             [
              0.7777777777777778,
              "#fb9f3a"
             ],
             [
              0.8888888888888888,
              "#fdca26"
             ],
             [
              1,
              "#f0f921"
             ]
            ],
            "type": "heatmap"
           }
          ],
          "heatmapgl": [
           {
            "colorbar": {
             "outlinewidth": 0,
             "ticks": ""
            },
            "colorscale": [
             [
              0,
              "#0d0887"
             ],
             [
              0.1111111111111111,
              "#46039f"
             ],
             [
              0.2222222222222222,
              "#7201a8"
             ],
             [
              0.3333333333333333,
              "#9c179e"
             ],
             [
              0.4444444444444444,
              "#bd3786"
             ],
             [
              0.5555555555555556,
              "#d8576b"
             ],
             [
              0.6666666666666666,
              "#ed7953"
             ],
             [
              0.7777777777777778,
              "#fb9f3a"
             ],
             [
              0.8888888888888888,
              "#fdca26"
             ],
             [
              1,
              "#f0f921"
             ]
            ],
            "type": "heatmapgl"
           }
          ],
          "histogram": [
           {
            "marker": {
             "pattern": {
              "fillmode": "overlay",
              "size": 10,
              "solidity": 0.2
             }
            },
            "type": "histogram"
           }
          ],
          "histogram2d": [
           {
            "colorbar": {
             "outlinewidth": 0,
             "ticks": ""
            },
            "colorscale": [
             [
              0,
              "#0d0887"
             ],
             [
              0.1111111111111111,
              "#46039f"
             ],
             [
              0.2222222222222222,
              "#7201a8"
             ],
             [
              0.3333333333333333,
              "#9c179e"
             ],
             [
              0.4444444444444444,
              "#bd3786"
             ],
             [
              0.5555555555555556,
              "#d8576b"
             ],
             [
              0.6666666666666666,
              "#ed7953"
             ],
             [
              0.7777777777777778,
              "#fb9f3a"
             ],
             [
              0.8888888888888888,
              "#fdca26"
             ],
             [
              1,
              "#f0f921"
             ]
            ],
            "type": "histogram2d"
           }
          ],
          "histogram2dcontour": [
           {
            "colorbar": {
             "outlinewidth": 0,
             "ticks": ""
            },
            "colorscale": [
             [
              0,
              "#0d0887"
             ],
             [
              0.1111111111111111,
              "#46039f"
             ],
             [
              0.2222222222222222,
              "#7201a8"
             ],
             [
              0.3333333333333333,
              "#9c179e"
             ],
             [
              0.4444444444444444,
              "#bd3786"
             ],
             [
              0.5555555555555556,
              "#d8576b"
             ],
             [
              0.6666666666666666,
              "#ed7953"
             ],
             [
              0.7777777777777778,
              "#fb9f3a"
             ],
             [
              0.8888888888888888,
              "#fdca26"
             ],
             [
              1,
              "#f0f921"
             ]
            ],
            "type": "histogram2dcontour"
           }
          ],
          "mesh3d": [
           {
            "colorbar": {
             "outlinewidth": 0,
             "ticks": ""
            },
            "type": "mesh3d"
           }
          ],
          "parcoords": [
           {
            "line": {
             "colorbar": {
              "outlinewidth": 0,
              "ticks": ""
             }
            },
            "type": "parcoords"
           }
          ],
          "pie": [
           {
            "automargin": true,
            "type": "pie"
           }
          ],
          "scatter": [
           {
            "fillpattern": {
             "fillmode": "overlay",
             "size": 10,
             "solidity": 0.2
            },
            "type": "scatter"
           }
          ],
          "scatter3d": [
           {
            "line": {
             "colorbar": {
              "outlinewidth": 0,
              "ticks": ""
             }
            },
            "marker": {
             "colorbar": {
              "outlinewidth": 0,
              "ticks": ""
             }
            },
            "type": "scatter3d"
           }
          ],
          "scattercarpet": [
           {
            "marker": {
             "colorbar": {
              "outlinewidth": 0,
              "ticks": ""
             }
            },
            "type": "scattercarpet"
           }
          ],
          "scattergeo": [
           {
            "marker": {
             "colorbar": {
              "outlinewidth": 0,
              "ticks": ""
             }
            },
            "type": "scattergeo"
           }
          ],
          "scattergl": [
           {
            "marker": {
             "colorbar": {
              "outlinewidth": 0,
              "ticks": ""
             }
            },
            "type": "scattergl"
           }
          ],
          "scattermapbox": [
           {
            "marker": {
             "colorbar": {
              "outlinewidth": 0,
              "ticks": ""
             }
            },
            "type": "scattermapbox"
           }
          ],
          "scatterpolar": [
           {
            "marker": {
             "colorbar": {
              "outlinewidth": 0,
              "ticks": ""
             }
            },
            "type": "scatterpolar"
           }
          ],
          "scatterpolargl": [
           {
            "marker": {
             "colorbar": {
              "outlinewidth": 0,
              "ticks": ""
             }
            },
            "type": "scatterpolargl"
           }
          ],
          "scatterternary": [
           {
            "marker": {
             "colorbar": {
              "outlinewidth": 0,
              "ticks": ""
             }
            },
            "type": "scatterternary"
           }
          ],
          "surface": [
           {
            "colorbar": {
             "outlinewidth": 0,
             "ticks": ""
            },
            "colorscale": [
             [
              0,
              "#0d0887"
             ],
             [
              0.1111111111111111,
              "#46039f"
             ],
             [
              0.2222222222222222,
              "#7201a8"
             ],
             [
              0.3333333333333333,
              "#9c179e"
             ],
             [
              0.4444444444444444,
              "#bd3786"
             ],
             [
              0.5555555555555556,
              "#d8576b"
             ],
             [
              0.6666666666666666,
              "#ed7953"
             ],
             [
              0.7777777777777778,
              "#fb9f3a"
             ],
             [
              0.8888888888888888,
              "#fdca26"
             ],
             [
              1,
              "#f0f921"
             ]
            ],
            "type": "surface"
           }
          ],
          "table": [
           {
            "cells": {
             "fill": {
              "color": "#EBF0F8"
             },
             "line": {
              "color": "white"
             }
            },
            "header": {
             "fill": {
              "color": "#C8D4E3"
             },
             "line": {
              "color": "white"
             }
            },
            "type": "table"
           }
          ]
         },
         "layout": {
          "annotationdefaults": {
           "arrowcolor": "#2a3f5f",
           "arrowhead": 0,
           "arrowwidth": 1
          },
          "autotypenumbers": "strict",
          "coloraxis": {
           "colorbar": {
            "outlinewidth": 0,
            "ticks": ""
           }
          },
          "colorscale": {
           "diverging": [
            [
             0,
             "#8e0152"
            ],
            [
             0.1,
             "#c51b7d"
            ],
            [
             0.2,
             "#de77ae"
            ],
            [
             0.3,
             "#f1b6da"
            ],
            [
             0.4,
             "#fde0ef"
            ],
            [
             0.5,
             "#f7f7f7"
            ],
            [
             0.6,
             "#e6f5d0"
            ],
            [
             0.7,
             "#b8e186"
            ],
            [
             0.8,
             "#7fbc41"
            ],
            [
             0.9,
             "#4d9221"
            ],
            [
             1,
             "#276419"
            ]
           ],
           "sequential": [
            [
             0,
             "#0d0887"
            ],
            [
             0.1111111111111111,
             "#46039f"
            ],
            [
             0.2222222222222222,
             "#7201a8"
            ],
            [
             0.3333333333333333,
             "#9c179e"
            ],
            [
             0.4444444444444444,
             "#bd3786"
            ],
            [
             0.5555555555555556,
             "#d8576b"
            ],
            [
             0.6666666666666666,
             "#ed7953"
            ],
            [
             0.7777777777777778,
             "#fb9f3a"
            ],
            [
             0.8888888888888888,
             "#fdca26"
            ],
            [
             1,
             "#f0f921"
            ]
           ],
           "sequentialminus": [
            [
             0,
             "#0d0887"
            ],
            [
             0.1111111111111111,
             "#46039f"
            ],
            [
             0.2222222222222222,
             "#7201a8"
            ],
            [
             0.3333333333333333,
             "#9c179e"
            ],
            [
             0.4444444444444444,
             "#bd3786"
            ],
            [
             0.5555555555555556,
             "#d8576b"
            ],
            [
             0.6666666666666666,
             "#ed7953"
            ],
            [
             0.7777777777777778,
             "#fb9f3a"
            ],
            [
             0.8888888888888888,
             "#fdca26"
            ],
            [
             1,
             "#f0f921"
            ]
           ]
          },
          "colorway": [
           "#636efa",
           "#EF553B",
           "#00cc96",
           "#ab63fa",
           "#FFA15A",
           "#19d3f3",
           "#FF6692",
           "#B6E880",
           "#FF97FF",
           "#FECB52"
          ],
          "font": {
           "color": "#2a3f5f"
          },
          "geo": {
           "bgcolor": "white",
           "lakecolor": "white",
           "landcolor": "#E5ECF6",
           "showlakes": true,
           "showland": true,
           "subunitcolor": "white"
          },
          "hoverlabel": {
           "align": "left"
          },
          "hovermode": "closest",
          "mapbox": {
           "style": "light"
          },
          "paper_bgcolor": "white",
          "plot_bgcolor": "#E5ECF6",
          "polar": {
           "angularaxis": {
            "gridcolor": "white",
            "linecolor": "white",
            "ticks": ""
           },
           "bgcolor": "#E5ECF6",
           "radialaxis": {
            "gridcolor": "white",
            "linecolor": "white",
            "ticks": ""
           }
          },
          "scene": {
           "xaxis": {
            "backgroundcolor": "#E5ECF6",
            "gridcolor": "white",
            "gridwidth": 2,
            "linecolor": "white",
            "showbackground": true,
            "ticks": "",
            "zerolinecolor": "white"
           },
           "yaxis": {
            "backgroundcolor": "#E5ECF6",
            "gridcolor": "white",
            "gridwidth": 2,
            "linecolor": "white",
            "showbackground": true,
            "ticks": "",
            "zerolinecolor": "white"
           },
           "zaxis": {
            "backgroundcolor": "#E5ECF6",
            "gridcolor": "white",
            "gridwidth": 2,
            "linecolor": "white",
            "showbackground": true,
            "ticks": "",
            "zerolinecolor": "white"
           }
          },
          "shapedefaults": {
           "line": {
            "color": "#2a3f5f"
           }
          },
          "ternary": {
           "aaxis": {
            "gridcolor": "white",
            "linecolor": "white",
            "ticks": ""
           },
           "baxis": {
            "gridcolor": "white",
            "linecolor": "white",
            "ticks": ""
           },
           "bgcolor": "#E5ECF6",
           "caxis": {
            "gridcolor": "white",
            "linecolor": "white",
            "ticks": ""
           }
          },
          "title": {
           "x": 0.05
          },
          "xaxis": {
           "automargin": true,
           "gridcolor": "white",
           "linecolor": "white",
           "ticks": "",
           "title": {
            "standoff": 15
           },
           "zerolinecolor": "white",
           "zerolinewidth": 2
          },
          "yaxis": {
           "automargin": true,
           "gridcolor": "white",
           "linecolor": "white",
           "ticks": "",
           "title": {
            "standoff": 15
           },
           "zerolinecolor": "white",
           "zerolinewidth": 2
          }
         }
        },
        "xaxis": {
         "anchor": "y",
         "domain": [
          0,
          1
         ],
         "title": {
          "text": "ds"
         }
        },
        "yaxis": {
         "anchor": "x",
         "domain": [
          0,
          1
         ],
         "title": {
          "text": "value"
         }
        }
       }
      }
     },
     "metadata": {},
     "output_type": "display_data"
    }
   ],
   "source": [
    "updated_preds.groupby('ds')['y'].apply(lambda x: pd.isna(x).sum()).plot()"
   ]
  },
  {
   "cell_type": "code",
   "execution_count": 67,
   "metadata": {},
   "outputs": [
    {
     "name": "stderr",
     "output_type": "stream",
     "text": [
      "\u001b[32m2024-08-23 17:07:04.330\u001b[0m | \u001b[1mINFO    \u001b[0m | \u001b[36m__main__\u001b[0m:\u001b[36mscore_data\u001b[0m:\u001b[36m4\u001b[0m - \u001b[1mScoring data\u001b[0m\n",
      "/home/pedro/my_project_dir/energy_demand/.venv/lib/python3.10/site-packages/mlforecast/forecast.py:742: UserWarning:\n",
      "\n",
      "Prediction intervals are calculated using 1-step ahead cross-validation, with a constant width for all horizons. To vary the error by horizon, pass PredictionIntervals(h=h) to the `prediction_intervals` argument when refitting the model.\n",
      "\n"
     ]
    },
    {
     "data": {
      "text/html": [
       "<div>\n",
       "<style scoped>\n",
       "    .dataframe tbody tr th:only-of-type {\n",
       "        vertical-align: middle;\n",
       "    }\n",
       "\n",
       "    .dataframe tbody tr th {\n",
       "        vertical-align: top;\n",
       "    }\n",
       "\n",
       "    .dataframe thead th {\n",
       "        text-align: right;\n",
       "    }\n",
       "</style>\n",
       "<table border=\"1\" class=\"dataframe\">\n",
       "  <thead>\n",
       "    <tr style=\"text-align: right;\">\n",
       "      <th></th>\n",
       "      <th>unique_id</th>\n",
       "      <th>ds</th>\n",
       "      <th>CatBoostRegressor</th>\n",
       "      <th>LGBMRegressor</th>\n",
       "      <th>XGBRegressor</th>\n",
       "      <th>RandomForestRegressor</th>\n",
       "      <th>y</th>\n",
       "    </tr>\n",
       "  </thead>\n",
       "  <tbody>\n",
       "    <tr>\n",
       "      <th>0</th>\n",
       "      <td>0</td>\n",
       "      <td>2024-06-15</td>\n",
       "      <td>NaN</td>\n",
       "      <td>NaN</td>\n",
       "      <td>NaN</td>\n",
       "      <td>NaN</td>\n",
       "      <td>816371.131</td>\n",
       "    </tr>\n",
       "    <tr>\n",
       "      <th>1</th>\n",
       "      <td>0</td>\n",
       "      <td>2024-06-16</td>\n",
       "      <td>NaN</td>\n",
       "      <td>NaN</td>\n",
       "      <td>NaN</td>\n",
       "      <td>NaN</td>\n",
       "      <td>727934.964</td>\n",
       "    </tr>\n",
       "    <tr>\n",
       "      <th>2</th>\n",
       "      <td>0</td>\n",
       "      <td>2024-06-17</td>\n",
       "      <td>NaN</td>\n",
       "      <td>NaN</td>\n",
       "      <td>NaN</td>\n",
       "      <td>NaN</td>\n",
       "      <td>851129.980</td>\n",
       "    </tr>\n",
       "    <tr>\n",
       "      <th>3</th>\n",
       "      <td>0</td>\n",
       "      <td>2024-06-18</td>\n",
       "      <td>NaN</td>\n",
       "      <td>NaN</td>\n",
       "      <td>NaN</td>\n",
       "      <td>NaN</td>\n",
       "      <td>886222.722</td>\n",
       "    </tr>\n",
       "    <tr>\n",
       "      <th>4</th>\n",
       "      <td>0</td>\n",
       "      <td>2024-06-19</td>\n",
       "      <td>NaN</td>\n",
       "      <td>NaN</td>\n",
       "      <td>NaN</td>\n",
       "      <td>NaN</td>\n",
       "      <td>890934.761</td>\n",
       "    </tr>\n",
       "    <tr>\n",
       "      <th>...</th>\n",
       "      <td>...</td>\n",
       "      <td>...</td>\n",
       "      <td>...</td>\n",
       "      <td>...</td>\n",
       "      <td>...</td>\n",
       "      <td>...</td>\n",
       "      <td>...</td>\n",
       "    </tr>\n",
       "    <tr>\n",
       "      <th>55</th>\n",
       "      <td>0</td>\n",
       "      <td>2024-10-17</td>\n",
       "      <td>874998.884281</td>\n",
       "      <td>850208.730391</td>\n",
       "      <td>879838.3125</td>\n",
       "      <td>796263.228590</td>\n",
       "      <td>NaN</td>\n",
       "    </tr>\n",
       "    <tr>\n",
       "      <th>56</th>\n",
       "      <td>0</td>\n",
       "      <td>2024-10-18</td>\n",
       "      <td>844408.220907</td>\n",
       "      <td>854874.034169</td>\n",
       "      <td>862779.7500</td>\n",
       "      <td>784324.550245</td>\n",
       "      <td>NaN</td>\n",
       "    </tr>\n",
       "    <tr>\n",
       "      <th>57</th>\n",
       "      <td>0</td>\n",
       "      <td>2024-10-19</td>\n",
       "      <td>748841.440062</td>\n",
       "      <td>795226.115265</td>\n",
       "      <td>784087.5000</td>\n",
       "      <td>735033.625595</td>\n",
       "      <td>NaN</td>\n",
       "    </tr>\n",
       "    <tr>\n",
       "      <th>58</th>\n",
       "      <td>0</td>\n",
       "      <td>2024-10-20</td>\n",
       "      <td>653150.929854</td>\n",
       "      <td>700089.751758</td>\n",
       "      <td>695063.8125</td>\n",
       "      <td>650768.522170</td>\n",
       "      <td>NaN</td>\n",
       "    </tr>\n",
       "    <tr>\n",
       "      <th>59</th>\n",
       "      <td>0</td>\n",
       "      <td>2024-10-21</td>\n",
       "      <td>766148.993924</td>\n",
       "      <td>809190.142294</td>\n",
       "      <td>833044.4375</td>\n",
       "      <td>752781.638335</td>\n",
       "      <td>NaN</td>\n",
       "    </tr>\n",
       "  </tbody>\n",
       "</table>\n",
       "<p>129 rows × 7 columns</p>\n",
       "</div>"
      ],
      "text/plain": [
       "    unique_id         ds  CatBoostRegressor  LGBMRegressor  XGBRegressor  \\\n",
       "0           0 2024-06-15                NaN            NaN           NaN   \n",
       "1           0 2024-06-16                NaN            NaN           NaN   \n",
       "2           0 2024-06-17                NaN            NaN           NaN   \n",
       "3           0 2024-06-18                NaN            NaN           NaN   \n",
       "4           0 2024-06-19                NaN            NaN           NaN   \n",
       "..        ...        ...                ...            ...           ...   \n",
       "55          0 2024-10-17      874998.884281  850208.730391   879838.3125   \n",
       "56          0 2024-10-18      844408.220907  854874.034169   862779.7500   \n",
       "57          0 2024-10-19      748841.440062  795226.115265   784087.5000   \n",
       "58          0 2024-10-20      653150.929854  700089.751758   695063.8125   \n",
       "59          0 2024-10-21      766148.993924  809190.142294   833044.4375   \n",
       "\n",
       "    RandomForestRegressor           y  \n",
       "0                     NaN  816371.131  \n",
       "1                     NaN  727934.964  \n",
       "2                     NaN  851129.980  \n",
       "3                     NaN  886222.722  \n",
       "4                     NaN  890934.761  \n",
       "..                    ...         ...  \n",
       "55          796263.228590         NaN  \n",
       "56          784324.550245         NaN  \n",
       "57          735033.625595         NaN  \n",
       "58          650768.522170         NaN  \n",
       "59          752781.638335         NaN  \n",
       "\n",
       "[129 rows x 7 columns]"
      ]
     },
     "execution_count": 67,
     "metadata": {},
     "output_type": "execute_result"
    }
   ],
   "source": [
    "model = joblib.load('../model_folder/local_model.joblib')\n",
    "\n",
    "def score_data(df, model, levels):\n",
    "    logger.info(\"Scoring data\")\n",
    "\n",
    "    # Update the model with the new data\n",
    "    data = df[['ds', 'y', 'unique_id']].dropna()\n",
    "    model.update(data)\n",
    "\n",
    "    # Make predictions\n",
    "    forecast_df = model.predict(h=60, level=levels)\n",
    "\n",
    "    # Merge the predictions with the original data\n",
    "    forecast_df = pd.concat([data, forecast_df], axis=0)\n",
    "\n",
    "    return forecast_df\n",
    "\n",
    "forecast_df = score_data(updated_preds, model, levels=LEVELS)[[col for col in updated_preds.columns if '-' not in col]]\n",
    "forecast_df"
   ]
  },
  {
   "cell_type": "code",
   "execution_count": 76,
   "metadata": {},
   "outputs": [
    {
     "data": {
      "text/html": [
       "<div>\n",
       "<style scoped>\n",
       "    .dataframe tbody tr th:only-of-type {\n",
       "        vertical-align: middle;\n",
       "    }\n",
       "\n",
       "    .dataframe tbody tr th {\n",
       "        vertical-align: top;\n",
       "    }\n",
       "\n",
       "    .dataframe thead th {\n",
       "        text-align: right;\n",
       "    }\n",
       "</style>\n",
       "<table border=\"1\" class=\"dataframe\">\n",
       "  <thead>\n",
       "    <tr style=\"text-align: right;\">\n",
       "      <th></th>\n",
       "      <th>unique_id</th>\n",
       "      <th>ds</th>\n",
       "      <th>CatBoostRegressor</th>\n",
       "      <th>LGBMRegressor</th>\n",
       "      <th>XGBRegressor</th>\n",
       "      <th>RandomForestRegressor</th>\n",
       "      <th>y</th>\n",
       "    </tr>\n",
       "  </thead>\n",
       "  <tbody>\n",
       "    <tr>\n",
       "      <th>39</th>\n",
       "      <td>0</td>\n",
       "      <td>2024-07-24</td>\n",
       "      <td>NaN</td>\n",
       "      <td>NaN</td>\n",
       "      <td>NaN</td>\n",
       "      <td>NaN</td>\n",
       "      <td>886205.6555</td>\n",
       "    </tr>\n",
       "    <tr>\n",
       "      <th>40</th>\n",
       "      <td>0</td>\n",
       "      <td>2024-07-25</td>\n",
       "      <td>NaN</td>\n",
       "      <td>NaN</td>\n",
       "      <td>NaN</td>\n",
       "      <td>NaN</td>\n",
       "      <td>889648.5340</td>\n",
       "    </tr>\n",
       "    <tr>\n",
       "      <th>41</th>\n",
       "      <td>0</td>\n",
       "      <td>2024-07-26</td>\n",
       "      <td>NaN</td>\n",
       "      <td>NaN</td>\n",
       "      <td>NaN</td>\n",
       "      <td>NaN</td>\n",
       "      <td>887822.2490</td>\n",
       "    </tr>\n",
       "    <tr>\n",
       "      <th>42</th>\n",
       "      <td>0</td>\n",
       "      <td>2024-07-27</td>\n",
       "      <td>NaN</td>\n",
       "      <td>NaN</td>\n",
       "      <td>NaN</td>\n",
       "      <td>NaN</td>\n",
       "      <td>820912.4420</td>\n",
       "    </tr>\n",
       "    <tr>\n",
       "      <th>43</th>\n",
       "      <td>0</td>\n",
       "      <td>2024-07-28</td>\n",
       "      <td>NaN</td>\n",
       "      <td>NaN</td>\n",
       "      <td>NaN</td>\n",
       "      <td>NaN</td>\n",
       "      <td>727007.1985</td>\n",
       "    </tr>\n",
       "    <tr>\n",
       "      <th>44</th>\n",
       "      <td>0</td>\n",
       "      <td>2024-07-29</td>\n",
       "      <td>NaN</td>\n",
       "      <td>NaN</td>\n",
       "      <td>NaN</td>\n",
       "      <td>NaN</td>\n",
       "      <td>861138.8970</td>\n",
       "    </tr>\n",
       "    <tr>\n",
       "      <th>45</th>\n",
       "      <td>0</td>\n",
       "      <td>2024-07-30</td>\n",
       "      <td>NaN</td>\n",
       "      <td>NaN</td>\n",
       "      <td>NaN</td>\n",
       "      <td>NaN</td>\n",
       "      <td>892208.7090</td>\n",
       "    </tr>\n",
       "    <tr>\n",
       "      <th>46</th>\n",
       "      <td>0</td>\n",
       "      <td>2024-07-31</td>\n",
       "      <td>NaN</td>\n",
       "      <td>NaN</td>\n",
       "      <td>NaN</td>\n",
       "      <td>NaN</td>\n",
       "      <td>881379.5445</td>\n",
       "    </tr>\n",
       "    <tr>\n",
       "      <th>47</th>\n",
       "      <td>0</td>\n",
       "      <td>2024-08-01</td>\n",
       "      <td>NaN</td>\n",
       "      <td>NaN</td>\n",
       "      <td>NaN</td>\n",
       "      <td>NaN</td>\n",
       "      <td>889883.3870</td>\n",
       "    </tr>\n",
       "    <tr>\n",
       "      <th>48</th>\n",
       "      <td>0</td>\n",
       "      <td>2024-08-02</td>\n",
       "      <td>NaN</td>\n",
       "      <td>NaN</td>\n",
       "      <td>NaN</td>\n",
       "      <td>NaN</td>\n",
       "      <td>888523.7730</td>\n",
       "    </tr>\n",
       "    <tr>\n",
       "      <th>49</th>\n",
       "      <td>0</td>\n",
       "      <td>2024-08-03</td>\n",
       "      <td>NaN</td>\n",
       "      <td>NaN</td>\n",
       "      <td>NaN</td>\n",
       "      <td>NaN</td>\n",
       "      <td>825940.6680</td>\n",
       "    </tr>\n",
       "    <tr>\n",
       "      <th>50</th>\n",
       "      <td>0</td>\n",
       "      <td>2024-08-04</td>\n",
       "      <td>NaN</td>\n",
       "      <td>NaN</td>\n",
       "      <td>NaN</td>\n",
       "      <td>NaN</td>\n",
       "      <td>729894.1010</td>\n",
       "    </tr>\n",
       "    <tr>\n",
       "      <th>51</th>\n",
       "      <td>0</td>\n",
       "      <td>2024-08-05</td>\n",
       "      <td>NaN</td>\n",
       "      <td>NaN</td>\n",
       "      <td>NaN</td>\n",
       "      <td>NaN</td>\n",
       "      <td>868344.0105</td>\n",
       "    </tr>\n",
       "    <tr>\n",
       "      <th>52</th>\n",
       "      <td>0</td>\n",
       "      <td>2024-08-06</td>\n",
       "      <td>NaN</td>\n",
       "      <td>NaN</td>\n",
       "      <td>NaN</td>\n",
       "      <td>NaN</td>\n",
       "      <td>908806.9690</td>\n",
       "    </tr>\n",
       "    <tr>\n",
       "      <th>53</th>\n",
       "      <td>0</td>\n",
       "      <td>2024-08-07</td>\n",
       "      <td>NaN</td>\n",
       "      <td>NaN</td>\n",
       "      <td>NaN</td>\n",
       "      <td>NaN</td>\n",
       "      <td>923834.3800</td>\n",
       "    </tr>\n",
       "    <tr>\n",
       "      <th>54</th>\n",
       "      <td>0</td>\n",
       "      <td>2024-08-08</td>\n",
       "      <td>NaN</td>\n",
       "      <td>NaN</td>\n",
       "      <td>NaN</td>\n",
       "      <td>NaN</td>\n",
       "      <td>932343.3190</td>\n",
       "    </tr>\n",
       "    <tr>\n",
       "      <th>55</th>\n",
       "      <td>0</td>\n",
       "      <td>2024-08-09</td>\n",
       "      <td>NaN</td>\n",
       "      <td>NaN</td>\n",
       "      <td>NaN</td>\n",
       "      <td>NaN</td>\n",
       "      <td>926252.7580</td>\n",
       "    </tr>\n",
       "    <tr>\n",
       "      <th>56</th>\n",
       "      <td>0</td>\n",
       "      <td>2024-08-10</td>\n",
       "      <td>NaN</td>\n",
       "      <td>NaN</td>\n",
       "      <td>NaN</td>\n",
       "      <td>NaN</td>\n",
       "      <td>795148.5080</td>\n",
       "    </tr>\n",
       "    <tr>\n",
       "      <th>57</th>\n",
       "      <td>0</td>\n",
       "      <td>2024-08-11</td>\n",
       "      <td>NaN</td>\n",
       "      <td>NaN</td>\n",
       "      <td>NaN</td>\n",
       "      <td>NaN</td>\n",
       "      <td>698073.5960</td>\n",
       "    </tr>\n",
       "    <tr>\n",
       "      <th>58</th>\n",
       "      <td>0</td>\n",
       "      <td>2024-08-12</td>\n",
       "      <td>NaN</td>\n",
       "      <td>NaN</td>\n",
       "      <td>NaN</td>\n",
       "      <td>NaN</td>\n",
       "      <td>805498.2440</td>\n",
       "    </tr>\n",
       "    <tr>\n",
       "      <th>59</th>\n",
       "      <td>0</td>\n",
       "      <td>2024-08-13</td>\n",
       "      <td>NaN</td>\n",
       "      <td>NaN</td>\n",
       "      <td>NaN</td>\n",
       "      <td>NaN</td>\n",
       "      <td>844564.0700</td>\n",
       "    </tr>\n",
       "    <tr>\n",
       "      <th>60</th>\n",
       "      <td>0</td>\n",
       "      <td>2024-08-14</td>\n",
       "      <td>NaN</td>\n",
       "      <td>NaN</td>\n",
       "      <td>NaN</td>\n",
       "      <td>NaN</td>\n",
       "      <td>856677.3810</td>\n",
       "    </tr>\n",
       "    <tr>\n",
       "      <th>61</th>\n",
       "      <td>0</td>\n",
       "      <td>2024-08-15</td>\n",
       "      <td>NaN</td>\n",
       "      <td>NaN</td>\n",
       "      <td>NaN</td>\n",
       "      <td>NaN</td>\n",
       "      <td>870365.0395</td>\n",
       "    </tr>\n",
       "    <tr>\n",
       "      <th>62</th>\n",
       "      <td>0</td>\n",
       "      <td>2024-08-16</td>\n",
       "      <td>NaN</td>\n",
       "      <td>NaN</td>\n",
       "      <td>NaN</td>\n",
       "      <td>NaN</td>\n",
       "      <td>895989.2120</td>\n",
       "    </tr>\n",
       "    <tr>\n",
       "      <th>63</th>\n",
       "      <td>0</td>\n",
       "      <td>2024-08-17</td>\n",
       "      <td>NaN</td>\n",
       "      <td>NaN</td>\n",
       "      <td>NaN</td>\n",
       "      <td>NaN</td>\n",
       "      <td>832527.0950</td>\n",
       "    </tr>\n",
       "    <tr>\n",
       "      <th>64</th>\n",
       "      <td>0</td>\n",
       "      <td>2024-08-18</td>\n",
       "      <td>NaN</td>\n",
       "      <td>NaN</td>\n",
       "      <td>NaN</td>\n",
       "      <td>NaN</td>\n",
       "      <td>744501.7770</td>\n",
       "    </tr>\n",
       "    <tr>\n",
       "      <th>65</th>\n",
       "      <td>0</td>\n",
       "      <td>2024-08-19</td>\n",
       "      <td>NaN</td>\n",
       "      <td>NaN</td>\n",
       "      <td>NaN</td>\n",
       "      <td>NaN</td>\n",
       "      <td>880713.2220</td>\n",
       "    </tr>\n",
       "    <tr>\n",
       "      <th>66</th>\n",
       "      <td>0</td>\n",
       "      <td>2024-08-20</td>\n",
       "      <td>NaN</td>\n",
       "      <td>NaN</td>\n",
       "      <td>NaN</td>\n",
       "      <td>NaN</td>\n",
       "      <td>927637.6410</td>\n",
       "    </tr>\n",
       "    <tr>\n",
       "      <th>67</th>\n",
       "      <td>0</td>\n",
       "      <td>2024-08-21</td>\n",
       "      <td>NaN</td>\n",
       "      <td>NaN</td>\n",
       "      <td>NaN</td>\n",
       "      <td>NaN</td>\n",
       "      <td>931550.5060</td>\n",
       "    </tr>\n",
       "    <tr>\n",
       "      <th>68</th>\n",
       "      <td>0</td>\n",
       "      <td>2024-08-22</td>\n",
       "      <td>NaN</td>\n",
       "      <td>NaN</td>\n",
       "      <td>NaN</td>\n",
       "      <td>NaN</td>\n",
       "      <td>929876.4890</td>\n",
       "    </tr>\n",
       "    <tr>\n",
       "      <th>0</th>\n",
       "      <td>0</td>\n",
       "      <td>2024-08-23</td>\n",
       "      <td>942096.285578</td>\n",
       "      <td>921979.270085</td>\n",
       "      <td>926562.7500</td>\n",
       "      <td>930447.284940</td>\n",
       "      <td>NaN</td>\n",
       "    </tr>\n",
       "    <tr>\n",
       "      <th>1</th>\n",
       "      <td>0</td>\n",
       "      <td>2024-08-24</td>\n",
       "      <td>847517.589336</td>\n",
       "      <td>827842.729142</td>\n",
       "      <td>834509.5625</td>\n",
       "      <td>847181.857475</td>\n",
       "      <td>NaN</td>\n",
       "    </tr>\n",
       "    <tr>\n",
       "      <th>2</th>\n",
       "      <td>0</td>\n",
       "      <td>2024-08-25</td>\n",
       "      <td>728545.397085</td>\n",
       "      <td>722316.256197</td>\n",
       "      <td>722978.5000</td>\n",
       "      <td>752313.558565</td>\n",
       "      <td>NaN</td>\n",
       "    </tr>\n",
       "    <tr>\n",
       "      <th>3</th>\n",
       "      <td>0</td>\n",
       "      <td>2024-08-26</td>\n",
       "      <td>857815.948242</td>\n",
       "      <td>849600.073525</td>\n",
       "      <td>854008.9375</td>\n",
       "      <td>877054.416255</td>\n",
       "      <td>NaN</td>\n",
       "    </tr>\n",
       "    <tr>\n",
       "      <th>4</th>\n",
       "      <td>0</td>\n",
       "      <td>2024-08-27</td>\n",
       "      <td>881401.529129</td>\n",
       "      <td>883933.019042</td>\n",
       "      <td>886326.7500</td>\n",
       "      <td>894700.892560</td>\n",
       "      <td>NaN</td>\n",
       "    </tr>\n",
       "    <tr>\n",
       "      <th>5</th>\n",
       "      <td>0</td>\n",
       "      <td>2024-08-28</td>\n",
       "      <td>873757.803491</td>\n",
       "      <td>878602.674068</td>\n",
       "      <td>881914.7500</td>\n",
       "      <td>884726.350175</td>\n",
       "      <td>NaN</td>\n",
       "    </tr>\n",
       "    <tr>\n",
       "      <th>6</th>\n",
       "      <td>0</td>\n",
       "      <td>2024-08-29</td>\n",
       "      <td>872452.896706</td>\n",
       "      <td>848888.310205</td>\n",
       "      <td>860217.3125</td>\n",
       "      <td>850913.420960</td>\n",
       "      <td>NaN</td>\n",
       "    </tr>\n",
       "    <tr>\n",
       "      <th>7</th>\n",
       "      <td>0</td>\n",
       "      <td>2024-08-30</td>\n",
       "      <td>860156.080659</td>\n",
       "      <td>796196.551014</td>\n",
       "      <td>840150.6875</td>\n",
       "      <td>815249.337050</td>\n",
       "      <td>NaN</td>\n",
       "    </tr>\n",
       "    <tr>\n",
       "      <th>8</th>\n",
       "      <td>0</td>\n",
       "      <td>2024-08-31</td>\n",
       "      <td>797968.757593</td>\n",
       "      <td>753512.809469</td>\n",
       "      <td>754568.0000</td>\n",
       "      <td>768012.247505</td>\n",
       "      <td>NaN</td>\n",
       "    </tr>\n",
       "    <tr>\n",
       "      <th>9</th>\n",
       "      <td>0</td>\n",
       "      <td>2024-09-01</td>\n",
       "      <td>706709.303004</td>\n",
       "      <td>666618.945459</td>\n",
       "      <td>678109.5625</td>\n",
       "      <td>702149.118330</td>\n",
       "      <td>NaN</td>\n",
       "    </tr>\n",
       "    <tr>\n",
       "      <th>10</th>\n",
       "      <td>0</td>\n",
       "      <td>2024-09-02</td>\n",
       "      <td>818433.230855</td>\n",
       "      <td>782171.060105</td>\n",
       "      <td>784346.6250</td>\n",
       "      <td>821327.761925</td>\n",
       "      <td>NaN</td>\n",
       "    </tr>\n",
       "    <tr>\n",
       "      <th>11</th>\n",
       "      <td>0</td>\n",
       "      <td>2024-09-03</td>\n",
       "      <td>858509.446293</td>\n",
       "      <td>845148.305940</td>\n",
       "      <td>842091.6250</td>\n",
       "      <td>860185.546165</td>\n",
       "      <td>NaN</td>\n",
       "    </tr>\n",
       "    <tr>\n",
       "      <th>12</th>\n",
       "      <td>0</td>\n",
       "      <td>2024-09-04</td>\n",
       "      <td>867925.791973</td>\n",
       "      <td>868103.251171</td>\n",
       "      <td>864022.7500</td>\n",
       "      <td>874955.463260</td>\n",
       "      <td>NaN</td>\n",
       "    </tr>\n",
       "    <tr>\n",
       "      <th>13</th>\n",
       "      <td>0</td>\n",
       "      <td>2024-09-05</td>\n",
       "      <td>877889.886289</td>\n",
       "      <td>869594.496857</td>\n",
       "      <td>885016.0000</td>\n",
       "      <td>869527.608060</td>\n",
       "      <td>NaN</td>\n",
       "    </tr>\n",
       "    <tr>\n",
       "      <th>14</th>\n",
       "      <td>0</td>\n",
       "      <td>2024-09-06</td>\n",
       "      <td>873950.192101</td>\n",
       "      <td>853518.795755</td>\n",
       "      <td>881498.5625</td>\n",
       "      <td>849124.595930</td>\n",
       "      <td>NaN</td>\n",
       "    </tr>\n",
       "    <tr>\n",
       "      <th>15</th>\n",
       "      <td>0</td>\n",
       "      <td>2024-09-07</td>\n",
       "      <td>813227.327305</td>\n",
       "      <td>785789.612926</td>\n",
       "      <td>801798.9375</td>\n",
       "      <td>796931.308740</td>\n",
       "      <td>NaN</td>\n",
       "    </tr>\n",
       "    <tr>\n",
       "      <th>16</th>\n",
       "      <td>0</td>\n",
       "      <td>2024-09-08</td>\n",
       "      <td>723454.253679</td>\n",
       "      <td>699995.437950</td>\n",
       "      <td>718934.9375</td>\n",
       "      <td>719663.510470</td>\n",
       "      <td>NaN</td>\n",
       "    </tr>\n",
       "    <tr>\n",
       "      <th>17</th>\n",
       "      <td>0</td>\n",
       "      <td>2024-09-09</td>\n",
       "      <td>839380.697728</td>\n",
       "      <td>834862.790404</td>\n",
       "      <td>830688.1250</td>\n",
       "      <td>828925.199545</td>\n",
       "      <td>NaN</td>\n",
       "    </tr>\n",
       "    <tr>\n",
       "      <th>18</th>\n",
       "      <td>0</td>\n",
       "      <td>2024-09-10</td>\n",
       "      <td>861399.459557</td>\n",
       "      <td>865804.959685</td>\n",
       "      <td>869153.1250</td>\n",
       "      <td>867582.202445</td>\n",
       "      <td>NaN</td>\n",
       "    </tr>\n",
       "    <tr>\n",
       "      <th>19</th>\n",
       "      <td>0</td>\n",
       "      <td>2024-09-11</td>\n",
       "      <td>886489.338027</td>\n",
       "      <td>860400.254822</td>\n",
       "      <td>875615.4375</td>\n",
       "      <td>873508.255005</td>\n",
       "      <td>NaN</td>\n",
       "    </tr>\n",
       "    <tr>\n",
       "      <th>20</th>\n",
       "      <td>0</td>\n",
       "      <td>2024-09-12</td>\n",
       "      <td>893106.512088</td>\n",
       "      <td>860668.428816</td>\n",
       "      <td>889535.8125</td>\n",
       "      <td>870303.542920</td>\n",
       "      <td>NaN</td>\n",
       "    </tr>\n",
       "    <tr>\n",
       "      <th>21</th>\n",
       "      <td>0</td>\n",
       "      <td>2024-09-13</td>\n",
       "      <td>873492.051674</td>\n",
       "      <td>868693.134164</td>\n",
       "      <td>892465.1250</td>\n",
       "      <td>860989.793390</td>\n",
       "      <td>NaN</td>\n",
       "    </tr>\n",
       "    <tr>\n",
       "      <th>22</th>\n",
       "      <td>0</td>\n",
       "      <td>2024-09-14</td>\n",
       "      <td>817285.394761</td>\n",
       "      <td>790826.072856</td>\n",
       "      <td>803596.5625</td>\n",
       "      <td>801022.984635</td>\n",
       "      <td>NaN</td>\n",
       "    </tr>\n",
       "    <tr>\n",
       "      <th>23</th>\n",
       "      <td>0</td>\n",
       "      <td>2024-09-15</td>\n",
       "      <td>742418.688470</td>\n",
       "      <td>700254.898488</td>\n",
       "      <td>726159.3125</td>\n",
       "      <td>719944.159015</td>\n",
       "      <td>NaN</td>\n",
       "    </tr>\n",
       "    <tr>\n",
       "      <th>24</th>\n",
       "      <td>0</td>\n",
       "      <td>2024-09-16</td>\n",
       "      <td>861589.978635</td>\n",
       "      <td>841524.716160</td>\n",
       "      <td>870672.6250</td>\n",
       "      <td>833385.922215</td>\n",
       "      <td>NaN</td>\n",
       "    </tr>\n",
       "    <tr>\n",
       "      <th>25</th>\n",
       "      <td>0</td>\n",
       "      <td>2024-09-17</td>\n",
       "      <td>896712.277185</td>\n",
       "      <td>867493.419268</td>\n",
       "      <td>895714.3125</td>\n",
       "      <td>865365.414850</td>\n",
       "      <td>NaN</td>\n",
       "    </tr>\n",
       "    <tr>\n",
       "      <th>26</th>\n",
       "      <td>0</td>\n",
       "      <td>2024-09-18</td>\n",
       "      <td>912602.677832</td>\n",
       "      <td>857469.510536</td>\n",
       "      <td>895829.9375</td>\n",
       "      <td>867676.572415</td>\n",
       "      <td>NaN</td>\n",
       "    </tr>\n",
       "    <tr>\n",
       "      <th>27</th>\n",
       "      <td>0</td>\n",
       "      <td>2024-09-19</td>\n",
       "      <td>920785.880286</td>\n",
       "      <td>852108.653193</td>\n",
       "      <td>889578.5625</td>\n",
       "      <td>860742.091005</td>\n",
       "      <td>NaN</td>\n",
       "    </tr>\n",
       "    <tr>\n",
       "      <th>28</th>\n",
       "      <td>0</td>\n",
       "      <td>2024-09-20</td>\n",
       "      <td>923776.959939</td>\n",
       "      <td>844671.323544</td>\n",
       "      <td>873928.6875</td>\n",
       "      <td>846659.118065</td>\n",
       "      <td>NaN</td>\n",
       "    </tr>\n",
       "    <tr>\n",
       "      <th>29</th>\n",
       "      <td>0</td>\n",
       "      <td>2024-09-21</td>\n",
       "      <td>820749.824157</td>\n",
       "      <td>752217.274387</td>\n",
       "      <td>791958.6250</td>\n",
       "      <td>784127.449165</td>\n",
       "      <td>NaN</td>\n",
       "    </tr>\n",
       "  </tbody>\n",
       "</table>\n",
       "</div>"
      ],
      "text/plain": [
       "    unique_id         ds  CatBoostRegressor  LGBMRegressor  XGBRegressor  \\\n",
       "39          0 2024-07-24                NaN            NaN           NaN   \n",
       "40          0 2024-07-25                NaN            NaN           NaN   \n",
       "41          0 2024-07-26                NaN            NaN           NaN   \n",
       "42          0 2024-07-27                NaN            NaN           NaN   \n",
       "43          0 2024-07-28                NaN            NaN           NaN   \n",
       "44          0 2024-07-29                NaN            NaN           NaN   \n",
       "45          0 2024-07-30                NaN            NaN           NaN   \n",
       "46          0 2024-07-31                NaN            NaN           NaN   \n",
       "47          0 2024-08-01                NaN            NaN           NaN   \n",
       "48          0 2024-08-02                NaN            NaN           NaN   \n",
       "49          0 2024-08-03                NaN            NaN           NaN   \n",
       "50          0 2024-08-04                NaN            NaN           NaN   \n",
       "51          0 2024-08-05                NaN            NaN           NaN   \n",
       "52          0 2024-08-06                NaN            NaN           NaN   \n",
       "53          0 2024-08-07                NaN            NaN           NaN   \n",
       "54          0 2024-08-08                NaN            NaN           NaN   \n",
       "55          0 2024-08-09                NaN            NaN           NaN   \n",
       "56          0 2024-08-10                NaN            NaN           NaN   \n",
       "57          0 2024-08-11                NaN            NaN           NaN   \n",
       "58          0 2024-08-12                NaN            NaN           NaN   \n",
       "59          0 2024-08-13                NaN            NaN           NaN   \n",
       "60          0 2024-08-14                NaN            NaN           NaN   \n",
       "61          0 2024-08-15                NaN            NaN           NaN   \n",
       "62          0 2024-08-16                NaN            NaN           NaN   \n",
       "63          0 2024-08-17                NaN            NaN           NaN   \n",
       "64          0 2024-08-18                NaN            NaN           NaN   \n",
       "65          0 2024-08-19                NaN            NaN           NaN   \n",
       "66          0 2024-08-20                NaN            NaN           NaN   \n",
       "67          0 2024-08-21                NaN            NaN           NaN   \n",
       "68          0 2024-08-22                NaN            NaN           NaN   \n",
       "0           0 2024-08-23      942096.285578  921979.270085   926562.7500   \n",
       "1           0 2024-08-24      847517.589336  827842.729142   834509.5625   \n",
       "2           0 2024-08-25      728545.397085  722316.256197   722978.5000   \n",
       "3           0 2024-08-26      857815.948242  849600.073525   854008.9375   \n",
       "4           0 2024-08-27      881401.529129  883933.019042   886326.7500   \n",
       "5           0 2024-08-28      873757.803491  878602.674068   881914.7500   \n",
       "6           0 2024-08-29      872452.896706  848888.310205   860217.3125   \n",
       "7           0 2024-08-30      860156.080659  796196.551014   840150.6875   \n",
       "8           0 2024-08-31      797968.757593  753512.809469   754568.0000   \n",
       "9           0 2024-09-01      706709.303004  666618.945459   678109.5625   \n",
       "10          0 2024-09-02      818433.230855  782171.060105   784346.6250   \n",
       "11          0 2024-09-03      858509.446293  845148.305940   842091.6250   \n",
       "12          0 2024-09-04      867925.791973  868103.251171   864022.7500   \n",
       "13          0 2024-09-05      877889.886289  869594.496857   885016.0000   \n",
       "14          0 2024-09-06      873950.192101  853518.795755   881498.5625   \n",
       "15          0 2024-09-07      813227.327305  785789.612926   801798.9375   \n",
       "16          0 2024-09-08      723454.253679  699995.437950   718934.9375   \n",
       "17          0 2024-09-09      839380.697728  834862.790404   830688.1250   \n",
       "18          0 2024-09-10      861399.459557  865804.959685   869153.1250   \n",
       "19          0 2024-09-11      886489.338027  860400.254822   875615.4375   \n",
       "20          0 2024-09-12      893106.512088  860668.428816   889535.8125   \n",
       "21          0 2024-09-13      873492.051674  868693.134164   892465.1250   \n",
       "22          0 2024-09-14      817285.394761  790826.072856   803596.5625   \n",
       "23          0 2024-09-15      742418.688470  700254.898488   726159.3125   \n",
       "24          0 2024-09-16      861589.978635  841524.716160   870672.6250   \n",
       "25          0 2024-09-17      896712.277185  867493.419268   895714.3125   \n",
       "26          0 2024-09-18      912602.677832  857469.510536   895829.9375   \n",
       "27          0 2024-09-19      920785.880286  852108.653193   889578.5625   \n",
       "28          0 2024-09-20      923776.959939  844671.323544   873928.6875   \n",
       "29          0 2024-09-21      820749.824157  752217.274387   791958.6250   \n",
       "\n",
       "    RandomForestRegressor            y  \n",
       "39                    NaN  886205.6555  \n",
       "40                    NaN  889648.5340  \n",
       "41                    NaN  887822.2490  \n",
       "42                    NaN  820912.4420  \n",
       "43                    NaN  727007.1985  \n",
       "44                    NaN  861138.8970  \n",
       "45                    NaN  892208.7090  \n",
       "46                    NaN  881379.5445  \n",
       "47                    NaN  889883.3870  \n",
       "48                    NaN  888523.7730  \n",
       "49                    NaN  825940.6680  \n",
       "50                    NaN  729894.1010  \n",
       "51                    NaN  868344.0105  \n",
       "52                    NaN  908806.9690  \n",
       "53                    NaN  923834.3800  \n",
       "54                    NaN  932343.3190  \n",
       "55                    NaN  926252.7580  \n",
       "56                    NaN  795148.5080  \n",
       "57                    NaN  698073.5960  \n",
       "58                    NaN  805498.2440  \n",
       "59                    NaN  844564.0700  \n",
       "60                    NaN  856677.3810  \n",
       "61                    NaN  870365.0395  \n",
       "62                    NaN  895989.2120  \n",
       "63                    NaN  832527.0950  \n",
       "64                    NaN  744501.7770  \n",
       "65                    NaN  880713.2220  \n",
       "66                    NaN  927637.6410  \n",
       "67                    NaN  931550.5060  \n",
       "68                    NaN  929876.4890  \n",
       "0           930447.284940          NaN  \n",
       "1           847181.857475          NaN  \n",
       "2           752313.558565          NaN  \n",
       "3           877054.416255          NaN  \n",
       "4           894700.892560          NaN  \n",
       "5           884726.350175          NaN  \n",
       "6           850913.420960          NaN  \n",
       "7           815249.337050          NaN  \n",
       "8           768012.247505          NaN  \n",
       "9           702149.118330          NaN  \n",
       "10          821327.761925          NaN  \n",
       "11          860185.546165          NaN  \n",
       "12          874955.463260          NaN  \n",
       "13          869527.608060          NaN  \n",
       "14          849124.595930          NaN  \n",
       "15          796931.308740          NaN  \n",
       "16          719663.510470          NaN  \n",
       "17          828925.199545          NaN  \n",
       "18          867582.202445          NaN  \n",
       "19          873508.255005          NaN  \n",
       "20          870303.542920          NaN  \n",
       "21          860989.793390          NaN  \n",
       "22          801022.984635          NaN  \n",
       "23          719944.159015          NaN  \n",
       "24          833385.922215          NaN  \n",
       "25          865365.414850          NaN  \n",
       "26          867676.572415          NaN  \n",
       "27          860742.091005          NaN  \n",
       "28          846659.118065          NaN  \n",
       "29          784127.449165          NaN  "
      ]
     },
     "execution_count": 76,
     "metadata": {},
     "output_type": "execute_result"
    }
   ],
   "source": [
    "forecast_df.iloc[-90:-30]"
   ]
  },
  {
   "cell_type": "code",
   "execution_count": 68,
   "metadata": {},
   "outputs": [
    {
     "data": {
      "application/vnd.plotly.v1+json": {
       "config": {
        "plotlyServerURL": "https://plot.ly"
       },
       "data": [
        {
         "hovertemplate": "variable=y<br>ds=%{x}<br>value=%{y}<extra></extra>",
         "legendgroup": "y",
         "line": {
          "color": "#636efa",
          "dash": "solid"
         },
         "marker": {
          "symbol": "circle"
         },
         "mode": "lines",
         "name": "y",
         "orientation": "v",
         "showlegend": true,
         "type": "scatter",
         "x": [
          "2024-06-15T00:00:00",
          "2024-06-16T00:00:00",
          "2024-06-17T00:00:00",
          "2024-06-18T00:00:00",
          "2024-06-19T00:00:00",
          "2024-06-20T00:00:00",
          "2024-06-21T00:00:00",
          "2024-06-22T00:00:00",
          "2024-06-23T00:00:00",
          "2024-06-24T00:00:00",
          "2024-06-25T00:00:00",
          "2024-06-26T00:00:00",
          "2024-06-27T00:00:00",
          "2024-06-28T00:00:00",
          "2024-06-29T00:00:00",
          "2024-06-30T00:00:00",
          "2024-07-01T00:00:00",
          "2024-07-02T00:00:00",
          "2024-07-03T00:00:00",
          "2024-07-04T00:00:00",
          "2024-07-05T00:00:00",
          "2024-07-06T00:00:00",
          "2024-07-07T00:00:00",
          "2024-07-08T00:00:00",
          "2024-07-09T00:00:00",
          "2024-07-10T00:00:00",
          "2024-07-11T00:00:00",
          "2024-07-12T00:00:00",
          "2024-07-13T00:00:00",
          "2024-07-14T00:00:00",
          "2024-07-15T00:00:00",
          "2024-07-16T00:00:00",
          "2024-07-17T00:00:00",
          "2024-07-18T00:00:00",
          "2024-07-19T00:00:00",
          "2024-07-20T00:00:00",
          "2024-07-21T00:00:00",
          "2024-07-22T00:00:00",
          "2024-07-23T00:00:00",
          "2024-07-24T00:00:00",
          "2024-07-25T00:00:00",
          "2024-07-26T00:00:00",
          "2024-07-27T00:00:00",
          "2024-07-28T00:00:00",
          "2024-07-29T00:00:00",
          "2024-07-30T00:00:00",
          "2024-07-31T00:00:00",
          "2024-08-01T00:00:00",
          "2024-08-02T00:00:00",
          "2024-08-03T00:00:00",
          "2024-08-04T00:00:00",
          "2024-08-05T00:00:00",
          "2024-08-06T00:00:00",
          "2024-08-07T00:00:00",
          "2024-08-08T00:00:00",
          "2024-08-09T00:00:00",
          "2024-08-10T00:00:00",
          "2024-08-11T00:00:00",
          "2024-08-12T00:00:00",
          "2024-08-13T00:00:00",
          "2024-08-14T00:00:00",
          "2024-08-15T00:00:00",
          "2024-08-16T00:00:00",
          "2024-08-17T00:00:00",
          "2024-08-18T00:00:00",
          "2024-08-19T00:00:00",
          "2024-08-20T00:00:00",
          "2024-08-21T00:00:00",
          "2024-08-22T00:00:00",
          "2024-08-23T00:00:00",
          "2024-08-24T00:00:00",
          "2024-08-25T00:00:00",
          "2024-08-26T00:00:00",
          "2024-08-27T00:00:00",
          "2024-08-28T00:00:00",
          "2024-08-29T00:00:00",
          "2024-08-30T00:00:00",
          "2024-08-31T00:00:00",
          "2024-09-01T00:00:00",
          "2024-09-02T00:00:00",
          "2024-09-03T00:00:00",
          "2024-09-04T00:00:00",
          "2024-09-05T00:00:00",
          "2024-09-06T00:00:00",
          "2024-09-07T00:00:00",
          "2024-09-08T00:00:00",
          "2024-09-09T00:00:00",
          "2024-09-10T00:00:00",
          "2024-09-11T00:00:00",
          "2024-09-12T00:00:00",
          "2024-09-13T00:00:00",
          "2024-09-14T00:00:00",
          "2024-09-15T00:00:00",
          "2024-09-16T00:00:00",
          "2024-09-17T00:00:00",
          "2024-09-18T00:00:00",
          "2024-09-19T00:00:00",
          "2024-09-20T00:00:00",
          "2024-09-21T00:00:00",
          "2024-09-22T00:00:00",
          "2024-09-23T00:00:00",
          "2024-09-24T00:00:00",
          "2024-09-25T00:00:00",
          "2024-09-26T00:00:00",
          "2024-09-27T00:00:00",
          "2024-09-28T00:00:00",
          "2024-09-29T00:00:00",
          "2024-09-30T00:00:00",
          "2024-10-01T00:00:00",
          "2024-10-02T00:00:00",
          "2024-10-03T00:00:00",
          "2024-10-04T00:00:00",
          "2024-10-05T00:00:00",
          "2024-10-06T00:00:00",
          "2024-10-07T00:00:00",
          "2024-10-08T00:00:00",
          "2024-10-09T00:00:00",
          "2024-10-10T00:00:00",
          "2024-10-11T00:00:00",
          "2024-10-12T00:00:00",
          "2024-10-13T00:00:00",
          "2024-10-14T00:00:00",
          "2024-10-15T00:00:00",
          "2024-10-16T00:00:00",
          "2024-10-17T00:00:00",
          "2024-10-18T00:00:00",
          "2024-10-19T00:00:00",
          "2024-10-20T00:00:00",
          "2024-10-21T00:00:00"
         ],
         "xaxis": "x",
         "y": [
          0,
          0,
          0,
          0,
          0,
          0,
          0,
          0,
          0,
          0,
          0,
          0,
          0,
          0,
          0,
          0,
          0,
          0,
          0,
          0,
          0,
          0,
          0,
          0,
          0,
          0,
          0,
          0,
          0,
          0,
          0,
          0,
          0,
          0,
          0,
          0,
          0,
          0,
          0,
          0,
          0,
          0,
          0,
          0,
          0,
          0,
          0,
          0,
          0,
          0,
          0,
          0,
          0,
          0,
          0,
          0,
          0,
          0,
          0,
          0,
          0,
          0,
          0,
          0,
          0,
          0,
          0,
          0,
          0,
          1,
          1,
          1,
          1,
          1,
          1,
          1,
          1,
          1,
          1,
          1,
          1,
          1,
          1,
          1,
          1,
          1,
          1,
          1,
          1,
          1,
          1,
          1,
          1,
          1,
          1,
          1,
          1,
          1,
          1,
          1,
          1,
          1,
          1,
          1,
          1,
          1,
          1,
          1,
          1,
          1,
          1,
          1,
          1,
          1,
          1,
          1,
          1,
          1,
          1,
          1,
          1,
          1,
          1,
          1,
          1,
          1,
          1,
          1,
          1
         ],
         "yaxis": "y"
        }
       ],
       "layout": {
        "legend": {
         "title": {
          "text": "variable"
         },
         "tracegroupgap": 0
        },
        "margin": {
         "t": 60
        },
        "template": {
         "data": {
          "bar": [
           {
            "error_x": {
             "color": "#2a3f5f"
            },
            "error_y": {
             "color": "#2a3f5f"
            },
            "marker": {
             "line": {
              "color": "#E5ECF6",
              "width": 0.5
             },
             "pattern": {
              "fillmode": "overlay",
              "size": 10,
              "solidity": 0.2
             }
            },
            "type": "bar"
           }
          ],
          "barpolar": [
           {
            "marker": {
             "line": {
              "color": "#E5ECF6",
              "width": 0.5
             },
             "pattern": {
              "fillmode": "overlay",
              "size": 10,
              "solidity": 0.2
             }
            },
            "type": "barpolar"
           }
          ],
          "carpet": [
           {
            "aaxis": {
             "endlinecolor": "#2a3f5f",
             "gridcolor": "white",
             "linecolor": "white",
             "minorgridcolor": "white",
             "startlinecolor": "#2a3f5f"
            },
            "baxis": {
             "endlinecolor": "#2a3f5f",
             "gridcolor": "white",
             "linecolor": "white",
             "minorgridcolor": "white",
             "startlinecolor": "#2a3f5f"
            },
            "type": "carpet"
           }
          ],
          "choropleth": [
           {
            "colorbar": {
             "outlinewidth": 0,
             "ticks": ""
            },
            "type": "choropleth"
           }
          ],
          "contour": [
           {
            "colorbar": {
             "outlinewidth": 0,
             "ticks": ""
            },
            "colorscale": [
             [
              0,
              "#0d0887"
             ],
             [
              0.1111111111111111,
              "#46039f"
             ],
             [
              0.2222222222222222,
              "#7201a8"
             ],
             [
              0.3333333333333333,
              "#9c179e"
             ],
             [
              0.4444444444444444,
              "#bd3786"
             ],
             [
              0.5555555555555556,
              "#d8576b"
             ],
             [
              0.6666666666666666,
              "#ed7953"
             ],
             [
              0.7777777777777778,
              "#fb9f3a"
             ],
             [
              0.8888888888888888,
              "#fdca26"
             ],
             [
              1,
              "#f0f921"
             ]
            ],
            "type": "contour"
           }
          ],
          "contourcarpet": [
           {
            "colorbar": {
             "outlinewidth": 0,
             "ticks": ""
            },
            "type": "contourcarpet"
           }
          ],
          "heatmap": [
           {
            "colorbar": {
             "outlinewidth": 0,
             "ticks": ""
            },
            "colorscale": [
             [
              0,
              "#0d0887"
             ],
             [
              0.1111111111111111,
              "#46039f"
             ],
             [
              0.2222222222222222,
              "#7201a8"
             ],
             [
              0.3333333333333333,
              "#9c179e"
             ],
             [
              0.4444444444444444,
              "#bd3786"
             ],
             [
              0.5555555555555556,
              "#d8576b"
             ],
             [
              0.6666666666666666,
              "#ed7953"
             ],
             [
              0.7777777777777778,
              "#fb9f3a"
             ],
             [
              0.8888888888888888,
              "#fdca26"
             ],
             [
              1,
              "#f0f921"
             ]
            ],
            "type": "heatmap"
           }
          ],
          "heatmapgl": [
           {
            "colorbar": {
             "outlinewidth": 0,
             "ticks": ""
            },
            "colorscale": [
             [
              0,
              "#0d0887"
             ],
             [
              0.1111111111111111,
              "#46039f"
             ],
             [
              0.2222222222222222,
              "#7201a8"
             ],
             [
              0.3333333333333333,
              "#9c179e"
             ],
             [
              0.4444444444444444,
              "#bd3786"
             ],
             [
              0.5555555555555556,
              "#d8576b"
             ],
             [
              0.6666666666666666,
              "#ed7953"
             ],
             [
              0.7777777777777778,
              "#fb9f3a"
             ],
             [
              0.8888888888888888,
              "#fdca26"
             ],
             [
              1,
              "#f0f921"
             ]
            ],
            "type": "heatmapgl"
           }
          ],
          "histogram": [
           {
            "marker": {
             "pattern": {
              "fillmode": "overlay",
              "size": 10,
              "solidity": 0.2
             }
            },
            "type": "histogram"
           }
          ],
          "histogram2d": [
           {
            "colorbar": {
             "outlinewidth": 0,
             "ticks": ""
            },
            "colorscale": [
             [
              0,
              "#0d0887"
             ],
             [
              0.1111111111111111,
              "#46039f"
             ],
             [
              0.2222222222222222,
              "#7201a8"
             ],
             [
              0.3333333333333333,
              "#9c179e"
             ],
             [
              0.4444444444444444,
              "#bd3786"
             ],
             [
              0.5555555555555556,
              "#d8576b"
             ],
             [
              0.6666666666666666,
              "#ed7953"
             ],
             [
              0.7777777777777778,
              "#fb9f3a"
             ],
             [
              0.8888888888888888,
              "#fdca26"
             ],
             [
              1,
              "#f0f921"
             ]
            ],
            "type": "histogram2d"
           }
          ],
          "histogram2dcontour": [
           {
            "colorbar": {
             "outlinewidth": 0,
             "ticks": ""
            },
            "colorscale": [
             [
              0,
              "#0d0887"
             ],
             [
              0.1111111111111111,
              "#46039f"
             ],
             [
              0.2222222222222222,
              "#7201a8"
             ],
             [
              0.3333333333333333,
              "#9c179e"
             ],
             [
              0.4444444444444444,
              "#bd3786"
             ],
             [
              0.5555555555555556,
              "#d8576b"
             ],
             [
              0.6666666666666666,
              "#ed7953"
             ],
             [
              0.7777777777777778,
              "#fb9f3a"
             ],
             [
              0.8888888888888888,
              "#fdca26"
             ],
             [
              1,
              "#f0f921"
             ]
            ],
            "type": "histogram2dcontour"
           }
          ],
          "mesh3d": [
           {
            "colorbar": {
             "outlinewidth": 0,
             "ticks": ""
            },
            "type": "mesh3d"
           }
          ],
          "parcoords": [
           {
            "line": {
             "colorbar": {
              "outlinewidth": 0,
              "ticks": ""
             }
            },
            "type": "parcoords"
           }
          ],
          "pie": [
           {
            "automargin": true,
            "type": "pie"
           }
          ],
          "scatter": [
           {
            "fillpattern": {
             "fillmode": "overlay",
             "size": 10,
             "solidity": 0.2
            },
            "type": "scatter"
           }
          ],
          "scatter3d": [
           {
            "line": {
             "colorbar": {
              "outlinewidth": 0,
              "ticks": ""
             }
            },
            "marker": {
             "colorbar": {
              "outlinewidth": 0,
              "ticks": ""
             }
            },
            "type": "scatter3d"
           }
          ],
          "scattercarpet": [
           {
            "marker": {
             "colorbar": {
              "outlinewidth": 0,
              "ticks": ""
             }
            },
            "type": "scattercarpet"
           }
          ],
          "scattergeo": [
           {
            "marker": {
             "colorbar": {
              "outlinewidth": 0,
              "ticks": ""
             }
            },
            "type": "scattergeo"
           }
          ],
          "scattergl": [
           {
            "marker": {
             "colorbar": {
              "outlinewidth": 0,
              "ticks": ""
             }
            },
            "type": "scattergl"
           }
          ],
          "scattermapbox": [
           {
            "marker": {
             "colorbar": {
              "outlinewidth": 0,
              "ticks": ""
             }
            },
            "type": "scattermapbox"
           }
          ],
          "scatterpolar": [
           {
            "marker": {
             "colorbar": {
              "outlinewidth": 0,
              "ticks": ""
             }
            },
            "type": "scatterpolar"
           }
          ],
          "scatterpolargl": [
           {
            "marker": {
             "colorbar": {
              "outlinewidth": 0,
              "ticks": ""
             }
            },
            "type": "scatterpolargl"
           }
          ],
          "scatterternary": [
           {
            "marker": {
             "colorbar": {
              "outlinewidth": 0,
              "ticks": ""
             }
            },
            "type": "scatterternary"
           }
          ],
          "surface": [
           {
            "colorbar": {
             "outlinewidth": 0,
             "ticks": ""
            },
            "colorscale": [
             [
              0,
              "#0d0887"
             ],
             [
              0.1111111111111111,
              "#46039f"
             ],
             [
              0.2222222222222222,
              "#7201a8"
             ],
             [
              0.3333333333333333,
              "#9c179e"
             ],
             [
              0.4444444444444444,
              "#bd3786"
             ],
             [
              0.5555555555555556,
              "#d8576b"
             ],
             [
              0.6666666666666666,
              "#ed7953"
             ],
             [
              0.7777777777777778,
              "#fb9f3a"
             ],
             [
              0.8888888888888888,
              "#fdca26"
             ],
             [
              1,
              "#f0f921"
             ]
            ],
            "type": "surface"
           }
          ],
          "table": [
           {
            "cells": {
             "fill": {
              "color": "#EBF0F8"
             },
             "line": {
              "color": "white"
             }
            },
            "header": {
             "fill": {
              "color": "#C8D4E3"
             },
             "line": {
              "color": "white"
             }
            },
            "type": "table"
           }
          ]
         },
         "layout": {
          "annotationdefaults": {
           "arrowcolor": "#2a3f5f",
           "arrowhead": 0,
           "arrowwidth": 1
          },
          "autotypenumbers": "strict",
          "coloraxis": {
           "colorbar": {
            "outlinewidth": 0,
            "ticks": ""
           }
          },
          "colorscale": {
           "diverging": [
            [
             0,
             "#8e0152"
            ],
            [
             0.1,
             "#c51b7d"
            ],
            [
             0.2,
             "#de77ae"
            ],
            [
             0.3,
             "#f1b6da"
            ],
            [
             0.4,
             "#fde0ef"
            ],
            [
             0.5,
             "#f7f7f7"
            ],
            [
             0.6,
             "#e6f5d0"
            ],
            [
             0.7,
             "#b8e186"
            ],
            [
             0.8,
             "#7fbc41"
            ],
            [
             0.9,
             "#4d9221"
            ],
            [
             1,
             "#276419"
            ]
           ],
           "sequential": [
            [
             0,
             "#0d0887"
            ],
            [
             0.1111111111111111,
             "#46039f"
            ],
            [
             0.2222222222222222,
             "#7201a8"
            ],
            [
             0.3333333333333333,
             "#9c179e"
            ],
            [
             0.4444444444444444,
             "#bd3786"
            ],
            [
             0.5555555555555556,
             "#d8576b"
            ],
            [
             0.6666666666666666,
             "#ed7953"
            ],
            [
             0.7777777777777778,
             "#fb9f3a"
            ],
            [
             0.8888888888888888,
             "#fdca26"
            ],
            [
             1,
             "#f0f921"
            ]
           ],
           "sequentialminus": [
            [
             0,
             "#0d0887"
            ],
            [
             0.1111111111111111,
             "#46039f"
            ],
            [
             0.2222222222222222,
             "#7201a8"
            ],
            [
             0.3333333333333333,
             "#9c179e"
            ],
            [
             0.4444444444444444,
             "#bd3786"
            ],
            [
             0.5555555555555556,
             "#d8576b"
            ],
            [
             0.6666666666666666,
             "#ed7953"
            ],
            [
             0.7777777777777778,
             "#fb9f3a"
            ],
            [
             0.8888888888888888,
             "#fdca26"
            ],
            [
             1,
             "#f0f921"
            ]
           ]
          },
          "colorway": [
           "#636efa",
           "#EF553B",
           "#00cc96",
           "#ab63fa",
           "#FFA15A",
           "#19d3f3",
           "#FF6692",
           "#B6E880",
           "#FF97FF",
           "#FECB52"
          ],
          "font": {
           "color": "#2a3f5f"
          },
          "geo": {
           "bgcolor": "white",
           "lakecolor": "white",
           "landcolor": "#E5ECF6",
           "showlakes": true,
           "showland": true,
           "subunitcolor": "white"
          },
          "hoverlabel": {
           "align": "left"
          },
          "hovermode": "closest",
          "mapbox": {
           "style": "light"
          },
          "paper_bgcolor": "white",
          "plot_bgcolor": "#E5ECF6",
          "polar": {
           "angularaxis": {
            "gridcolor": "white",
            "linecolor": "white",
            "ticks": ""
           },
           "bgcolor": "#E5ECF6",
           "radialaxis": {
            "gridcolor": "white",
            "linecolor": "white",
            "ticks": ""
           }
          },
          "scene": {
           "xaxis": {
            "backgroundcolor": "#E5ECF6",
            "gridcolor": "white",
            "gridwidth": 2,
            "linecolor": "white",
            "showbackground": true,
            "ticks": "",
            "zerolinecolor": "white"
           },
           "yaxis": {
            "backgroundcolor": "#E5ECF6",
            "gridcolor": "white",
            "gridwidth": 2,
            "linecolor": "white",
            "showbackground": true,
            "ticks": "",
            "zerolinecolor": "white"
           },
           "zaxis": {
            "backgroundcolor": "#E5ECF6",
            "gridcolor": "white",
            "gridwidth": 2,
            "linecolor": "white",
            "showbackground": true,
            "ticks": "",
            "zerolinecolor": "white"
           }
          },
          "shapedefaults": {
           "line": {
            "color": "#2a3f5f"
           }
          },
          "ternary": {
           "aaxis": {
            "gridcolor": "white",
            "linecolor": "white",
            "ticks": ""
           },
           "baxis": {
            "gridcolor": "white",
            "linecolor": "white",
            "ticks": ""
           },
           "bgcolor": "#E5ECF6",
           "caxis": {
            "gridcolor": "white",
            "linecolor": "white",
            "ticks": ""
           }
          },
          "title": {
           "x": 0.05
          },
          "xaxis": {
           "automargin": true,
           "gridcolor": "white",
           "linecolor": "white",
           "ticks": "",
           "title": {
            "standoff": 15
           },
           "zerolinecolor": "white",
           "zerolinewidth": 2
          },
          "yaxis": {
           "automargin": true,
           "gridcolor": "white",
           "linecolor": "white",
           "ticks": "",
           "title": {
            "standoff": 15
           },
           "zerolinecolor": "white",
           "zerolinewidth": 2
          }
         }
        },
        "xaxis": {
         "anchor": "y",
         "domain": [
          0,
          1
         ],
         "title": {
          "text": "ds"
         }
        },
        "yaxis": {
         "anchor": "x",
         "domain": [
          0,
          1
         ],
         "title": {
          "text": "value"
         }
        }
       }
      }
     },
     "metadata": {},
     "output_type": "display_data"
    }
   ],
   "source": [
    "forecast_df.groupby('ds')['y'].apply(lambda x: pd.isna(x).sum()).plot()"
   ]
  },
  {
   "cell_type": "code",
   "execution_count": 69,
   "metadata": {},
   "outputs": [
    {
     "data": {
      "application/vnd.plotly.v1+json": {
       "config": {
        "plotlyServerURL": "https://plot.ly"
       },
       "data": [
        {
         "hovertemplate": "variable=CatBoostRegressor<br>ds=%{x}<br>value=%{y}<extra></extra>",
         "legendgroup": "CatBoostRegressor",
         "line": {
          "color": "#636efa",
          "dash": "solid"
         },
         "marker": {
          "symbol": "circle"
         },
         "mode": "lines",
         "name": "CatBoostRegressor",
         "orientation": "v",
         "showlegend": true,
         "type": "scatter",
         "x": [
          "2024-06-15T00:00:00",
          "2024-06-16T00:00:00",
          "2024-06-17T00:00:00",
          "2024-06-18T00:00:00",
          "2024-06-19T00:00:00",
          "2024-06-20T00:00:00",
          "2024-06-21T00:00:00",
          "2024-06-22T00:00:00",
          "2024-06-23T00:00:00",
          "2024-06-24T00:00:00",
          "2024-06-25T00:00:00",
          "2024-06-26T00:00:00",
          "2024-06-27T00:00:00",
          "2024-06-28T00:00:00",
          "2024-06-29T00:00:00",
          "2024-06-30T00:00:00",
          "2024-07-01T00:00:00",
          "2024-07-02T00:00:00",
          "2024-07-03T00:00:00",
          "2024-07-04T00:00:00",
          "2024-07-05T00:00:00",
          "2024-07-06T00:00:00",
          "2024-07-07T00:00:00",
          "2024-07-08T00:00:00",
          "2024-07-09T00:00:00",
          "2024-07-10T00:00:00",
          "2024-07-11T00:00:00",
          "2024-07-12T00:00:00",
          "2024-07-13T00:00:00",
          "2024-07-14T00:00:00",
          "2024-07-15T00:00:00",
          "2024-07-16T00:00:00",
          "2024-07-17T00:00:00",
          "2024-07-18T00:00:00",
          "2024-07-19T00:00:00",
          "2024-07-20T00:00:00",
          "2024-07-21T00:00:00",
          "2024-07-22T00:00:00",
          "2024-07-23T00:00:00",
          "2024-07-24T00:00:00",
          "2024-07-25T00:00:00",
          "2024-07-26T00:00:00",
          "2024-07-27T00:00:00",
          "2024-07-28T00:00:00",
          "2024-07-29T00:00:00",
          "2024-07-30T00:00:00",
          "2024-07-31T00:00:00",
          "2024-08-01T00:00:00",
          "2024-08-02T00:00:00",
          "2024-08-03T00:00:00",
          "2024-08-04T00:00:00",
          "2024-08-05T00:00:00",
          "2024-08-06T00:00:00",
          "2024-08-07T00:00:00",
          "2024-08-08T00:00:00",
          "2024-08-09T00:00:00",
          "2024-08-10T00:00:00",
          "2024-08-11T00:00:00",
          "2024-08-12T00:00:00",
          "2024-08-13T00:00:00",
          "2024-08-14T00:00:00",
          "2024-08-15T00:00:00",
          "2024-08-16T00:00:00",
          "2024-08-17T00:00:00",
          "2024-08-18T00:00:00",
          "2024-08-19T00:00:00",
          "2024-08-20T00:00:00",
          "2024-08-21T00:00:00",
          "2024-08-22T00:00:00",
          "2024-08-23T00:00:00",
          "2024-08-24T00:00:00",
          "2024-08-25T00:00:00",
          "2024-08-26T00:00:00",
          "2024-08-27T00:00:00",
          "2024-08-28T00:00:00",
          "2024-08-29T00:00:00",
          "2024-08-30T00:00:00",
          "2024-08-31T00:00:00",
          "2024-09-01T00:00:00",
          "2024-09-02T00:00:00",
          "2024-09-03T00:00:00",
          "2024-09-04T00:00:00",
          "2024-09-05T00:00:00",
          "2024-09-06T00:00:00",
          "2024-09-07T00:00:00",
          "2024-09-08T00:00:00",
          "2024-09-09T00:00:00",
          "2024-09-10T00:00:00",
          "2024-09-11T00:00:00",
          "2024-09-12T00:00:00",
          "2024-09-13T00:00:00",
          "2024-09-14T00:00:00",
          "2024-09-15T00:00:00",
          "2024-09-16T00:00:00",
          "2024-09-17T00:00:00",
          "2024-09-18T00:00:00",
          "2024-09-19T00:00:00",
          "2024-09-20T00:00:00",
          "2024-09-21T00:00:00",
          "2024-09-22T00:00:00",
          "2024-09-23T00:00:00",
          "2024-09-24T00:00:00",
          "2024-09-25T00:00:00",
          "2024-09-26T00:00:00",
          "2024-09-27T00:00:00",
          "2024-09-28T00:00:00",
          "2024-09-29T00:00:00",
          "2024-09-30T00:00:00",
          "2024-10-01T00:00:00",
          "2024-10-02T00:00:00",
          "2024-10-03T00:00:00",
          "2024-10-04T00:00:00",
          "2024-10-05T00:00:00",
          "2024-10-06T00:00:00",
          "2024-10-07T00:00:00",
          "2024-10-08T00:00:00",
          "2024-10-09T00:00:00",
          "2024-10-10T00:00:00",
          "2024-10-11T00:00:00",
          "2024-10-12T00:00:00",
          "2024-10-13T00:00:00",
          "2024-10-14T00:00:00",
          "2024-10-15T00:00:00",
          "2024-10-16T00:00:00",
          "2024-10-17T00:00:00",
          "2024-10-18T00:00:00",
          "2024-10-19T00:00:00",
          "2024-10-20T00:00:00",
          "2024-10-21T00:00:00"
         ],
         "xaxis": "x",
         "y": [
          1,
          1,
          1,
          1,
          1,
          1,
          1,
          1,
          1,
          1,
          1,
          1,
          1,
          1,
          1,
          1,
          1,
          1,
          1,
          1,
          1,
          1,
          1,
          1,
          1,
          1,
          1,
          1,
          1,
          1,
          1,
          1,
          1,
          1,
          1,
          1,
          1,
          1,
          1,
          1,
          1,
          1,
          1,
          1,
          1,
          1,
          1,
          1,
          1,
          1,
          1,
          1,
          1,
          1,
          1,
          1,
          1,
          1,
          1,
          1,
          1,
          1,
          1,
          1,
          1,
          1,
          1,
          1,
          1,
          0,
          0,
          0,
          0,
          0,
          0,
          0,
          0,
          0,
          0,
          0,
          0,
          0,
          0,
          0,
          0,
          0,
          0,
          0,
          0,
          0,
          0,
          0,
          0,
          0,
          0,
          0,
          0,
          0,
          0,
          0,
          0,
          0,
          0,
          0,
          0,
          0,
          0,
          0,
          0,
          0,
          0,
          0,
          0,
          0,
          0,
          0,
          0,
          0,
          0,
          0,
          0,
          0,
          0,
          0,
          0,
          0,
          0,
          0,
          0
         ],
         "yaxis": "y"
        }
       ],
       "layout": {
        "legend": {
         "title": {
          "text": "variable"
         },
         "tracegroupgap": 0
        },
        "margin": {
         "t": 60
        },
        "template": {
         "data": {
          "bar": [
           {
            "error_x": {
             "color": "#2a3f5f"
            },
            "error_y": {
             "color": "#2a3f5f"
            },
            "marker": {
             "line": {
              "color": "#E5ECF6",
              "width": 0.5
             },
             "pattern": {
              "fillmode": "overlay",
              "size": 10,
              "solidity": 0.2
             }
            },
            "type": "bar"
           }
          ],
          "barpolar": [
           {
            "marker": {
             "line": {
              "color": "#E5ECF6",
              "width": 0.5
             },
             "pattern": {
              "fillmode": "overlay",
              "size": 10,
              "solidity": 0.2
             }
            },
            "type": "barpolar"
           }
          ],
          "carpet": [
           {
            "aaxis": {
             "endlinecolor": "#2a3f5f",
             "gridcolor": "white",
             "linecolor": "white",
             "minorgridcolor": "white",
             "startlinecolor": "#2a3f5f"
            },
            "baxis": {
             "endlinecolor": "#2a3f5f",
             "gridcolor": "white",
             "linecolor": "white",
             "minorgridcolor": "white",
             "startlinecolor": "#2a3f5f"
            },
            "type": "carpet"
           }
          ],
          "choropleth": [
           {
            "colorbar": {
             "outlinewidth": 0,
             "ticks": ""
            },
            "type": "choropleth"
           }
          ],
          "contour": [
           {
            "colorbar": {
             "outlinewidth": 0,
             "ticks": ""
            },
            "colorscale": [
             [
              0,
              "#0d0887"
             ],
             [
              0.1111111111111111,
              "#46039f"
             ],
             [
              0.2222222222222222,
              "#7201a8"
             ],
             [
              0.3333333333333333,
              "#9c179e"
             ],
             [
              0.4444444444444444,
              "#bd3786"
             ],
             [
              0.5555555555555556,
              "#d8576b"
             ],
             [
              0.6666666666666666,
              "#ed7953"
             ],
             [
              0.7777777777777778,
              "#fb9f3a"
             ],
             [
              0.8888888888888888,
              "#fdca26"
             ],
             [
              1,
              "#f0f921"
             ]
            ],
            "type": "contour"
           }
          ],
          "contourcarpet": [
           {
            "colorbar": {
             "outlinewidth": 0,
             "ticks": ""
            },
            "type": "contourcarpet"
           }
          ],
          "heatmap": [
           {
            "colorbar": {
             "outlinewidth": 0,
             "ticks": ""
            },
            "colorscale": [
             [
              0,
              "#0d0887"
             ],
             [
              0.1111111111111111,
              "#46039f"
             ],
             [
              0.2222222222222222,
              "#7201a8"
             ],
             [
              0.3333333333333333,
              "#9c179e"
             ],
             [
              0.4444444444444444,
              "#bd3786"
             ],
             [
              0.5555555555555556,
              "#d8576b"
             ],
             [
              0.6666666666666666,
              "#ed7953"
             ],
             [
              0.7777777777777778,
              "#fb9f3a"
             ],
             [
              0.8888888888888888,
              "#fdca26"
             ],
             [
              1,
              "#f0f921"
             ]
            ],
            "type": "heatmap"
           }
          ],
          "heatmapgl": [
           {
            "colorbar": {
             "outlinewidth": 0,
             "ticks": ""
            },
            "colorscale": [
             [
              0,
              "#0d0887"
             ],
             [
              0.1111111111111111,
              "#46039f"
             ],
             [
              0.2222222222222222,
              "#7201a8"
             ],
             [
              0.3333333333333333,
              "#9c179e"
             ],
             [
              0.4444444444444444,
              "#bd3786"
             ],
             [
              0.5555555555555556,
              "#d8576b"
             ],
             [
              0.6666666666666666,
              "#ed7953"
             ],
             [
              0.7777777777777778,
              "#fb9f3a"
             ],
             [
              0.8888888888888888,
              "#fdca26"
             ],
             [
              1,
              "#f0f921"
             ]
            ],
            "type": "heatmapgl"
           }
          ],
          "histogram": [
           {
            "marker": {
             "pattern": {
              "fillmode": "overlay",
              "size": 10,
              "solidity": 0.2
             }
            },
            "type": "histogram"
           }
          ],
          "histogram2d": [
           {
            "colorbar": {
             "outlinewidth": 0,
             "ticks": ""
            },
            "colorscale": [
             [
              0,
              "#0d0887"
             ],
             [
              0.1111111111111111,
              "#46039f"
             ],
             [
              0.2222222222222222,
              "#7201a8"
             ],
             [
              0.3333333333333333,
              "#9c179e"
             ],
             [
              0.4444444444444444,
              "#bd3786"
             ],
             [
              0.5555555555555556,
              "#d8576b"
             ],
             [
              0.6666666666666666,
              "#ed7953"
             ],
             [
              0.7777777777777778,
              "#fb9f3a"
             ],
             [
              0.8888888888888888,
              "#fdca26"
             ],
             [
              1,
              "#f0f921"
             ]
            ],
            "type": "histogram2d"
           }
          ],
          "histogram2dcontour": [
           {
            "colorbar": {
             "outlinewidth": 0,
             "ticks": ""
            },
            "colorscale": [
             [
              0,
              "#0d0887"
             ],
             [
              0.1111111111111111,
              "#46039f"
             ],
             [
              0.2222222222222222,
              "#7201a8"
             ],
             [
              0.3333333333333333,
              "#9c179e"
             ],
             [
              0.4444444444444444,
              "#bd3786"
             ],
             [
              0.5555555555555556,
              "#d8576b"
             ],
             [
              0.6666666666666666,
              "#ed7953"
             ],
             [
              0.7777777777777778,
              "#fb9f3a"
             ],
             [
              0.8888888888888888,
              "#fdca26"
             ],
             [
              1,
              "#f0f921"
             ]
            ],
            "type": "histogram2dcontour"
           }
          ],
          "mesh3d": [
           {
            "colorbar": {
             "outlinewidth": 0,
             "ticks": ""
            },
            "type": "mesh3d"
           }
          ],
          "parcoords": [
           {
            "line": {
             "colorbar": {
              "outlinewidth": 0,
              "ticks": ""
             }
            },
            "type": "parcoords"
           }
          ],
          "pie": [
           {
            "automargin": true,
            "type": "pie"
           }
          ],
          "scatter": [
           {
            "fillpattern": {
             "fillmode": "overlay",
             "size": 10,
             "solidity": 0.2
            },
            "type": "scatter"
           }
          ],
          "scatter3d": [
           {
            "line": {
             "colorbar": {
              "outlinewidth": 0,
              "ticks": ""
             }
            },
            "marker": {
             "colorbar": {
              "outlinewidth": 0,
              "ticks": ""
             }
            },
            "type": "scatter3d"
           }
          ],
          "scattercarpet": [
           {
            "marker": {
             "colorbar": {
              "outlinewidth": 0,
              "ticks": ""
             }
            },
            "type": "scattercarpet"
           }
          ],
          "scattergeo": [
           {
            "marker": {
             "colorbar": {
              "outlinewidth": 0,
              "ticks": ""
             }
            },
            "type": "scattergeo"
           }
          ],
          "scattergl": [
           {
            "marker": {
             "colorbar": {
              "outlinewidth": 0,
              "ticks": ""
             }
            },
            "type": "scattergl"
           }
          ],
          "scattermapbox": [
           {
            "marker": {
             "colorbar": {
              "outlinewidth": 0,
              "ticks": ""
             }
            },
            "type": "scattermapbox"
           }
          ],
          "scatterpolar": [
           {
            "marker": {
             "colorbar": {
              "outlinewidth": 0,
              "ticks": ""
             }
            },
            "type": "scatterpolar"
           }
          ],
          "scatterpolargl": [
           {
            "marker": {
             "colorbar": {
              "outlinewidth": 0,
              "ticks": ""
             }
            },
            "type": "scatterpolargl"
           }
          ],
          "scatterternary": [
           {
            "marker": {
             "colorbar": {
              "outlinewidth": 0,
              "ticks": ""
             }
            },
            "type": "scatterternary"
           }
          ],
          "surface": [
           {
            "colorbar": {
             "outlinewidth": 0,
             "ticks": ""
            },
            "colorscale": [
             [
              0,
              "#0d0887"
             ],
             [
              0.1111111111111111,
              "#46039f"
             ],
             [
              0.2222222222222222,
              "#7201a8"
             ],
             [
              0.3333333333333333,
              "#9c179e"
             ],
             [
              0.4444444444444444,
              "#bd3786"
             ],
             [
              0.5555555555555556,
              "#d8576b"
             ],
             [
              0.6666666666666666,
              "#ed7953"
             ],
             [
              0.7777777777777778,
              "#fb9f3a"
             ],
             [
              0.8888888888888888,
              "#fdca26"
             ],
             [
              1,
              "#f0f921"
             ]
            ],
            "type": "surface"
           }
          ],
          "table": [
           {
            "cells": {
             "fill": {
              "color": "#EBF0F8"
             },
             "line": {
              "color": "white"
             }
            },
            "header": {
             "fill": {
              "color": "#C8D4E3"
             },
             "line": {
              "color": "white"
             }
            },
            "type": "table"
           }
          ]
         },
         "layout": {
          "annotationdefaults": {
           "arrowcolor": "#2a3f5f",
           "arrowhead": 0,
           "arrowwidth": 1
          },
          "autotypenumbers": "strict",
          "coloraxis": {
           "colorbar": {
            "outlinewidth": 0,
            "ticks": ""
           }
          },
          "colorscale": {
           "diverging": [
            [
             0,
             "#8e0152"
            ],
            [
             0.1,
             "#c51b7d"
            ],
            [
             0.2,
             "#de77ae"
            ],
            [
             0.3,
             "#f1b6da"
            ],
            [
             0.4,
             "#fde0ef"
            ],
            [
             0.5,
             "#f7f7f7"
            ],
            [
             0.6,
             "#e6f5d0"
            ],
            [
             0.7,
             "#b8e186"
            ],
            [
             0.8,
             "#7fbc41"
            ],
            [
             0.9,
             "#4d9221"
            ],
            [
             1,
             "#276419"
            ]
           ],
           "sequential": [
            [
             0,
             "#0d0887"
            ],
            [
             0.1111111111111111,
             "#46039f"
            ],
            [
             0.2222222222222222,
             "#7201a8"
            ],
            [
             0.3333333333333333,
             "#9c179e"
            ],
            [
             0.4444444444444444,
             "#bd3786"
            ],
            [
             0.5555555555555556,
             "#d8576b"
            ],
            [
             0.6666666666666666,
             "#ed7953"
            ],
            [
             0.7777777777777778,
             "#fb9f3a"
            ],
            [
             0.8888888888888888,
             "#fdca26"
            ],
            [
             1,
             "#f0f921"
            ]
           ],
           "sequentialminus": [
            [
             0,
             "#0d0887"
            ],
            [
             0.1111111111111111,
             "#46039f"
            ],
            [
             0.2222222222222222,
             "#7201a8"
            ],
            [
             0.3333333333333333,
             "#9c179e"
            ],
            [
             0.4444444444444444,
             "#bd3786"
            ],
            [
             0.5555555555555556,
             "#d8576b"
            ],
            [
             0.6666666666666666,
             "#ed7953"
            ],
            [
             0.7777777777777778,
             "#fb9f3a"
            ],
            [
             0.8888888888888888,
             "#fdca26"
            ],
            [
             1,
             "#f0f921"
            ]
           ]
          },
          "colorway": [
           "#636efa",
           "#EF553B",
           "#00cc96",
           "#ab63fa",
           "#FFA15A",
           "#19d3f3",
           "#FF6692",
           "#B6E880",
           "#FF97FF",
           "#FECB52"
          ],
          "font": {
           "color": "#2a3f5f"
          },
          "geo": {
           "bgcolor": "white",
           "lakecolor": "white",
           "landcolor": "#E5ECF6",
           "showlakes": true,
           "showland": true,
           "subunitcolor": "white"
          },
          "hoverlabel": {
           "align": "left"
          },
          "hovermode": "closest",
          "mapbox": {
           "style": "light"
          },
          "paper_bgcolor": "white",
          "plot_bgcolor": "#E5ECF6",
          "polar": {
           "angularaxis": {
            "gridcolor": "white",
            "linecolor": "white",
            "ticks": ""
           },
           "bgcolor": "#E5ECF6",
           "radialaxis": {
            "gridcolor": "white",
            "linecolor": "white",
            "ticks": ""
           }
          },
          "scene": {
           "xaxis": {
            "backgroundcolor": "#E5ECF6",
            "gridcolor": "white",
            "gridwidth": 2,
            "linecolor": "white",
            "showbackground": true,
            "ticks": "",
            "zerolinecolor": "white"
           },
           "yaxis": {
            "backgroundcolor": "#E5ECF6",
            "gridcolor": "white",
            "gridwidth": 2,
            "linecolor": "white",
            "showbackground": true,
            "ticks": "",
            "zerolinecolor": "white"
           },
           "zaxis": {
            "backgroundcolor": "#E5ECF6",
            "gridcolor": "white",
            "gridwidth": 2,
            "linecolor": "white",
            "showbackground": true,
            "ticks": "",
            "zerolinecolor": "white"
           }
          },
          "shapedefaults": {
           "line": {
            "color": "#2a3f5f"
           }
          },
          "ternary": {
           "aaxis": {
            "gridcolor": "white",
            "linecolor": "white",
            "ticks": ""
           },
           "baxis": {
            "gridcolor": "white",
            "linecolor": "white",
            "ticks": ""
           },
           "bgcolor": "#E5ECF6",
           "caxis": {
            "gridcolor": "white",
            "linecolor": "white",
            "ticks": ""
           }
          },
          "title": {
           "x": 0.05
          },
          "xaxis": {
           "automargin": true,
           "gridcolor": "white",
           "linecolor": "white",
           "ticks": "",
           "title": {
            "standoff": 15
           },
           "zerolinecolor": "white",
           "zerolinewidth": 2
          },
          "yaxis": {
           "automargin": true,
           "gridcolor": "white",
           "linecolor": "white",
           "ticks": "",
           "title": {
            "standoff": 15
           },
           "zerolinecolor": "white",
           "zerolinewidth": 2
          }
         }
        },
        "xaxis": {
         "anchor": "y",
         "domain": [
          0,
          1
         ],
         "title": {
          "text": "ds"
         }
        },
        "yaxis": {
         "anchor": "x",
         "domain": [
          0,
          1
         ],
         "title": {
          "text": "value"
         }
        }
       }
      }
     },
     "metadata": {},
     "output_type": "display_data"
    }
   ],
   "source": [
    "forecast_df.groupby('ds')['CatBoostRegressor'].apply(lambda x: pd.isna(x).sum()).plot()"
   ]
  }
 ],
 "metadata": {
  "kernelspec": {
   "display_name": ".venv",
   "language": "python",
   "name": "python3"
  },
  "language_info": {
   "codemirror_mode": {
    "name": "ipython",
    "version": 3
   },
   "file_extension": ".py",
   "mimetype": "text/x-python",
   "name": "python",
   "nbconvert_exporter": "python",
   "pygments_lexer": "ipython3",
   "version": "3.10.12"
  }
 },
 "nbformat": 4,
 "nbformat_minor": 2
}
