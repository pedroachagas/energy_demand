{
 "cells": [
  {
   "cell_type": "code",
   "execution_count": 8,
   "metadata": {},
   "outputs": [
    {
     "name": "stdout",
     "output_type": "stream",
     "text": [
      "┌───────────────────┬──────────────────────────┐\n",
      "│     carga_mw      │           data           │\n",
      "│      double       │ timestamp with time zone │\n",
      "├───────────────────┼──────────────────────────┤\n",
      "│       517292.1985 │ 2020-12-31 21:00:00-03   │\n",
      "│       663260.0435 │ 2021-01-01 21:00:00-03   │\n",
      "│       656525.3775 │ 2021-01-02 21:00:00-03   │\n",
      "│       796937.2295 │ 2021-01-03 21:00:00-03   │\n",
      "│        875973.059 │ 2021-01-04 21:00:00-03   │\n",
      "│        915011.111 │ 2021-01-05 21:00:00-03   │\n",
      "│       910762.1215 │ 2021-01-06 21:00:00-03   │\n",
      "│       888382.2145 │ 2021-01-07 21:00:00-03   │\n",
      "│       832799.8905 │ 2021-01-08 21:00:00-03   │\n",
      "│       751290.1805 │ 2021-01-09 21:00:00-03   │\n",
      "│            ·      │           ·              │\n",
      "│            ·      │           ·              │\n",
      "│            ·      │           ·              │\n",
      "│ 868344.0109999999 │ 2024-08-04 21:00:00-03   │\n",
      "│ 908806.9670000001 │ 2024-08-05 21:00:00-03   │\n",
      "│        923834.382 │ 2024-08-06 21:00:00-03   │\n",
      "│       932343.3125 │ 2024-08-07 21:00:00-03   │\n",
      "│        926252.756 │ 2024-08-08 21:00:00-03   │\n",
      "│        795148.516 │ 2024-08-09 21:00:00-03   │\n",
      "│        698073.595 │ 2024-08-10 21:00:00-03   │\n",
      "│        805498.244 │ 2024-08-11 21:00:00-03   │\n",
      "│        844564.077 │ 2024-08-12 21:00:00-03   │\n",
      "│        856677.372 │ 2024-08-13 21:00:00-03   │\n",
      "├───────────────────┴──────────────────────────┤\n",
      "│ 1322 rows (20 shown)               2 columns │\n",
      "└──────────────────────────────────────────────┘\n",
      "\n"
     ]
    }
   ],
   "source": [
    "from adlfs import AzureBlobFileSystem\n",
    "import duckdb\n",
    "import pyarrow.parquet as pq\n",
    "import pyarrow.dataset as ds\n",
    "import os\n",
    "\n",
    "ACC_KEY = os.environ[\"ACC_KEY\"]\n",
    "ACC_NAME = os.environ[\"ACC_NAME\"]\n",
    "CONTAINER_NAME = os.environ[\"CONTEINER\"]\n",
    "FOLDER = os.environ[\"FOLDER\"]\n",
    "FILE_NAME = os.getenv(\"AZURE_FILE_NAME\")\n",
    "\n",
    "path = f\"abfs://{CONTAINER_NAME}/{FOLDER}/{FILE_NAME}\"\n",
    "\n",
    "abfs = AzureBlobFileSystem(\n",
    "    account_name = ACC_NAME,\n",
    "    account_key = ACC_KEY,\n",
    "    container_name = CONTAINER_NAME)\n",
    "\n",
    "pqdata = ds.dataset(path, filesystem=abfs)\n",
    "\n",
    "conn = duckdb.connect(\":memory:\")\n",
    "conn.sql(\"SELECT * from pqdata\").show()"
   ]
  },
  {
   "cell_type": "code",
   "execution_count": 14,
   "metadata": {},
   "outputs": [
    {
     "data": {
      "text/html": [
       "<div>\n",
       "<style scoped>\n",
       "    .dataframe tbody tr th:only-of-type {\n",
       "        vertical-align: middle;\n",
       "    }\n",
       "\n",
       "    .dataframe tbody tr th {\n",
       "        vertical-align: top;\n",
       "    }\n",
       "\n",
       "    .dataframe thead th {\n",
       "        text-align: right;\n",
       "    }\n",
       "</style>\n",
       "<table border=\"1\" class=\"dataframe\">\n",
       "  <thead>\n",
       "    <tr style=\"text-align: right;\">\n",
       "      <th></th>\n",
       "      <th>data</th>\n",
       "      <th>carga_mw</th>\n",
       "    </tr>\n",
       "  </thead>\n",
       "  <tbody>\n",
       "    <tr>\n",
       "      <th>0</th>\n",
       "      <td>2021-01-01 00:00:00+00:00</td>\n",
       "      <td>517292.1985</td>\n",
       "    </tr>\n",
       "    <tr>\n",
       "      <th>1</th>\n",
       "      <td>2021-01-02 00:00:00+00:00</td>\n",
       "      <td>663260.0435</td>\n",
       "    </tr>\n",
       "    <tr>\n",
       "      <th>2</th>\n",
       "      <td>2021-01-03 00:00:00+00:00</td>\n",
       "      <td>656525.3775</td>\n",
       "    </tr>\n",
       "    <tr>\n",
       "      <th>3</th>\n",
       "      <td>2021-01-04 00:00:00+00:00</td>\n",
       "      <td>796937.2295</td>\n",
       "    </tr>\n",
       "    <tr>\n",
       "      <th>4</th>\n",
       "      <td>2021-01-05 00:00:00+00:00</td>\n",
       "      <td>875973.0590</td>\n",
       "    </tr>\n",
       "    <tr>\n",
       "      <th>...</th>\n",
       "      <td>...</td>\n",
       "      <td>...</td>\n",
       "    </tr>\n",
       "    <tr>\n",
       "      <th>1317</th>\n",
       "      <td>2024-08-10 00:00:00+00:00</td>\n",
       "      <td>795148.5160</td>\n",
       "    </tr>\n",
       "    <tr>\n",
       "      <th>1318</th>\n",
       "      <td>2024-08-11 00:00:00+00:00</td>\n",
       "      <td>698073.5950</td>\n",
       "    </tr>\n",
       "    <tr>\n",
       "      <th>1319</th>\n",
       "      <td>2024-08-12 00:00:00+00:00</td>\n",
       "      <td>805498.2440</td>\n",
       "    </tr>\n",
       "    <tr>\n",
       "      <th>1320</th>\n",
       "      <td>2024-08-13 00:00:00+00:00</td>\n",
       "      <td>844564.0770</td>\n",
       "    </tr>\n",
       "    <tr>\n",
       "      <th>1321</th>\n",
       "      <td>2024-08-14 00:00:00+00:00</td>\n",
       "      <td>856677.3720</td>\n",
       "    </tr>\n",
       "  </tbody>\n",
       "</table>\n",
       "<p>1322 rows × 2 columns</p>\n",
       "</div>"
      ],
      "text/plain": [
       "                          data     carga_mw\n",
       "0    2021-01-01 00:00:00+00:00  517292.1985\n",
       "1    2021-01-02 00:00:00+00:00  663260.0435\n",
       "2    2021-01-03 00:00:00+00:00  656525.3775\n",
       "3    2021-01-04 00:00:00+00:00  796937.2295\n",
       "4    2021-01-05 00:00:00+00:00  875973.0590\n",
       "...                        ...          ...\n",
       "1317 2024-08-10 00:00:00+00:00  795148.5160\n",
       "1318 2024-08-11 00:00:00+00:00  698073.5950\n",
       "1319 2024-08-12 00:00:00+00:00  805498.2440\n",
       "1320 2024-08-13 00:00:00+00:00  844564.0770\n",
       "1321 2024-08-14 00:00:00+00:00  856677.3720\n",
       "\n",
       "[1322 rows x 2 columns]"
      ]
     },
     "execution_count": 14,
     "metadata": {},
     "output_type": "execute_result"
    }
   ],
   "source": [
    "# number of days between two dates\n",
    "import pandas as pd\n",
    "\n",
    "df = pqdata.to_table().to_pandas().reset_index()\n",
    "df\n"
   ]
  },
  {
   "cell_type": "code",
   "execution_count": 28,
   "metadata": {},
   "outputs": [
    {
     "name": "stdout",
     "output_type": "stream",
     "text": [
      "There are 1322 days between 2021-01-01 and 2024-08-14\n"
     ]
    }
   ],
   "source": [
    "max_data = df[\"data\"].max()\n",
    "min_data = df[\"data\"].min()\n",
    "\n",
    "delta = max_data - min_data\n",
    "\n",
    "print(f\"There are {delta.days + 1} days between {min_data.date()} and {max_data.date()}\")"
   ]
  }
 ],
 "metadata": {
  "kernelspec": {
   "display_name": ".venv",
   "language": "python",
   "name": "python3"
  },
  "language_info": {
   "codemirror_mode": {
    "name": "ipython",
    "version": 3
   },
   "file_extension": ".py",
   "mimetype": "text/x-python",
   "name": "python",
   "nbconvert_exporter": "python",
   "pygments_lexer": "ipython3",
   "version": "3.10.12"
  }
 },
 "nbformat": 4,
 "nbformat_minor": 2
}
